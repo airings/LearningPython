{
 "cells": [
  {
   "cell_type": "markdown",
   "metadata": {},
   "source": [
    "---\n",
    "\n",
    "_You are currently looking at **version 1.1** of this notebook. To download notebooks and datafiles, as well as get help on Jupyter notebooks in the Coursera platform, visit the [Jupyter Notebook FAQ](https://www.coursera.org/learn/python-data-analysis/resources/0dhYG) course resource._\n",
    "\n",
    "---"
   ]
  },
  {
   "cell_type": "code",
   "execution_count": 93,
   "metadata": {
    "collapsed": true
   },
   "outputs": [],
   "source": [
    "import pandas as pd\n",
    "import numpy as np\n",
    "from scipy.stats import ttest_ind"
   ]
  },
  {
   "cell_type": "markdown",
   "metadata": {},
   "source": [
    "# Assignment 4 - Hypothesis Testing\n",
    "This assignment requires more individual learning than previous assignments - you are encouraged to check out the [pandas documentation](http://pandas.pydata.org/pandas-docs/stable/) to find functions or methods you might not have used yet, or ask questions on [Stack Overflow](http://stackoverflow.com/) and tag them as pandas and python related. And of course, the discussion forums are open for interaction with your peers and the course staff.\n",
    "\n",
    "Definitions:\n",
    "* A _quarter_ is a specific three month period, Q1 is January through March, Q2 is April through June, Q3 is July through September, Q4 is October through December.\n",
    "* A _recession_ is defined as starting with two consecutive quarters of GDP decline, and ending with two consecutive quarters of GDP growth.\n",
    "* A _recession bottom_ is the quarter within a recession which had the lowest GDP.\n",
    "* A _university town_ is a city which has a high percentage of university students compared to the total population of the city.\n",
    "\n",
    "**Hypothesis**: University towns have their mean housing prices less effected by recessions. Run a t-test to compare the ratio of the mean price of houses in university towns the quarter before the recession starts compared to the recession bottom. (`price_ratio=quarter_before_recession/recession_bottom`)\n",
    "\n",
    "The following data files are available for this assignment:\n",
    "* From the [Zillow research data site](http://www.zillow.com/research/data/) there is housing data for the United States. In particular the datafile for [all homes at a city level](http://files.zillowstatic.com/research/public/City/City_Zhvi_AllHomes.csv), ```City_Zhvi_AllHomes.csv```, has median home sale prices at a fine grained level.\n",
    "* From the Wikipedia page on college towns is a list of [university towns in the United States](https://en.wikipedia.org/wiki/List_of_college_towns#College_towns_in_the_United_States) which has been copy and pasted into the file ```university_towns.txt```.\n",
    "* From Bureau of Economic Analysis, US Department of Commerce, the [GDP over time](http://www.bea.gov/national/index.htm#gdp) of the United States in current dollars (use the chained value in 2009 dollars), in quarterly intervals, in the file ```gdplev.xls```. For this assignment, only look at GDP data from the first quarter of 2000 onward.\n",
    "\n",
    "Each function in this assignment below is worth 10%, with the exception of ```run_ttest()```, which is worth 50%."
   ]
  },
  {
   "cell_type": "code",
   "execution_count": 30,
   "metadata": {
    "collapsed": false
   },
   "outputs": [],
   "source": [
    "# Use this dictionary to map state names to two letter acronyms\n",
    "states = {'OH': 'Ohio', 'KY': 'Kentucky', 'AS': 'American Samoa', 'NV': 'Nevada', 'WY': 'Wyoming', 'NA': 'National', 'AL': 'Alabama', 'MD': 'Maryland', 'AK': 'Alaska', 'UT': 'Utah', 'OR': 'Oregon', 'MT': 'Montana', 'IL': 'Illinois', 'TN': 'Tennessee', 'DC': 'District of Columbia', 'VT': 'Vermont', 'ID': 'Idaho', 'AR': 'Arkansas', 'ME': 'Maine', 'WA': 'Washington', 'HI': 'Hawaii', 'WI': 'Wisconsin', 'MI': 'Michigan', 'IN': 'Indiana', 'NJ': 'New Jersey', 'AZ': 'Arizona', 'GU': 'Guam', 'MS': 'Mississippi', 'PR': 'Puerto Rico', 'NC': 'North Carolina', 'TX': 'Texas', 'SD': 'South Dakota', 'MP': 'Northern Mariana Islands', 'IA': 'Iowa', 'MO': 'Missouri', 'CT': 'Connecticut', 'WV': 'West Virginia', 'SC': 'South Carolina', 'LA': 'Louisiana', 'KS': 'Kansas', 'NY': 'New York', 'NE': 'Nebraska', 'OK': 'Oklahoma', 'FL': 'Florida', 'CA': 'California', 'CO': 'Colorado', 'PA': 'Pennsylvania', 'DE': 'Delaware', 'NM': 'New Mexico', 'RI': 'Rhode Island', 'MN': 'Minnesota', 'VI': 'Virgin Islands', 'NH': 'New Hampshire', 'MA': 'Massachusetts', 'GA': 'Georgia', 'ND': 'North Dakota', 'VA': 'Virginia'}"
   ]
  },
  {
   "cell_type": "code",
   "execution_count": 31,
   "metadata": {
    "collapsed": false
   },
   "outputs": [],
   "source": [
    "def get_list_of_university_towns():\n",
    "    '''Returns a DataFrame of towns and the states they are in from the \n",
    "    university_towns.txt list. The format of the DataFrame should be:\n",
    "    DataFrame( [ [\"Michigan\", \"Ann Arbor\"], [\"Michigan\", \"Yipsilanti\"] ], \n",
    "    columns=[\"State\", \"RegionName\"]  )\n",
    "    \n",
    "    The following cleaning needs to be done:\n",
    "\n",
    "    1. For \"State\", removing characters from \"[\" to the end.\n",
    "    2. For \"RegionName\", when applicable, removing every character from \" (\" to the end.\n",
    "    3. Depending on how you read the data, you may need to remove newline character '\\n'. '''\n",
    "    \n",
    "    file = open('university_towns.txt')\n",
    "    list = []\n",
    "    cur_state = ''\n",
    "    for line in file:\n",
    "        state_pos = line.find('[ed')\n",
    "        region_pos = line.find('(')\n",
    "        if state_pos != -1:\n",
    "            cur_state = line[:state_pos].strip()\n",
    "        elif region_pos != -1:\n",
    "            region = line[:region_pos].strip()\n",
    "            list.append((cur_state,region))\n",
    "        else:\n",
    "            list.append((cur_state,line.strip()))\n",
    "    file.close()\n",
    "    df = pd.DataFrame(list, columns=[\"State\", \"RegionName\"])\n",
    "    return df\n",
    "df = get_list_of_university_towns()\n",
    "# df[df.State=='Massachusetts']"
   ]
  },
  {
   "cell_type": "markdown",
   "metadata": {},
   "source": [
    "You can compute the difference between a value and its predecessor in a series using df['diff'] = df['gdp'].diff()\n",
    "\n",
    "use df['diff'] to create gdp_b which is a series with value 0 if GDP difference is less than 0 i.e declines and 1 if GDP difference is greater that 0 i.e increased. does this look familiar? Assignment 3 answer_ten()\n",
    "<code>\n",
    "QTR\n",
    "2000q1    0\n",
    "2000q2    1\n",
    "2000q3    1\n",
    "2000q4    1\n",
    "2001q1    0\n",
    "2001q2    1\n",
    ".......\n",
    "2015q1    1\n",
    "2015q2    1\n",
    "2015q3    1\n",
    "2015q4    1\n",
    "2016q1    1\n",
    "2016q2    1\n",
    "Name: gdp_b, dtype: int64\n",
    "</code>\n",
    "In order to find recession you will be looking for a sequence with 2 or more declines followed by 2 increases in GDP, i.e 0..0011.\n",
    "\n",
    "This sequence can be found in many different ways, here are two\n",
    "\n",
    "1. use a variable to store previous quarter gdp change (prev), and a list to keep track of the possible matching patterns (seq) while looping through gdp_b, the list will be appended and emptied depending on its length of and the current and the previous gdp change. The loop is exited when the second 1 in the sequence is found\n",
    "\n",
    "2. convert the values of the series to a string i.e. ''.join(gdp_b.values) and use str.index() to find the index (ind) of the pattern \"0011\" then use str.rindex() to find the last occurrence of 1 before the pattern \"0011\" occurred, adding one to that will give you the position of the start recession. The recession end index will be ind-len(pattern)-1"
   ]
  },
  {
   "cell_type": "code",
   "execution_count": 32,
   "metadata": {
    "collapsed": false
   },
   "outputs": [
    {
     "data": {
      "text/plain": [
       "'2008q3'"
      ]
     },
     "execution_count": 32,
     "metadata": {},
     "output_type": "execute_result"
    }
   ],
   "source": [
    "def get_recession_start():\n",
    "    '''Returns the year and quarter of the recession start time as a \n",
    "    string value in a format such as 2005q3'''\n",
    "    def increase_two_consecutive_ArrayStartWith(arr):\n",
    "        is_cur_consecu = False\n",
    "        is_pre_consecu = False\n",
    "        pos=0\n",
    "        for inx in range(len(arr) - 1):\n",
    "#       print(inx,arr[inx],is_pre_consecu,is_cur_consecu)\n",
    "            if is_cur_consecu & is_pre_consecu:\n",
    "                pos = arr[inx-2]\n",
    "                break\n",
    "            else:\n",
    "                if arr[inx+1] - arr[inx] == 1:\n",
    "                    is_pre_consecu = is_cur_consecu\n",
    "                    is_cur_consecu = True\n",
    "                else:\n",
    "                    is_cur_consecu = False\n",
    "        return pos   \n",
    "    df = pd.read_excel('gdplev.xls',skiprows=7, parse_cols=[4,5,6],\n",
    "                      names=['Quarter', 'GDP in billions of current dollars', 'GDP in billions of chained 2009 dollars'])\n",
    "    start = df[df.Quarter == '2000q1'].index[0]\n",
    "    df = df.ix[start:]\n",
    "    changes = df['GDP in billions of chained 2009 dollars'].pct_change()\n",
    "#     df['diff'] = df['gdp'].diff()\n",
    "    res_pos = changes[changes<0].index.values\n",
    "    p = increase_two_consecutive_ArrayStartWith(res_pos)\n",
    "    return df.ix[p, 'Quarter']\n",
    "get_recession_start()"
   ]
  },
  {
   "cell_type": "code",
   "execution_count": 33,
   "metadata": {
    "collapsed": false
   },
   "outputs": [
    {
     "data": {
      "text/plain": [
       "'2009q4'"
      ]
     },
     "execution_count": 33,
     "metadata": {},
     "output_type": "execute_result"
    }
   ],
   "source": [
    "def get_recession_end():\n",
    "    '''Returns the year and quarter of the recession end time as a \n",
    "    string value in a format such as 2005q3'''\n",
    "    def increase_two_consecutive_ArrayStartWith(arr):\n",
    "        is_cur_consecu = False\n",
    "        is_pre_consecu = False\n",
    "        pos=0\n",
    "        for inx in range(len(arr) - 1):\n",
    "#             print(inx,arr[inx],is_pre_consecu,is_cur_consecu)\n",
    "            if is_cur_consecu & is_pre_consecu:\n",
    "                pos = arr[inx-1]\n",
    "                break\n",
    "            else:\n",
    "                if arr[inx+1] - arr[inx] == 1:\n",
    "                    is_pre_consecu = is_cur_consecu\n",
    "                    is_cur_consecu = True\n",
    "                else:\n",
    "                    is_cur_consecu = False\n",
    "        return pos   \n",
    "    df = pd.read_excel('gdplev.xls',skiprows=7, parse_cols=[4,5,6],\n",
    "                      names=['Quarter', 'GDP in billions of current dollars', 'GDP in billions of chained 2009 dollars'])\n",
    "    res_start = get_recession_start()\n",
    "    start = df[df.Quarter == res_start].index[0]\n",
    "    df = df.ix[start:]\n",
    "    changes = df['GDP in billions of chained 2009 dollars'].pct_change()\n",
    "#     df['diff'] = df['gdp'].diff()\n",
    "#     print(changes[changes>0])\n",
    "    res_pos = changes[changes>0].index.values\n",
    "#     print(res_pos)\n",
    "    p = increase_two_consecutive_ArrayStartWith(res_pos)\n",
    "#     print(p)\n",
    "    return df.ix[p, 'Quarter']\n",
    "get_recession_end()"
   ]
  },
  {
   "cell_type": "code",
   "execution_count": 34,
   "metadata": {
    "collapsed": false
   },
   "outputs": [
    {
     "data": {
      "text/plain": [
       "'2009q2'"
      ]
     },
     "execution_count": 34,
     "metadata": {},
     "output_type": "execute_result"
    }
   ],
   "source": [
    "def get_recession_bottom():\n",
    "    '''Returns the year and quarter of the recession bottom time as a \n",
    "    string value in a format such as 2005q3'''\n",
    "    df = pd.read_excel('gdplev.xls',skiprows=7, parse_cols=[4,5,6],\n",
    "                      names=['Quarter', 'GDP in billions of current dollars', 'GDP in billions of chained 2009 dollars'])\n",
    "    res_start = get_recession_start()\n",
    "    start = df[df.Quarter == res_start].index[0]\n",
    "    res_end = get_recession_end()\n",
    "    end = df[df.Quarter == res_end].index[0]\n",
    "    df = df.ix[start:end]\n",
    "    bottom_pos = df['GDP in billions of chained 2009 dollars'].argmin()\n",
    "    return df.ix[bottom_pos, 'Quarter']\n",
    "get_recession_bottom()"
   ]
  },
  {
   "cell_type": "code",
   "execution_count": 35,
   "metadata": {
    "collapsed": false
   },
   "outputs": [
    {
     "data": {
      "text/plain": [
       "207066.66666666666"
      ]
     },
     "execution_count": 35,
     "metadata": {},
     "output_type": "execute_result"
    }
   ],
   "source": [
    "def convert_housing_data_to_quarters():\n",
    "    '''Converts the housing data to quarters and returns it as mean \n",
    "    values in a dataframe. This dataframe should be a dataframe with\n",
    "    columns for 2000q1 through 2016q3, and should have a multi-index\n",
    "    in the shape of [\"State\",\"RegionName\"].\n",
    "    \n",
    "    Note: Quarters are defined in the assignment description, they are\n",
    "    not arbitrary three month periods.\n",
    "    \n",
    "    The resulting dataframe should have 67 columns, and 10,730 rows.\n",
    "    '''\n",
    "# http://stackoverflow.com/questions/41661451/pandas-compute-the-half-yearly-average-of-monthly-collected-house-sales\n",
    "    df = pd.read_csv(\"City_Zhvi_AllHomes.csv\")\n",
    "    df['State'] = df['State'].map(states)\n",
    "    columns = [\"State\",\"RegionName\"]\n",
    "    identifier = df[columns]\n",
    "    hos = df[df.columns[6:]]\n",
    "    df = None\n",
    "    hos.columns = pd.to_datetime(hos.columns,format='%Y-%m')\n",
    "    columns_2000 = hos.columns[hos.columns >= '2000-01-01']\n",
    "    hos2000 = hos[columns_2000]\n",
    "    hos=None\n",
    "    hos2000_Q_mean = hos2000.resample('Q',axis=1).mean()\n",
    "    hos2000_Q_mean = hos2000_Q_mean.rename(columns=lambda x: '{:}q{:}'.format(x.year, x.quarter))\n",
    "    result = pd.concat([identifier, hos2000_Q_mean], axis=1)\n",
    "    return result.set_index(columns)\n",
    "# convert_housing_data_to_quarters().info()\n",
    "convert_housing_data_to_quarters().loc[\"Texas\"].loc[\"Austin\"].loc[\"2010q1\"]"
   ]
  },
  {
   "cell_type": "code",
   "execution_count": 94,
   "metadata": {
    "collapsed": false
   },
   "outputs": [
    {
     "data": {
      "text/plain": [
       "(True, 0.005496427353694603, 'university town')"
      ]
     },
     "execution_count": 94,
     "metadata": {},
     "output_type": "execute_result"
    }
   ],
   "source": [
    "def run_ttest():\n",
    "    '''First creates new data showing the decline or growth of housing prices\n",
    "    between the recession start and the recession bottom. Then runs a ttest\n",
    "    comparing the university town values to the non-university towns values, \n",
    "    return whether the alternative hypothesis (that the two groups are the same)\n",
    "    is true or not as well as the p-value of the confidence. \n",
    "    \n",
    "    Return the tuple (different, p, better) where different=True if the t-test is\n",
    "    True at a p<0.01 (we reject the null hypothesis), or different=False if \n",
    "    otherwise (we cannot reject the null hypothesis). The variable p should\n",
    "    be equal to the exact p value returned from scipy.stats.ttest_ind(). The\n",
    "    value for better should be either \"university town\" or \"non-university town\"\n",
    "    depending on which has a lower mean price ratio (which is equivilent to a\n",
    "    reduced market loss).'''\n",
    "    start = get_recession_start()\n",
    "    bottom = get_recession_bottom()\n",
    "    \n",
    "    hourse_prices = convert_housing_data_to_quarters()\n",
    "#     hourse_prices.columns = pd.to_datetime(hourse_prices.columns)\n",
    "#     cond = hourse_prices.columns[(hourse_prices.columns >= start) & (hourse_prices.columns <= end)]\n",
    "    hourse_prices = hourse_prices[[start, bottom]]\n",
    "    hourse_prices = hourse_prices.sort_index()\n",
    "    university_towns = get_list_of_university_towns()\n",
    "    merged = pd.merge(hourse_prices.reset_index(), university_towns, on=['State','RegionName'], how='outer', indicator=True)\n",
    "    merged['PriceRatio'] = merged[start].div(merged[bottom])\n",
    "    merged = merged.set_index([\"State\",\"RegionName\"])\n",
    "    univeristy = merged[merged._merge == 'both']\n",
    "    non_university = merged[merged._merge == 'left_only']\n",
    "    stat, p=ttest_ind(univeristy['PriceRatio'].dropna(), non_university['PriceRatio'].dropna())\n",
    "    return (p<0.01, p, [\"university town\", \"non-university town\"][univeristy['PriceRatio'].mean()>non_university['PriceRatio'].mean()])\n",
    "\n",
    "run_ttest()"
   ]
  },
  {
   "cell_type": "code",
   "execution_count": 76,
   "metadata": {
    "collapsed": false
   },
   "outputs": [],
   "source": [
    "#     start = get_recession_start()\n",
    "#     bottom = get_recession_bottom()\n",
    "    \n",
    "#     hourse_prices = convert_housing_data_to_quarters()\n",
    "# #     hourse_prices.columns = pd.to_datetime(hourse_prices.columns)\n",
    "# #     cond = hourse_prices.columns[(hourse_prices.columns >= start) & (hourse_prices.columns <= bottom)]\n",
    "#     hourse_prices = hourse_prices[[start, bottom]]\n",
    "#     hourse_prices = hourse_prices.sort_index()\n",
    "#     university_towns = get_list_of_university_towns()\n",
    "#     merged = pd.merge(hourse_prices.reset_index(), university_towns, on=['State','RegionName'], how='outer', indicator=True)\n",
    "#     merged['PriceRatio'] = merged[start].div(merged[bottom])\n",
    "#     merged = merged.set_index([\"State\",\"RegionName\"])\n",
    "#     univeristy = merged[merged._merge == 'both']\n",
    "#     non_university = merged[merged._merge == 'left_only']\n",
    "#     stat, p=stats.ttest_ind(univeristy['PriceRatio'].dropna(), non_university['PriceRatio'].dropna())\n",
    "    \n",
    "#     hourse_prices.index.isin(university).sum()\n",
    "    \n",
    "    "
   ]
  },
  {
   "cell_type": "code",
   "execution_count": 90,
   "metadata": {
    "collapsed": false
   },
   "outputs": [],
   "source": [
    "# merged = pd.merge(hourse_prices.reset_index(), university_towns, on=['State','RegionName'], how='outer', indicator=True)\n",
    "# univeristy = merged[merged._merge == 'both']\n",
    "# non_university = merged[merged._merge == 'left_only']\n",
    "# print(merged.shape, university.shape, non_university.shape)\n",
    "# merged[merged._merge == 'right_only']"
   ]
  },
  {
   "cell_type": "code",
   "execution_count": 54,
   "metadata": {
    "collapsed": false
   },
   "outputs": [],
   "source": [
    "\n",
    "# hourse_prices.loc[('Illinois', 'Chicago')]\n",
    "# hourse_prices.loc['Illinois', 'Chicago']\n",
    "# hourse_prices.loc['Alabama', ]"
   ]
  }
 ],
 "metadata": {
  "coursera": {
   "course_slug": "python-data-analysis",
   "graded_item_id": "Il9Fx",
   "launcher_item_id": "TeDW0",
   "part_id": "WGlun"
  },
  "kernelspec": {
   "display_name": "Python 3",
   "language": "python",
   "name": "python3"
  },
  "language_info": {
   "codemirror_mode": {
    "name": "ipython",
    "version": 3
   },
   "file_extension": ".py",
   "mimetype": "text/x-python",
   "name": "python",
   "nbconvert_exporter": "python",
   "pygments_lexer": "ipython3",
   "version": "3.5.2"
  }
 },
 "nbformat": 4,
 "nbformat_minor": 0
}
