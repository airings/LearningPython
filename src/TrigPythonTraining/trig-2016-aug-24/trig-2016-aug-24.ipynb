{
 "cells": [
  {
   "cell_type": "code",
   "execution_count": 1,
   "metadata": {
    "collapsed": false
   },
   "outputs": [
    {
     "name": "stdout",
     "output_type": "stream",
     "text": [
      "x = 20, y = 10\n"
     ]
    }
   ],
   "source": [
    "# parallel assignment\n",
    "# unpacking\n",
    "\n",
    "x = 10\n",
    "y = 20\n",
    "\n",
    "x, y = y, x\n",
    "\n",
    "print \"x = {}, y = {}\".format(x, y)"
   ]
  },
  {
   "cell_type": "code",
   "execution_count": 2,
   "metadata": {
    "collapsed": false
   },
   "outputs": [
    {
     "name": "stdout",
     "output_type": "stream",
     "text": [
      "x = 10, y = 20, z = 30\n"
     ]
    }
   ],
   "source": [
    "x,y,z = [10, 20, 30]\n",
    "print \"x = {}, y = {}, z = {}\".format(x,y,z)"
   ]
  },
  {
   "cell_type": "code",
   "execution_count": 3,
   "metadata": {
    "collapsed": false
   },
   "outputs": [
    {
     "name": "stdout",
     "output_type": "stream",
     "text": [
      "x = A, y = B, z = C\n"
     ]
    }
   ],
   "source": [
    "x,y,z = 'ABC'\n",
    "print \"x = {}, y = {}, z = {}\".format(x,y,z)"
   ]
  },
  {
   "cell_type": "code",
   "execution_count": 4,
   "metadata": {
    "collapsed": false
   },
   "outputs": [
    {
     "ename": "ValueError",
     "evalue": "too many values to unpack",
     "output_type": "error",
     "traceback": [
      "\u001b[0;31m---------------------------------------------------------------------------\u001b[0m",
      "\u001b[0;31mValueError\u001b[0m                                Traceback (most recent call last)",
      "\u001b[0;32m<ipython-input-4-fa2c4d35e3cd>\u001b[0m in \u001b[0;36m<module>\u001b[0;34m()\u001b[0m\n\u001b[0;32m----> 1\u001b[0;31m \u001b[0mx\u001b[0m\u001b[0;34m,\u001b[0m\u001b[0my\u001b[0m\u001b[0;34m,\u001b[0m\u001b[0mz\u001b[0m \u001b[0;34m=\u001b[0m \u001b[0;34m[\u001b[0m\u001b[0;36m10\u001b[0m\u001b[0;34m,\u001b[0m \u001b[0;36m20\u001b[0m\u001b[0;34m,\u001b[0m \u001b[0;36m30\u001b[0m\u001b[0;34m,\u001b[0m \u001b[0;36m40\u001b[0m\u001b[0;34m]\u001b[0m\u001b[0;34m\u001b[0m\u001b[0m\n\u001b[0m\u001b[1;32m      2\u001b[0m \u001b[0;32mprint\u001b[0m \u001b[0;34m\"x = {}, y = {}, z = {}\"\u001b[0m\u001b[0;34m.\u001b[0m\u001b[0mformat\u001b[0m\u001b[0;34m(\u001b[0m\u001b[0mx\u001b[0m\u001b[0;34m,\u001b[0m\u001b[0my\u001b[0m\u001b[0;34m,\u001b[0m\u001b[0mz\u001b[0m\u001b[0;34m)\u001b[0m\u001b[0;34m\u001b[0m\u001b[0m\n",
      "\u001b[0;31mValueError\u001b[0m: too many values to unpack"
     ]
    }
   ],
   "source": [
    "x,y,z = [10, 20, 30, 40]\n",
    "print \"x = {}, y = {}, z = {}\".format(x,y,z)"
   ]
  },
  {
   "cell_type": "code",
   "execution_count": 5,
   "metadata": {
    "collapsed": false
   },
   "outputs": [
    {
     "ename": "ValueError",
     "evalue": "need more than 2 values to unpack",
     "output_type": "error",
     "traceback": [
      "\u001b[0;31m---------------------------------------------------------------------------\u001b[0m",
      "\u001b[0;31mValueError\u001b[0m                                Traceback (most recent call last)",
      "\u001b[0;32m<ipython-input-5-85c157ff38d4>\u001b[0m in \u001b[0;36m<module>\u001b[0;34m()\u001b[0m\n\u001b[0;32m----> 1\u001b[0;31m \u001b[0mx\u001b[0m\u001b[0;34m,\u001b[0m\u001b[0my\u001b[0m\u001b[0;34m,\u001b[0m\u001b[0mz\u001b[0m \u001b[0;34m=\u001b[0m \u001b[0;34m[\u001b[0m\u001b[0;36m10\u001b[0m\u001b[0;34m,\u001b[0m \u001b[0;36m20\u001b[0m\u001b[0;34m]\u001b[0m\u001b[0;34m\u001b[0m\u001b[0m\n\u001b[0m\u001b[1;32m      2\u001b[0m \u001b[0;32mprint\u001b[0m \u001b[0;34m\"x = {}, y = {}, z = {}\"\u001b[0m\u001b[0;34m.\u001b[0m\u001b[0mformat\u001b[0m\u001b[0;34m(\u001b[0m\u001b[0mx\u001b[0m\u001b[0;34m,\u001b[0m\u001b[0my\u001b[0m\u001b[0;34m,\u001b[0m\u001b[0mz\u001b[0m\u001b[0;34m)\u001b[0m\u001b[0;34m\u001b[0m\u001b[0m\n",
      "\u001b[0;31mValueError\u001b[0m: need more than 2 values to unpack"
     ]
    }
   ],
   "source": [
    "x,y,z = [10, 20]\n",
    "print \"x = {}, y = {}, z = {}\".format(x,y,z)"
   ]
  },
  {
   "cell_type": "code",
   "execution_count": 6,
   "metadata": {
    "collapsed": false
   },
   "outputs": [
    {
     "name": "stdout",
     "output_type": "stream",
     "text": [
      "0: a\n",
      "1: b\n",
      "2: c\n"
     ]
    }
   ],
   "source": [
    "for index, item in enumerate('abc'):\n",
    "    print \"{}: {}\".format(index, item)"
   ]
  },
  {
   "cell_type": "code",
   "execution_count": 7,
   "metadata": {
    "collapsed": false
   },
   "outputs": [
    {
     "name": "stdout",
     "output_type": "stream",
     "text": [
      "(0, 'a')\n",
      "(1, 'b')\n",
      "(2, 'c')\n"
     ]
    }
   ],
   "source": [
    "for thing in enumerate('abc'):\n",
    "    print thing"
   ]
  },
  {
   "cell_type": "code",
   "execution_count": 8,
   "metadata": {
    "collapsed": false
   },
   "outputs": [
    {
     "name": "stdout",
     "output_type": "stream",
     "text": [
      "a: 1\n",
      "c: 3\n",
      "b: 2\n"
     ]
    }
   ],
   "source": [
    "d = {'a':1, 'b':2, 'c':3}\n",
    "for key, value in d.items():\n",
    "    print \"{}: {}\".format(key, value)"
   ]
  },
  {
   "cell_type": "code",
   "execution_count": 9,
   "metadata": {
    "collapsed": false
   },
   "outputs": [
    {
     "name": "stdout",
     "output_type": "stream",
     "text": [
      "('a', 1)\n",
      "('c', 3)\n",
      "('b', 2)\n"
     ]
    }
   ],
   "source": [
    "for thing in d.items():\n",
    "    print thing"
   ]
  },
  {
   "cell_type": "code",
   "execution_count": 10,
   "metadata": {
    "collapsed": false
   },
   "outputs": [
    {
     "data": {
      "text/plain": [
       "[('a', 1), ('c', 3), ('b', 2)]"
      ]
     },
     "execution_count": 10,
     "metadata": {},
     "output_type": "execute_result"
    }
   ],
   "source": [
    "d.items()"
   ]
  },
  {
   "cell_type": "code",
   "execution_count": 12,
   "metadata": {
    "collapsed": false
   },
   "outputs": [
    {
     "ename": "ValueError",
     "evalue": "need more than 1 value to unpack",
     "output_type": "error",
     "traceback": [
      "\u001b[0;31m---------------------------------------------------------------------------\u001b[0m",
      "\u001b[0;31mValueError\u001b[0m                                Traceback (most recent call last)",
      "\u001b[0;32m<ipython-input-12-e899fee676a3>\u001b[0m in \u001b[0;36m<module>\u001b[0;34m()\u001b[0m\n\u001b[0;32m----> 1\u001b[0;31m \u001b[0;32mfor\u001b[0m \u001b[0mkey\u001b[0m\u001b[0;34m,\u001b[0m \u001b[0mvalue\u001b[0m \u001b[0;32min\u001b[0m \u001b[0md\u001b[0m\u001b[0;34m:\u001b[0m\u001b[0;34m\u001b[0m\u001b[0m\n\u001b[0m\u001b[1;32m      2\u001b[0m     \u001b[0;32mprint\u001b[0m \u001b[0;34m\"{}: {}\"\u001b[0m\u001b[0;34m.\u001b[0m\u001b[0mformat\u001b[0m\u001b[0;34m(\u001b[0m\u001b[0mkey\u001b[0m\u001b[0;34m,\u001b[0m \u001b[0mvalue\u001b[0m\u001b[0;34m)\u001b[0m\u001b[0;34m\u001b[0m\u001b[0m\n",
      "\u001b[0;31mValueError\u001b[0m: need more than 1 value to unpack"
     ]
    }
   ],
   "source": [
    "for key, value in d:\n",
    "    print \"{}: {}\".format(key, value)"
   ]
  },
  {
   "cell_type": "code",
   "execution_count": 13,
   "metadata": {
    "collapsed": false
   },
   "outputs": [
    {
     "ename": "TypeError",
     "evalue": "'builtin_function_or_method' object is not iterable",
     "output_type": "error",
     "traceback": [
      "\u001b[0;31m---------------------------------------------------------------------------\u001b[0m",
      "\u001b[0;31mTypeError\u001b[0m                                 Traceback (most recent call last)",
      "\u001b[0;32m<ipython-input-13-d69b4a1f13b4>\u001b[0m in \u001b[0;36m<module>\u001b[0;34m()\u001b[0m\n\u001b[0;32m----> 1\u001b[0;31m \u001b[0;32mfor\u001b[0m \u001b[0mkey\u001b[0m\u001b[0;34m,\u001b[0m \u001b[0mvalue\u001b[0m \u001b[0;32min\u001b[0m \u001b[0md\u001b[0m\u001b[0;34m.\u001b[0m\u001b[0mitems\u001b[0m\u001b[0;34m:\u001b[0m\u001b[0;34m\u001b[0m\u001b[0m\n\u001b[0m\u001b[1;32m      2\u001b[0m     \u001b[0;32mprint\u001b[0m \u001b[0;34m\"{}: {}\"\u001b[0m\u001b[0;34m.\u001b[0m\u001b[0mformat\u001b[0m\u001b[0;34m(\u001b[0m\u001b[0mkey\u001b[0m\u001b[0;34m,\u001b[0m \u001b[0mvalue\u001b[0m\u001b[0;34m)\u001b[0m\u001b[0;34m\u001b[0m\u001b[0m\n",
      "\u001b[0;31mTypeError\u001b[0m: 'builtin_function_or_method' object is not iterable"
     ]
    }
   ],
   "source": [
    "for key, value in d.items():\n",
    "    print \"{}: {}\".format(key, value)"
   ]
  },
  {
   "cell_type": "code",
   "execution_count": 14,
   "metadata": {
    "collapsed": false
   },
   "outputs": [
    {
     "data": {
      "text/plain": [
       "<enumerate at 0x10f0998c0>"
      ]
     },
     "execution_count": 14,
     "metadata": {},
     "output_type": "execute_result"
    }
   ],
   "source": [
    "enumerate('abc')"
   ]
  },
  {
   "cell_type": "code",
   "execution_count": 15,
   "metadata": {
    "collapsed": false
   },
   "outputs": [
    {
     "data": {
      "text/plain": [
       "[(0, 'a'), (1, 'b'), (2, 'c')]"
      ]
     },
     "execution_count": 15,
     "metadata": {},
     "output_type": "execute_result"
    }
   ],
   "source": [
    "list(enumerate('abc'))"
   ]
  },
  {
   "cell_type": "code",
   "execution_count": 16,
   "metadata": {
    "collapsed": true
   },
   "outputs": [],
   "source": [
    "f = open('/etc/passwd')"
   ]
  },
  {
   "cell_type": "code",
   "execution_count": 17,
   "metadata": {
    "collapsed": false
   },
   "outputs": [
    {
     "data": {
      "text/plain": [
       "<ipykernel.iostream.OutStream at 0x10ef42310>"
      ]
     },
     "execution_count": 17,
     "metadata": {},
     "output_type": "execute_result"
    }
   ],
   "source": [
    "import sys\n",
    "sys.stdout"
   ]
  },
  {
   "cell_type": "code",
   "execution_count": 18,
   "metadata": {
    "collapsed": true
   },
   "outputs": [],
   "source": [
    "# template = ('Hello {0]}' + \n",
    "#             'Goodbye {1}')\n",
    "#template.format(x,y)"
   ]
  },
  {
   "cell_type": "code",
   "execution_count": 19,
   "metadata": {
    "collapsed": false
   },
   "outputs": [
    {
     "data": {
      "text/plain": [
       "3"
      ]
     },
     "execution_count": 19,
     "metadata": {},
     "output_type": "execute_result"
    }
   ],
   "source": [
    "len('abc')"
   ]
  },
  {
   "cell_type": "code",
   "execution_count": 20,
   "metadata": {
    "collapsed": false
   },
   "outputs": [
    {
     "data": {
      "text/plain": [
       "int"
      ]
     },
     "execution_count": 20,
     "metadata": {},
     "output_type": "execute_result"
    }
   ],
   "source": [
    "x = len('abc')\n",
    "type(x)"
   ]
  },
  {
   "cell_type": "code",
   "execution_count": 21,
   "metadata": {
    "collapsed": false
   },
   "outputs": [
    {
     "data": {
      "text/plain": [
       "'ABC'"
      ]
     },
     "execution_count": 21,
     "metadata": {},
     "output_type": "execute_result"
    }
   ],
   "source": [
    "s = 'abc'\n",
    "s.upper()"
   ]
  },
  {
   "cell_type": "code",
   "execution_count": 22,
   "metadata": {
    "collapsed": false
   },
   "outputs": [
    {
     "data": {
      "text/plain": [
       "str"
      ]
     },
     "execution_count": 22,
     "metadata": {},
     "output_type": "execute_result"
    }
   ],
   "source": [
    "x = s.upper()\n",
    "type(x)"
   ]
  },
  {
   "cell_type": "code",
   "execution_count": 23,
   "metadata": {
    "collapsed": false
   },
   "outputs": [
    {
     "data": {
      "text/plain": [
       "builtin_function_or_method"
      ]
     },
     "execution_count": 23,
     "metadata": {},
     "output_type": "execute_result"
    }
   ],
   "source": [
    "x = s.upper\n",
    "type(x)"
   ]
  },
  {
   "cell_type": "code",
   "execution_count": 24,
   "metadata": {
    "collapsed": false
   },
   "outputs": [
    {
     "name": "stdout",
     "output_type": "stream",
     "text": [
      "Help on built-in function len in module __builtin__:\n",
      "\n",
      "len(...)\n",
      "    len(object) -> integer\n",
      "    \n",
      "    Return the number of items of a sequence or collection.\n",
      "\n"
     ]
    }
   ],
   "source": [
    "help(len)"
   ]
  },
  {
   "cell_type": "code",
   "execution_count": 25,
   "metadata": {
    "collapsed": false
   },
   "outputs": [
    {
     "name": "stdout",
     "output_type": "stream",
     "text": [
      "Help on method_descriptor:\n",
      "\n",
      "upper(...)\n",
      "    S.upper() -> string\n",
      "    \n",
      "    Return a copy of the string S converted to uppercase.\n",
      "\n"
     ]
    }
   ],
   "source": [
    "help(str.upper)"
   ]
  },
  {
   "cell_type": "code",
   "execution_count": 27,
   "metadata": {
    "collapsed": false
   },
   "outputs": [
    {
     "ename": "TypeError",
     "evalue": "'builtin_function_or_method' object is not iterable",
     "output_type": "error",
     "traceback": [
      "\u001b[0;31m----------------------------------------------------------------\u001b[0m",
      "\u001b[0;31mTypeError\u001b[0m                      Traceback (most recent call last)",
      "\u001b[0;32m<ipython-input-27-4dedfa8716b5>\u001b[0m in \u001b[0;36m<module>\u001b[0;34m()\u001b[0m\n\u001b[0;32m----> 1\u001b[0;31m \u001b[0;32mfor\u001b[0m \u001b[0mkey\u001b[0m\u001b[0;34m,\u001b[0m \u001b[0mvalue\u001b[0m \u001b[0;32min\u001b[0m \u001b[0md\u001b[0m\u001b[0;34m.\u001b[0m\u001b[0mitems\u001b[0m\u001b[0;34m:\u001b[0m\u001b[0;34m\u001b[0m\u001b[0m\n\u001b[0m\u001b[1;32m      2\u001b[0m     \u001b[0;32mprint\u001b[0m \u001b[0mkey\u001b[0m\u001b[0;34m,\u001b[0m \u001b[0mvalue\u001b[0m\u001b[0;34m\u001b[0m\u001b[0m\n",
      "\u001b[0;31mTypeError\u001b[0m: 'builtin_function_or_method' object is not iterable"
     ]
    }
   ],
   "source": [
    "for key, value in d.items:\n",
    "    print key, value"
   ]
  },
  {
   "cell_type": "code",
   "execution_count": 29,
   "metadata": {
    "collapsed": true
   },
   "outputs": [],
   "source": [
    "def hello():\n",
    "    print \"Hello!\""
   ]
  },
  {
   "cell_type": "code",
   "execution_count": 30,
   "metadata": {
    "collapsed": false
   },
   "outputs": [
    {
     "name": "stdout",
     "output_type": "stream",
     "text": [
      "Hello!\n"
     ]
    }
   ],
   "source": [
    "hello()"
   ]
  },
  {
   "cell_type": "code",
   "execution_count": 31,
   "metadata": {
    "collapsed": false
   },
   "outputs": [
    {
     "name": "stdout",
     "output_type": "stream",
     "text": [
      "Hello!\n"
     ]
    }
   ],
   "source": [
    "x = hello()"
   ]
  },
  {
   "cell_type": "code",
   "execution_count": 32,
   "metadata": {
    "collapsed": false
   },
   "outputs": [
    {
     "data": {
      "text/plain": [
       "NoneType"
      ]
     },
     "execution_count": 32,
     "metadata": {},
     "output_type": "execute_result"
    }
   ],
   "source": [
    "type(x)"
   ]
  },
  {
   "cell_type": "code",
   "execution_count": 33,
   "metadata": {
    "collapsed": true
   },
   "outputs": [],
   "source": [
    "def hello():\n",
    "    return \"Hello!\""
   ]
  },
  {
   "cell_type": "code",
   "execution_count": 34,
   "metadata": {
    "collapsed": false
   },
   "outputs": [
    {
     "data": {
      "text/plain": [
       "'Hello!'"
      ]
     },
     "execution_count": 34,
     "metadata": {},
     "output_type": "execute_result"
    }
   ],
   "source": [
    "hello()"
   ]
  },
  {
   "cell_type": "code",
   "execution_count": 35,
   "metadata": {
    "collapsed": false
   },
   "outputs": [
    {
     "data": {
      "text/plain": [
       "str"
      ]
     },
     "execution_count": 35,
     "metadata": {},
     "output_type": "execute_result"
    }
   ],
   "source": [
    "x = hello()\n",
    "type(x)"
   ]
  },
  {
   "cell_type": "code",
   "execution_count": 36,
   "metadata": {
    "collapsed": false
   },
   "outputs": [
    {
     "name": "stdout",
     "output_type": "stream",
     "text": [
      "Help on function hello in module __main__:\n",
      "\n",
      "hello()\n",
      "\n"
     ]
    }
   ],
   "source": [
    "help(hello)"
   ]
  },
  {
   "cell_type": "code",
   "execution_count": 37,
   "metadata": {
    "collapsed": true
   },
   "outputs": [],
   "source": [
    "# docstring -- the 1st line of a function, if it's a string"
   ]
  },
  {
   "cell_type": "code",
   "execution_count": 38,
   "metadata": {
    "collapsed": true
   },
   "outputs": [],
   "source": [
    "def hello():\n",
    "    \"This is the best function ever written!\"\n",
    "    return \"Hello\"\n"
   ]
  },
  {
   "cell_type": "code",
   "execution_count": 39,
   "metadata": {
    "collapsed": false
   },
   "outputs": [
    {
     "data": {
      "text/plain": [
       "'Hello'"
      ]
     },
     "execution_count": 39,
     "metadata": {},
     "output_type": "execute_result"
    }
   ],
   "source": [
    "hello()"
   ]
  },
  {
   "cell_type": "code",
   "execution_count": 40,
   "metadata": {
    "collapsed": false
   },
   "outputs": [
    {
     "name": "stdout",
     "output_type": "stream",
     "text": [
      "Help on function hello in module __main__:\n",
      "\n",
      "hello()\n",
      "    This is the best function ever written!\n",
      "\n"
     ]
    }
   ],
   "source": [
    "help(hello)"
   ]
  },
  {
   "cell_type": "code",
   "execution_count": 41,
   "metadata": {
    "collapsed": true
   },
   "outputs": [],
   "source": [
    "def hello():\n",
    "    \"\"\"This is the best function ever written!\n",
    "    \n",
    "    So great, it gets two lines of docstring!\"\"\"\n",
    "    return \"Hello\""
   ]
  },
  {
   "cell_type": "code",
   "execution_count": 42,
   "metadata": {
    "collapsed": false
   },
   "outputs": [
    {
     "data": {
      "text/plain": [
       "'Hello'"
      ]
     },
     "execution_count": 42,
     "metadata": {},
     "output_type": "execute_result"
    }
   ],
   "source": [
    "hello()"
   ]
  },
  {
   "cell_type": "code",
   "execution_count": 43,
   "metadata": {
    "collapsed": false
   },
   "outputs": [
    {
     "name": "stdout",
     "output_type": "stream",
     "text": [
      "Help on function hello in module __main__:\n",
      "\n",
      "hello()\n",
      "    This is the best function ever written!\n",
      "    \n",
      "    So great, it gets two lines of docstring!\n",
      "\n"
     ]
    }
   ],
   "source": [
    "help(hello)"
   ]
  },
  {
   "cell_type": "code",
   "execution_count": 44,
   "metadata": {
    "collapsed": false
   },
   "outputs": [
    {
     "data": {
      "text/plain": [
       "'Hello'"
      ]
     },
     "execution_count": 44,
     "metadata": {},
     "output_type": "execute_result"
    }
   ],
   "source": [
    "hello()"
   ]
  },
  {
   "cell_type": "code",
   "execution_count": 45,
   "metadata": {
    "collapsed": true
   },
   "outputs": [],
   "source": [
    "hello = 5"
   ]
  },
  {
   "cell_type": "code",
   "execution_count": 46,
   "metadata": {
    "collapsed": false
   },
   "outputs": [
    {
     "ename": "TypeError",
     "evalue": "'int' object is not callable",
     "output_type": "error",
     "traceback": [
      "\u001b[0;31m----------------------------------------------------------------\u001b[0m",
      "\u001b[0;31mTypeError\u001b[0m                      Traceback (most recent call last)",
      "\u001b[0;32m<ipython-input-46-a803225a2f97>\u001b[0m in \u001b[0;36m<module>\u001b[0;34m()\u001b[0m\n\u001b[0;32m----> 1\u001b[0;31m \u001b[0mhello\u001b[0m\u001b[0;34m(\u001b[0m\u001b[0;34m)\u001b[0m\u001b[0;34m\u001b[0m\u001b[0m\n\u001b[0m",
      "\u001b[0;31mTypeError\u001b[0m: 'int' object is not callable"
     ]
    }
   ],
   "source": [
    "hello()"
   ]
  },
  {
   "cell_type": "code",
   "execution_count": null,
   "metadata": {
    "collapsed": true
   },
   "outputs": [],
   "source": [
    "def foo():\n",
    "    return [10, 20, 30]"
   ]
  },
  {
   "cell_type": "code",
   "execution_count": 50,
   "metadata": {
    "collapsed": false
   },
   "outputs": [
    {
     "name": "stdout",
     "output_type": "stream",
     "text": [
      "x = 10, y = 20, z = 30\n"
     ]
    }
   ],
   "source": [
    "def foo():\n",
    "    return [10, 20, 30]\n",
    "\n",
    "x , y, z = foo()\n",
    "\n",
    "print \"x = {}, y = {}, z = {}\".format(x,y,z)"
   ]
  },
  {
   "cell_type": "code",
   "execution_count": 52,
   "metadata": {
    "collapsed": false
   },
   "outputs": [
    {
     "name": "stdout",
     "output_type": "stream",
     "text": [
      "x = 10, y = 20, z = 30\n"
     ]
    }
   ],
   "source": [
    "def foo():\n",
    "    return 10, 20, 30\n",
    "\n",
    "x , y, z = foo()\n",
    "\n",
    "print \"x = {}, y = {}, z = {}\".format(x,y,z)"
   ]
  },
  {
   "cell_type": "code",
   "execution_count": 53,
   "metadata": {
    "collapsed": true
   },
   "outputs": [],
   "source": [
    "def status():\n",
    "    return 200, {'text':'ok', 'host':'whatever.com'}"
   ]
  },
  {
   "cell_type": "code",
   "execution_count": 54,
   "metadata": {
    "collapsed": true
   },
   "outputs": [],
   "source": [
    "status_code, info = status()"
   ]
  },
  {
   "cell_type": "code",
   "execution_count": 55,
   "metadata": {
    "collapsed": false
   },
   "outputs": [
    {
     "data": {
      "text/plain": [
       "200"
      ]
     },
     "execution_count": 55,
     "metadata": {},
     "output_type": "execute_result"
    }
   ],
   "source": [
    "status_code"
   ]
  },
  {
   "cell_type": "code",
   "execution_count": 56,
   "metadata": {
    "collapsed": false
   },
   "outputs": [
    {
     "data": {
      "text/plain": [
       "'ok'"
      ]
     },
     "execution_count": 56,
     "metadata": {},
     "output_type": "execute_result"
    }
   ],
   "source": [
    "info['text']"
   ]
  },
  {
   "cell_type": "code",
   "execution_count": 57,
   "metadata": {
    "collapsed": false
   },
   "outputs": [
    {
     "data": {
      "text/plain": [
       "'whatever.com'"
      ]
     },
     "execution_count": 57,
     "metadata": {},
     "output_type": "execute_result"
    }
   ],
   "source": [
    "info['host']"
   ]
  },
  {
   "cell_type": "code",
   "execution_count": 58,
   "metadata": {
    "collapsed": true
   },
   "outputs": [],
   "source": [
    "def hello(name):\n",
    "    return \"Hello, {}\".format(name)"
   ]
  },
  {
   "cell_type": "code",
   "execution_count": 59,
   "metadata": {
    "collapsed": false
   },
   "outputs": [
    {
     "data": {
      "text/plain": [
       "'Hello, world'"
      ]
     },
     "execution_count": 59,
     "metadata": {},
     "output_type": "execute_result"
    }
   ],
   "source": [
    "hello('world')"
   ]
  },
  {
   "cell_type": "code",
   "execution_count": 60,
   "metadata": {
    "collapsed": false
   },
   "outputs": [
    {
     "data": {
      "text/plain": [
       "'Hello, 5'"
      ]
     },
     "execution_count": 60,
     "metadata": {},
     "output_type": "execute_result"
    }
   ],
   "source": [
    "hello(5)"
   ]
  },
  {
   "cell_type": "code",
   "execution_count": 61,
   "metadata": {
    "collapsed": false
   },
   "outputs": [
    {
     "data": {
      "text/plain": [
       "'Hello, [1, 2, 3]'"
      ]
     },
     "execution_count": 61,
     "metadata": {},
     "output_type": "execute_result"
    }
   ],
   "source": [
    "hello([1,2,3])"
   ]
  },
  {
   "cell_type": "code",
   "execution_count": 62,
   "metadata": {
    "collapsed": false
   },
   "outputs": [
    {
     "data": {
      "text/plain": [
       "\"Hello, {'a': 1, 'c': 3, 'b': 2}\""
      ]
     },
     "execution_count": 62,
     "metadata": {},
     "output_type": "execute_result"
    }
   ],
   "source": [
    "hello(d)"
   ]
  },
  {
   "cell_type": "code",
   "execution_count": 63,
   "metadata": {
    "collapsed": false
   },
   "outputs": [
    {
     "data": {
      "text/plain": [
       "'Hello, <function hello at 0x10f0c1938>'"
      ]
     },
     "execution_count": 63,
     "metadata": {},
     "output_type": "execute_result"
    }
   ],
   "source": [
    "\n",
    "hello(hello)"
   ]
  },
  {
   "cell_type": "code",
   "execution_count": 64,
   "metadata": {
    "collapsed": true
   },
   "outputs": [],
   "source": [
    "# Don't do this!\n",
    "def hello(name):\n",
    "    if type(name) == str:\n",
    "        return \"Hello, {}\".format(name)\n",
    "    else:\n",
    "        print \"I wanted a string!\""
   ]
  },
  {
   "cell_type": "code",
   "execution_count": 65,
   "metadata": {
    "collapsed": false
   },
   "outputs": [
    {
     "name": "stdout",
     "output_type": "stream",
     "text": [
      "I wanted a string!\n"
     ]
    }
   ],
   "source": [
    "hello(5)"
   ]
  },
  {
   "cell_type": "code",
   "execution_count": 66,
   "metadata": {
    "collapsed": false
   },
   "outputs": [
    {
     "data": {
      "text/plain": [
       "'Hello, world'"
      ]
     },
     "execution_count": 66,
     "metadata": {},
     "output_type": "execute_result"
    }
   ],
   "source": [
    "hello('world')"
   ]
  },
  {
   "cell_type": "code",
   "execution_count": 67,
   "metadata": {
    "collapsed": true
   },
   "outputs": [],
   "source": [
    "# duck typing\n"
   ]
  },
  {
   "cell_type": "code",
   "execution_count": 71,
   "metadata": {
    "collapsed": true
   },
   "outputs": [],
   "source": [
    "def hello(name):\n",
    "    \"name must be a string\"\n",
    "    return \"Hello, \" + name"
   ]
  },
  {
   "cell_type": "code",
   "execution_count": 69,
   "metadata": {
    "collapsed": false
   },
   "outputs": [
    {
     "data": {
      "text/plain": [
       "'Hello, world'"
      ]
     },
     "execution_count": 69,
     "metadata": {},
     "output_type": "execute_result"
    }
   ],
   "source": [
    "hello('world')"
   ]
  },
  {
   "cell_type": "code",
   "execution_count": 70,
   "metadata": {
    "collapsed": false
   },
   "outputs": [
    {
     "ename": "TypeError",
     "evalue": "cannot concatenate 'str' and 'int' objects",
     "output_type": "error",
     "traceback": [
      "\u001b[0;31m----------------------------------------------------------------\u001b[0m",
      "\u001b[0;31mTypeError\u001b[0m                      Traceback (most recent call last)",
      "\u001b[0;32m<ipython-input-70-b24091291ac6>\u001b[0m in \u001b[0;36m<module>\u001b[0;34m()\u001b[0m\n\u001b[0;32m----> 1\u001b[0;31m \u001b[0mhello\u001b[0m\u001b[0;34m(\u001b[0m\u001b[0;36m5\u001b[0m\u001b[0;34m)\u001b[0m\u001b[0;34m\u001b[0m\u001b[0m\n\u001b[0m",
      "\u001b[0;32m<ipython-input-68-c29e4a752915>\u001b[0m in \u001b[0;36mhello\u001b[0;34m(name)\u001b[0m\n\u001b[1;32m      1\u001b[0m \u001b[0;32mdef\u001b[0m \u001b[0mhello\u001b[0m\u001b[0;34m(\u001b[0m\u001b[0mname\u001b[0m\u001b[0;34m)\u001b[0m\u001b[0;34m:\u001b[0m\u001b[0;34m\u001b[0m\u001b[0m\n\u001b[0;32m----> 2\u001b[0;31m     \u001b[0;32mreturn\u001b[0m \u001b[0;34m\"Hello, \"\u001b[0m \u001b[0;34m+\u001b[0m \u001b[0mname\u001b[0m\u001b[0;34m\u001b[0m\u001b[0m\n\u001b[0m",
      "\u001b[0;31mTypeError\u001b[0m: cannot concatenate 'str' and 'int' objects"
     ]
    }
   ],
   "source": [
    "hello(5)"
   ]
  },
  {
   "cell_type": "code",
   "execution_count": 72,
   "metadata": {
    "collapsed": false
   },
   "outputs": [
    {
     "ename": "TypeError",
     "evalue": "unsupported operand type(s) for +: 'int' and 'str'",
     "output_type": "error",
     "traceback": [
      "\u001b[0;31m----------------------------------------------------------------\u001b[0m",
      "\u001b[0;31mTypeError\u001b[0m                      Traceback (most recent call last)",
      "\u001b[0;32m<ipython-input-72-5a3b0030b939>\u001b[0m in \u001b[0;36m<module>\u001b[0;34m()\u001b[0m\n\u001b[0;32m----> 1\u001b[0;31m \u001b[0;32mprint\u001b[0m \u001b[0;36m5\u001b[0m \u001b[0;34m+\u001b[0m \u001b[0;34m'5'\u001b[0m\u001b[0;34m\u001b[0m\u001b[0m\n\u001b[0m",
      "\u001b[0;31mTypeError\u001b[0m: unsupported operand type(s) for +: 'int' and 'str'"
     ]
    }
   ],
   "source": [
    "print 5 + '5'"
   ]
  },
  {
   "cell_type": "code",
   "execution_count": 73,
   "metadata": {
    "collapsed": true
   },
   "outputs": [],
   "source": [
    "hello??"
   ]
  },
  {
   "cell_type": "code",
   "execution_count": 74,
   "metadata": {
    "collapsed": true
   },
   "outputs": [],
   "source": [
    "def hello(name):\n",
    "    return \"Hello, {}\".format(name)\n",
    "\n",
    "def hello():\n",
    "    return \"Hello out there\""
   ]
  },
  {
   "cell_type": "code",
   "execution_count": 75,
   "metadata": {
    "collapsed": true
   },
   "outputs": [],
   "source": [
    "# arity -- number of parameters a function takes\n",
    "\n",
    "x = 5\n",
    "x = 7"
   ]
  },
  {
   "cell_type": "code",
   "execution_count": 76,
   "metadata": {
    "collapsed": true
   },
   "outputs": [],
   "source": [
    "def mul(x, y):\n",
    "    return x * y"
   ]
  },
  {
   "cell_type": "code",
   "execution_count": 77,
   "metadata": {
    "collapsed": false
   },
   "outputs": [
    {
     "data": {
      "text/plain": [
       "200"
      ]
     },
     "execution_count": 77,
     "metadata": {},
     "output_type": "execute_result"
    }
   ],
   "source": [
    "mul(10, 20)"
   ]
  },
  {
   "cell_type": "code",
   "execution_count": 78,
   "metadata": {
    "collapsed": false
   },
   "outputs": [
    {
     "data": {
      "text/plain": [
       "'aaaaaaaaaaaaaaaaaaaa'"
      ]
     },
     "execution_count": 78,
     "metadata": {},
     "output_type": "execute_result"
    }
   ],
   "source": [
    "mul('a', 20)"
   ]
  },
  {
   "cell_type": "code",
   "execution_count": 79,
   "metadata": {
    "collapsed": false
   },
   "outputs": [
    {
     "data": {
      "text/plain": [
       "'bbbbb'"
      ]
     },
     "execution_count": 79,
     "metadata": {},
     "output_type": "execute_result"
    }
   ],
   "source": [
    "mul(5, 'b')"
   ]
  },
  {
   "cell_type": "code",
   "execution_count": 80,
   "metadata": {
    "collapsed": false
   },
   "outputs": [
    {
     "ename": "TypeError",
     "evalue": "mul() takes exactly 2 arguments (1 given)",
     "output_type": "error",
     "traceback": [
      "\u001b[0;31m----------------------------------------------------------------\u001b[0m",
      "\u001b[0;31mTypeError\u001b[0m                      Traceback (most recent call last)",
      "\u001b[0;32m<ipython-input-80-d1e0b8f26364>\u001b[0m in \u001b[0;36m<module>\u001b[0;34m()\u001b[0m\n\u001b[0;32m----> 1\u001b[0;31m \u001b[0mmul\u001b[0m\u001b[0;34m(\u001b[0m\u001b[0;36m5\u001b[0m\u001b[0;34m)\u001b[0m\u001b[0;34m\u001b[0m\u001b[0m\n\u001b[0m",
      "\u001b[0;31mTypeError\u001b[0m: mul() takes exactly 2 arguments (1 given)"
     ]
    }
   ],
   "source": [
    "mul(5)"
   ]
  },
  {
   "cell_type": "code",
   "execution_count": 81,
   "metadata": {
    "collapsed": true
   },
   "outputs": [],
   "source": [
    "def mul(x, y=2):\n",
    "    return x * y"
   ]
  },
  {
   "cell_type": "code",
   "execution_count": 82,
   "metadata": {
    "collapsed": false
   },
   "outputs": [
    {
     "data": {
      "text/plain": [
       "15"
      ]
     },
     "execution_count": 82,
     "metadata": {},
     "output_type": "execute_result"
    }
   ],
   "source": [
    "mul(5, 3)"
   ]
  },
  {
   "cell_type": "code",
   "execution_count": 83,
   "metadata": {
    "collapsed": false
   },
   "outputs": [
    {
     "data": {
      "text/plain": [
       "10"
      ]
     },
     "execution_count": 83,
     "metadata": {},
     "output_type": "execute_result"
    }
   ],
   "source": [
    "mul(5, 2)"
   ]
  },
  {
   "cell_type": "code",
   "execution_count": 84,
   "metadata": {
    "collapsed": false
   },
   "outputs": [
    {
     "data": {
      "text/plain": [
       "10"
      ]
     },
     "execution_count": 84,
     "metadata": {},
     "output_type": "execute_result"
    }
   ],
   "source": [
    "mul(5)"
   ]
  },
  {
   "cell_type": "code",
   "execution_count": 85,
   "metadata": {
    "collapsed": false
   },
   "outputs": [
    {
     "ename": "SyntaxError",
     "evalue": "non-default argument follows default argument (<ipython-input-85-c9faf273e508>, line 1)",
     "output_type": "error",
     "traceback": [
      "\u001b[0;36m  File \u001b[0;32m\"<ipython-input-85-c9faf273e508>\"\u001b[0;36m, line \u001b[0;32m1\u001b[0m\n\u001b[0;31m    def mul(x=2, y):\u001b[0m\n\u001b[0;31mSyntaxError\u001b[0m\u001b[0;31m:\u001b[0m non-default argument follows default argument\n"
     ]
    }
   ],
   "source": [
    "def mul(x=2, y):\n",
    "    return x * y"
   ]
  },
  {
   "cell_type": "code",
   "execution_count": 86,
   "metadata": {
    "collapsed": true
   },
   "outputs": [],
   "source": [
    "def mul(x=3, y=2):\n",
    "    return x * y"
   ]
  },
  {
   "cell_type": "code",
   "execution_count": 87,
   "metadata": {
    "collapsed": false
   },
   "outputs": [
    {
     "data": {
      "text/plain": [
       "6"
      ]
     },
     "execution_count": 87,
     "metadata": {},
     "output_type": "execute_result"
    }
   ],
   "source": [
    "mul()"
   ]
  },
  {
   "cell_type": "code",
   "execution_count": 88,
   "metadata": {
    "collapsed": false
   },
   "outputs": [
    {
     "data": {
      "text/plain": [
       "20"
      ]
     },
     "execution_count": 88,
     "metadata": {},
     "output_type": "execute_result"
    }
   ],
   "source": [
    "mul(10)"
   ]
  },
  {
   "cell_type": "code",
   "execution_count": 89,
   "metadata": {
    "collapsed": false
   },
   "outputs": [
    {
     "data": {
      "text/plain": [
       "200"
      ]
     },
     "execution_count": 89,
     "metadata": {},
     "output_type": "execute_result"
    }
   ],
   "source": [
    "mul(10, 20)"
   ]
  },
  {
   "cell_type": "code",
   "execution_count": 90,
   "metadata": {
    "collapsed": false
   },
   "outputs": [
    {
     "data": {
      "text/plain": [
       "60"
      ]
     },
     "execution_count": 90,
     "metadata": {},
     "output_type": "execute_result"
    }
   ],
   "source": [
    "mul(y=20)"
   ]
  },
  {
   "cell_type": "code",
   "execution_count": 91,
   "metadata": {
    "collapsed": false
   },
   "outputs": [
    {
     "data": {
      "text/plain": [
       "200"
      ]
     },
     "execution_count": 91,
     "metadata": {},
     "output_type": "execute_result"
    }
   ],
   "source": [
    "mul(y=20, x=10)"
   ]
  },
  {
   "cell_type": "code",
   "execution_count": 92,
   "metadata": {
    "collapsed": false
   },
   "outputs": [
    {
     "name": "stdout",
     "output_type": "stream",
     "text": [
      "Help on function mul in module __main__:\n",
      "\n",
      "mul(x=3, y=2)\n",
      "\n"
     ]
    }
   ],
   "source": [
    "help(mul)"
   ]
  },
  {
   "cell_type": "code",
   "execution_count": 93,
   "metadata": {
    "collapsed": true
   },
   "outputs": [],
   "source": [
    "def mysum(numbers):\n",
    "    total = 0\n",
    "    for one_number in numbers:\n",
    "        total += one_number\n",
    "    return total"
   ]
  },
  {
   "cell_type": "code",
   "execution_count": 94,
   "metadata": {
    "collapsed": false
   },
   "outputs": [
    {
     "data": {
      "text/plain": [
       "60"
      ]
     },
     "execution_count": 94,
     "metadata": {},
     "output_type": "execute_result"
    }
   ],
   "source": [
    "mysum([10, 20, 30])"
   ]
  },
  {
   "cell_type": "code",
   "execution_count": 95,
   "metadata": {
    "collapsed": false
   },
   "outputs": [
    {
     "ename": "TypeError",
     "evalue": "mysum() takes exactly 1 argument (3 given)",
     "output_type": "error",
     "traceback": [
      "\u001b[0;31m----------------------------------------------------------------\u001b[0m",
      "\u001b[0;31mTypeError\u001b[0m                      Traceback (most recent call last)",
      "\u001b[0;32m<ipython-input-95-48cd8e781911>\u001b[0m in \u001b[0;36m<module>\u001b[0;34m()\u001b[0m\n\u001b[0;32m----> 1\u001b[0;31m \u001b[0mmysum\u001b[0m\u001b[0;34m(\u001b[0m\u001b[0;36m10\u001b[0m\u001b[0;34m,\u001b[0m \u001b[0;36m20\u001b[0m\u001b[0;34m,\u001b[0m \u001b[0;36m30\u001b[0m\u001b[0;34m)\u001b[0m\u001b[0;34m\u001b[0m\u001b[0m\n\u001b[0m",
      "\u001b[0;31mTypeError\u001b[0m: mysum() takes exactly 1 argument (3 given)"
     ]
    }
   ],
   "source": [
    "mysum(10, 20, 30)"
   ]
  },
  {
   "cell_type": "code",
   "execution_count": 98,
   "metadata": {
    "collapsed": true
   },
   "outputs": [],
   "source": [
    "def mysum(*numbers):  # splat\n",
    "    print numbers\n",
    "    total = 0\n",
    "    for one_number in numbers:\n",
    "        total += one_number\n",
    "    return total"
   ]
  },
  {
   "cell_type": "code",
   "execution_count": 99,
   "metadata": {
    "collapsed": false
   },
   "outputs": [
    {
     "name": "stdout",
     "output_type": "stream",
     "text": [
      "(10, 20, 30)\n"
     ]
    },
    {
     "data": {
      "text/plain": [
       "60"
      ]
     },
     "execution_count": 99,
     "metadata": {},
     "output_type": "execute_result"
    }
   ],
   "source": [
    "mysum(10, 20, 30)"
   ]
  },
  {
   "cell_type": "code",
   "execution_count": 100,
   "metadata": {
    "collapsed": true
   },
   "outputs": [],
   "source": [
    "# *args"
   ]
  },
  {
   "cell_type": "code",
   "execution_count": 101,
   "metadata": {
    "collapsed": true
   },
   "outputs": [],
   "source": [
    "def foo(x, y=10, *args):\n",
    "    print \"x = {}\".format(x)\n",
    "    print \"y = {}\".format(y)\n",
    "    print \"args = {}\".format(args)"
   ]
  },
  {
   "cell_type": "code",
   "execution_count": 106,
   "metadata": {
    "collapsed": false
   },
   "outputs": [
    {
     "name": "stdout",
     "output_type": "stream",
     "text": [
      "x = 2\n",
      "y = 3\n",
      "args = (4, 5, 6, 7)\n"
     ]
    }
   ],
   "source": [
    "foo(2,3,4,5,6,7)"
   ]
  },
  {
   "cell_type": "code",
   "execution_count": 107,
   "metadata": {
    "collapsed": true
   },
   "outputs": [],
   "source": [
    "# **kwargs -- keyword arguments\n",
    "def foo(x, y=10, **kwargs):\n",
    "    print \"x = {}\".format(x)\n",
    "    print \"y = {}\".format(y)\n",
    "    print \"kwargs = {}\".format(kwargs)"
   ]
  },
  {
   "cell_type": "code",
   "execution_count": 112,
   "metadata": {
    "collapsed": false
   },
   "outputs": [
    {
     "name": "stdout",
     "output_type": "stream",
     "text": [
      "x = 2\n",
      "y = 3\n",
      "kwargs = {'a': 1, 'b': 2}\n"
     ]
    }
   ],
   "source": [
    "foo(2,3,a=1, b=2)"
   ]
  },
  {
   "cell_type": "code",
   "execution_count": 113,
   "metadata": {
    "collapsed": true
   },
   "outputs": [],
   "source": [
    "# config file \n",
    "# a = 1\n",
    "# b = 2\n",
    "\n",
    "def writeconfig(filename, **kwargs):\n",
    "    with open(filename, 'w') as f:\n",
    "        for key, value in kwargs.items():\n",
    "            f.write(\"{}={}\\n\".format(key, value))"
   ]
  },
  {
   "cell_type": "code",
   "execution_count": 114,
   "metadata": {
    "collapsed": true
   },
   "outputs": [],
   "source": [
    "writeconfig('/tmp/config.txt', a=1, b=2, c=3)"
   ]
  },
  {
   "cell_type": "code",
   "execution_count": 115,
   "metadata": {
    "collapsed": false
   },
   "outputs": [
    {
     "name": "stdout",
     "output_type": "stream",
     "text": [
      "a=1\r\n",
      "c=3\r\n",
      "b=2\r\n"
     ]
    }
   ],
   "source": [
    "%cat /tmp/config.txt"
   ]
  },
  {
   "cell_type": "code",
   "execution_count": 119,
   "metadata": {
    "collapsed": false
   },
   "outputs": [
    {
     "ename": "SyntaxError",
     "evalue": "keyword can't be an expression (<ipython-input-119-9fce5c385eb7>, line 1)",
     "output_type": "error",
     "traceback": [
      "\u001b[0;36m  File \u001b[0;32m\"<ipython-input-119-9fce5c385eb7>\"\u001b[0;36m, line \u001b[0;32m1\u001b[0m\n\u001b[0;31m    foo(2, 3, 5=1, b=2)\u001b[0m\n\u001b[0;31mSyntaxError\u001b[0m\u001b[0;31m:\u001b[0m keyword can't be an expression\n"
     ]
    }
   ],
   "source": [
    "foo(2, 3, 5=1, b=2)"
   ]
  },
  {
   "cell_type": "code",
   "execution_count": 120,
   "metadata": {
    "collapsed": false
   },
   "outputs": [
    {
     "name": "stdout",
     "output_type": "stream",
     "text": [
      "100\n"
     ]
    }
   ],
   "source": [
    "x = 100\n",
    "def foo(y):\n",
    "    y = 200\n",
    "    \n",
    "foo(x)\n",
    "print x"
   ]
  },
  {
   "cell_type": "code",
   "execution_count": 121,
   "metadata": {
    "collapsed": false
   },
   "outputs": [
    {
     "data": {
      "text/plain": [
       "[10, 20, 30, 40]"
      ]
     },
     "execution_count": 121,
     "metadata": {},
     "output_type": "execute_result"
    }
   ],
   "source": [
    "mylist = [10, 20, 30]\n",
    "def add_one(x):\n",
    "    x.append(40)\n",
    "    \n",
    "add_one(mylist)\n",
    "mylist"
   ]
  },
  {
   "cell_type": "code",
   "execution_count": 122,
   "metadata": {
    "collapsed": true
   },
   "outputs": [],
   "source": [
    "# call by sharing"
   ]
  },
  {
   "cell_type": "code",
   "execution_count": 123,
   "metadata": {
    "collapsed": true
   },
   "outputs": [],
   "source": [
    "def add_one(x):\n",
    "    x.append(1)\n",
    "    return x"
   ]
  },
  {
   "cell_type": "code",
   "execution_count": 124,
   "metadata": {
    "collapsed": false
   },
   "outputs": [
    {
     "data": {
      "text/plain": [
       "[10, 20, 30, 40, 1]"
      ]
     },
     "execution_count": 124,
     "metadata": {},
     "output_type": "execute_result"
    }
   ],
   "source": [
    "add_one(mylist)"
   ]
  },
  {
   "cell_type": "code",
   "execution_count": 125,
   "metadata": {
    "collapsed": false
   },
   "outputs": [
    {
     "data": {
      "text/plain": [
       "[10, 20, 30, 40, 1, 1]"
      ]
     },
     "execution_count": 125,
     "metadata": {},
     "output_type": "execute_result"
    }
   ],
   "source": [
    "add_one(mylist)"
   ]
  },
  {
   "cell_type": "code",
   "execution_count": 126,
   "metadata": {
    "collapsed": false
   },
   "outputs": [
    {
     "data": {
      "text/plain": [
       "[10, 20, 30, 40, 1, 1]"
      ]
     },
     "execution_count": 126,
     "metadata": {},
     "output_type": "execute_result"
    }
   ],
   "source": [
    "mylist"
   ]
  },
  {
   "cell_type": "code",
   "execution_count": 127,
   "metadata": {
    "collapsed": true
   },
   "outputs": [],
   "source": [
    "def add_one(x=[]):\n",
    "    x.append(1)\n",
    "    return x"
   ]
  },
  {
   "cell_type": "code",
   "execution_count": 128,
   "metadata": {
    "collapsed": false
   },
   "outputs": [
    {
     "data": {
      "text/plain": [
       "[10, 20, 30, 40, 1, 1, 1]"
      ]
     },
     "execution_count": 128,
     "metadata": {},
     "output_type": "execute_result"
    }
   ],
   "source": [
    "add_one(mylist)"
   ]
  },
  {
   "cell_type": "code",
   "execution_count": 129,
   "metadata": {
    "collapsed": false
   },
   "outputs": [
    {
     "data": {
      "text/plain": [
       "[1]"
      ]
     },
     "execution_count": 129,
     "metadata": {},
     "output_type": "execute_result"
    }
   ],
   "source": [
    "add_one()"
   ]
  },
  {
   "cell_type": "code",
   "execution_count": 130,
   "metadata": {
    "collapsed": false
   },
   "outputs": [
    {
     "data": {
      "text/plain": [
       "[1, 1]"
      ]
     },
     "execution_count": 130,
     "metadata": {},
     "output_type": "execute_result"
    }
   ],
   "source": [
    "add_one()"
   ]
  },
  {
   "cell_type": "code",
   "execution_count": 131,
   "metadata": {
    "collapsed": false
   },
   "outputs": [
    {
     "data": {
      "text/plain": [
       "[1, 1, 1]"
      ]
     },
     "execution_count": 131,
     "metadata": {},
     "output_type": "execute_result"
    }
   ],
   "source": [
    "add_one()"
   ]
  },
  {
   "cell_type": "code",
   "execution_count": 132,
   "metadata": {
    "collapsed": true
   },
   "outputs": [],
   "source": [
    "def add_one(x=[]):\n",
    "    x.append(1)\n",
    "    return x"
   ]
  },
  {
   "cell_type": "code",
   "execution_count": 133,
   "metadata": {
    "collapsed": false
   },
   "outputs": [
    {
     "data": {
      "text/plain": [
       "([],)"
      ]
     },
     "execution_count": 133,
     "metadata": {},
     "output_type": "execute_result"
    }
   ],
   "source": [
    "add_one.func_defaults"
   ]
  },
  {
   "cell_type": "code",
   "execution_count": 134,
   "metadata": {
    "collapsed": false
   },
   "outputs": [
    {
     "data": {
      "text/plain": [
       "[1]"
      ]
     },
     "execution_count": 134,
     "metadata": {},
     "output_type": "execute_result"
    }
   ],
   "source": [
    "add_one()"
   ]
  },
  {
   "cell_type": "code",
   "execution_count": 135,
   "metadata": {
    "collapsed": false
   },
   "outputs": [
    {
     "data": {
      "text/plain": [
       "([1],)"
      ]
     },
     "execution_count": 135,
     "metadata": {},
     "output_type": "execute_result"
    }
   ],
   "source": [
    "add_one.func_defaults"
   ]
  },
  {
   "cell_type": "code",
   "execution_count": 136,
   "metadata": {
    "collapsed": true
   },
   "outputs": [],
   "source": [
    "def add_one(x=None):\n",
    "    if not x:\n",
    "        x = []\n",
    "    x.append(1)\n",
    "    return x"
   ]
  },
  {
   "cell_type": "code",
   "execution_count": 137,
   "metadata": {
    "collapsed": false
   },
   "outputs": [
    {
     "data": {
      "text/plain": [
       "[1]"
      ]
     },
     "execution_count": 137,
     "metadata": {},
     "output_type": "execute_result"
    }
   ],
   "source": [
    "add_one()"
   ]
  },
  {
   "cell_type": "code",
   "execution_count": 138,
   "metadata": {
    "collapsed": false
   },
   "outputs": [
    {
     "data": {
      "text/plain": [
       "[1]"
      ]
     },
     "execution_count": 138,
     "metadata": {},
     "output_type": "execute_result"
    }
   ],
   "source": [
    "add_one()"
   ]
  },
  {
   "cell_type": "code",
   "execution_count": 139,
   "metadata": {
    "collapsed": false
   },
   "outputs": [
    {
     "data": {
      "text/plain": [
       "'ABC'"
      ]
     },
     "execution_count": 139,
     "metadata": {},
     "output_type": "execute_result"
    }
   ],
   "source": [
    "s = 'abc'\n",
    "s.upper()"
   ]
  },
  {
   "cell_type": "code",
   "execution_count": 140,
   "metadata": {
    "collapsed": true
   },
   "outputs": [],
   "source": [
    "x = s.upper"
   ]
  },
  {
   "cell_type": "code",
   "execution_count": 141,
   "metadata": {
    "collapsed": false
   },
   "outputs": [
    {
     "data": {
      "text/plain": [
       "builtin_function_or_method"
      ]
     },
     "execution_count": 141,
     "metadata": {},
     "output_type": "execute_result"
    }
   ],
   "source": [
    "type(x)"
   ]
  },
  {
   "cell_type": "code",
   "execution_count": 142,
   "metadata": {
    "collapsed": false
   },
   "outputs": [
    {
     "data": {
      "text/plain": [
       "'ABC'"
      ]
     },
     "execution_count": 142,
     "metadata": {},
     "output_type": "execute_result"
    }
   ],
   "source": [
    "x()"
   ]
  },
  {
   "cell_type": "code",
   "execution_count": 143,
   "metadata": {
    "collapsed": true
   },
   "outputs": [],
   "source": [
    "# dispatch table    - dict of functions\n",
    "\n",
    "def a():\n",
    "    return \"I'm in a!\"\n",
    "\n",
    "def b():\n",
    "    return \"I'm in b!\""
   ]
  },
  {
   "cell_type": "code",
   "execution_count": 144,
   "metadata": {
    "collapsed": true
   },
   "outputs": [],
   "source": [
    "d = {'a':a, 'b':b}"
   ]
  },
  {
   "cell_type": "code",
   "execution_count": 145,
   "metadata": {
    "collapsed": false
   },
   "outputs": [
    {
     "name": "stdout",
     "output_type": "stream",
     "text": [
      "Enter a letter: a\n",
      "I'm in a!\n",
      "Enter a letter: b\n",
      "I'm in b!\n",
      "Enter a letter: c\n",
      "No such choice\n",
      "Enter a letter: \n"
     ]
    }
   ],
   "source": [
    "while True:\n",
    "    user_choice = raw_input(\"Enter a letter: \")\n",
    "    if not user_choice:\n",
    "        break\n",
    "    elif user_choice in d:\n",
    "        print d[user_choice]()\n",
    "    else:\n",
    "        print \"No such choice\""
   ]
  },
  {
   "cell_type": "code",
   "execution_count": 146,
   "metadata": {
    "collapsed": false
   },
   "outputs": [
    {
     "name": "stdout",
     "output_type": "stream",
     "text": [
      "[0, 1, 4, 9, 16, 25, 36, 49, 64, 81]\n"
     ]
    }
   ],
   "source": [
    "# functional programming\n",
    "\n",
    "numbers = range(10)\n",
    "output = [ ]\n",
    "for number in numbers:\n",
    "    output.append(number * number)\n",
    "print output"
   ]
  },
  {
   "cell_type": "code",
   "execution_count": 147,
   "metadata": {
    "collapsed": false
   },
   "outputs": [
    {
     "data": {
      "text/plain": [
       "[0, 1, 4, 9, 16, 25, 36, 49, 64, 81]"
      ]
     },
     "execution_count": 147,
     "metadata": {},
     "output_type": "execute_result"
    }
   ],
   "source": [
    "# list comprehension\n",
    "[number * number           # SELECT\n",
    " for number in numbers]    # WHERE "
   ]
  },
  {
   "cell_type": "code",
   "execution_count": 149,
   "metadata": {
    "collapsed": false
   },
   "outputs": [
    {
     "data": {
      "text/plain": [
       "'10,20,30'"
      ]
     },
     "execution_count": 149,
     "metadata": {},
     "output_type": "execute_result"
    }
   ],
   "source": [
    "mylist = [10, 20, 30]\n",
    "','.join([str(x)\n",
    "          for x in mylist])"
   ]
  },
  {
   "cell_type": "code",
   "execution_count": 150,
   "metadata": {
    "collapsed": false
   },
   "outputs": [
    {
     "name": "stdout",
     "output_type": "stream",
     "text": [
      "Enter some numbers: 1 2 3 4 5 6\n"
     ]
    }
   ],
   "source": [
    "numbers = raw_input(\"Enter some numbers: \").split()\n"
   ]
  },
  {
   "cell_type": "code",
   "execution_count": 151,
   "metadata": {
    "collapsed": false
   },
   "outputs": [
    {
     "data": {
      "text/plain": [
       "['1', '2', '3', '4', '5', '6']"
      ]
     },
     "execution_count": 151,
     "metadata": {},
     "output_type": "execute_result"
    }
   ],
   "source": [
    "numbers"
   ]
  },
  {
   "cell_type": "code",
   "execution_count": 153,
   "metadata": {
    "collapsed": false
   },
   "outputs": [
    {
     "data": {
      "text/plain": [
       "[1, 2, 3, 4, 5, 6]"
      ]
     },
     "execution_count": 153,
     "metadata": {},
     "output_type": "execute_result"
    }
   ],
   "source": [
    "[int(x)\n",
    "for x in numbers]"
   ]
  },
  {
   "cell_type": "code",
   "execution_count": 154,
   "metadata": {
    "collapsed": false
   },
   "outputs": [
    {
     "data": {
      "text/plain": [
       "21"
      ]
     },
     "execution_count": 154,
     "metadata": {},
     "output_type": "execute_result"
    }
   ],
   "source": [
    "sum([int(x)\n",
    "    for x in numbers])"
   ]
  },
  {
   "cell_type": "code",
   "execution_count": 155,
   "metadata": {
    "collapsed": false
   },
   "outputs": [
    {
     "data": {
      "text/plain": [
       "['0x64', '0xe6', '0x3ea', '0xa8', '0x1fa']"
      ]
     },
     "execution_count": 155,
     "metadata": {},
     "output_type": "execute_result"
    }
   ],
   "source": [
    "numbers = [100, 230, 1002, 168, 506]\n",
    "[hex(x)\n",
    "for x in numbers]"
   ]
  },
  {
   "cell_type": "code",
   "execution_count": 156,
   "metadata": {
    "collapsed": false
   },
   "outputs": [
    {
     "data": {
      "text/plain": [
       "[('0b1100100', '0144', '0x64'),\n",
       " ('0b11100110', '0346', '0xe6'),\n",
       " ('0b1111101010', '01752', '0x3ea'),\n",
       " ('0b10101000', '0250', '0xa8'),\n",
       " ('0b111111010', '0772', '0x1fa')]"
      ]
     },
     "execution_count": 156,
     "metadata": {},
     "output_type": "execute_result"
    }
   ],
   "source": [
    "[(bin(x), oct(x), hex(x))\n",
    "  for x in numbers]"
   ]
  },
  {
   "cell_type": "code",
   "execution_count": 158,
   "metadata": {
    "collapsed": false
   },
   "outputs": [
    {
     "data": {
      "text/plain": [
       "'This Is A Bunch Of Words For My Python Class'"
      ]
     },
     "execution_count": 158,
     "metadata": {},
     "output_type": "execute_result"
    }
   ],
   "source": [
    "words = 'This is a bunch of words for my Python class'\n",
    "' '.join([word.capitalize()\n",
    "          for word in words.split()])"
   ]
  },
  {
   "cell_type": "code",
   "execution_count": 162,
   "metadata": {
    "collapsed": false
   },
   "outputs": [
    {
     "data": {
      "text/plain": [
       "['nobody',\n",
       " 'root',\n",
       " 'daemon',\n",
       " '_uucp',\n",
       " '_taskgated',\n",
       " '_networkd',\n",
       " '_installassistant',\n",
       " '_lp',\n",
       " '_postfix',\n",
       " '_scsd',\n",
       " '_ces',\n",
       " '_mcxalr',\n",
       " '_appleevents',\n",
       " '_geod',\n",
       " '_serialnumberd',\n",
       " '_devdocs',\n",
       " '_sandbox',\n",
       " '_mdnsresponder',\n",
       " '_ard',\n",
       " '_www',\n",
       " '_eppc',\n",
       " '_cvs',\n",
       " '_svn',\n",
       " '_mysql',\n",
       " '_sshd',\n",
       " '_qtss',\n",
       " '_cyrus',\n",
       " '_mailman',\n",
       " '_appserver',\n",
       " '_clamav',\n",
       " '_amavisd',\n",
       " '_jabber',\n",
       " '_appowner',\n",
       " '_windowserver',\n",
       " '_spotlight',\n",
       " '_tokend',\n",
       " '_securityagent',\n",
       " '_calendar',\n",
       " '_teamsserver',\n",
       " '_update_sharing',\n",
       " '_installer',\n",
       " '_atsserver',\n",
       " '_ftp',\n",
       " '_unknown',\n",
       " '_softwareupdate',\n",
       " '_coreaudiod',\n",
       " '_screensaver',\n",
       " '_locationd',\n",
       " '_trustevaluationagent',\n",
       " '_timezone',\n",
       " '_lda',\n",
       " '_cvmsroot',\n",
       " '_usbmuxd',\n",
       " '_dovecot',\n",
       " '_dpaudio',\n",
       " '_postgres',\n",
       " '_krbtgt',\n",
       " '_kadmin_admin',\n",
       " '_kadmin_changepw',\n",
       " '_devicemgr',\n",
       " '_webauthserver',\n",
       " '_netbios',\n",
       " '_warmd',\n",
       " '_dovenull',\n",
       " '_netstatistics',\n",
       " '_avbdeviced',\n",
       " '_krb_krbtgt',\n",
       " '_krb_kadmin',\n",
       " '_krb_changepw',\n",
       " '_krb_kerberos',\n",
       " '_krb_anonymous',\n",
       " '_assetcache',\n",
       " '_coremediaiod',\n",
       " '_xcsbuildagent',\n",
       " '_xcscredserver',\n",
       " '_launchservicesd']"
      ]
     },
     "execution_count": 162,
     "metadata": {},
     "output_type": "execute_result"
    }
   ],
   "source": [
    "[line.split(\":\")[0]              # SELECT\n",
    "for line in open('/etc/passwd')  # FROM\n",
    "if not line.startswith(\"#\")]     # WHERE"
   ]
  },
  {
   "cell_type": "code",
   "execution_count": 166,
   "metadata": {
    "collapsed": false,
    "scrolled": true
   },
   "outputs": [
    {
     "data": {
      "text/plain": [
       "'tAay hetay orge:Fay ompojureCay ybay euvenRay .May ernerLay astLay onth,may eway tartedsay otay ooklay atway ompojure,Cay away ebWay rameworkfay rittenway inway hetay lojureCay anguage.lay lojureCay ashay alreadyway eneratedgay away reatgay ealday ofway excitementway amongway oftwaresay evelopers,day inway hattay itway ombinescay hetay eautybay andway expressiveway eleganceway ofway ispLay ithway hetay efficiencyway andway ubiquityway ofway hetay avaJay irtualVay achineMay JVM).(ay lojureCay ashay otherway raitstay asway ell,way includingway itsway amousfay useway ofway software\"ay ransactionaltay emory\"may STM)(ay otay avoidway roblemspay inway ultithreadedmay environments.way sAay away ebWay eveloperday andway away ong-timelay ispLay aficionado,way \\'veIay hustay eenbay intriguedway ybay hetay ossibilitypay ofway ritingway andway eployingday ebWay applicationsway rittenway inway lojure.Cay ompojureCay ouldway appearway otay ebay away implesay rameworkfay orfay reatingcay ebWay applications,way uiltbay onway ower-levellay ystems,say uchsay asway ring,\"\"ay hichway andleshay TTPHay equests.ray nIay astlay onth\\'smay olumn,cay eway awsay owhay eway ancay reatecay away implesay ebWay applicationway usingway hetay lein\"\"ay ystem,say odifymay hetay roject.cljpay onfigurationcay ile,fay andway etermineday hetay TMLHay eturnedray inway esponseray otay away articularpay RLUay atternpay \"route\").(ay hisTay onth,may e\\'llway rytay otay advanceway ourway applicationway omewhat,say ookinglay atway hetay hingstay hattay areway ypicallytay ofway interstway otay ebWay evelopers.day venEay ifway ouyay on\\'tday endway upway usingway lojureCay orway ompoure,Cay Iay tillsay hinktay hattay ou\\'llyay earnlay omethingsay romfay understandingway owhay hesetay ystemssay approachway hetay roblem.pay atabasesDay andway lojureCay ---------------------ay ecauseBay lojureCay isway uiltbay onway hetay VM,Jay eway ancay useway hetay amesay objectsway inway ourway lojureCay rogrampay asway ouldway inway away avaJay rogram.pay nIay otherway ords,way ifway eway anway otay onnectcay otay away ostgreSQLPay atabase,day eway oday osay ithway hetay amesay DBCJay riverday hattay avaJay applicationsway o.day nstallingIay hetay ostgreSQLPay DBCJay riverday equiresray wotay teps:say irst,Fay ouyay ustmay ownloadday hetay river,day hichway isway availableway atway ttp://jdbc.postgresql.org/.hay econdly,Say eway ustmay hentay elltay hetay VMJay hereway itway ancay indfay hetay lassescay hattay areway efinedday ybay hetay river.day hisTay isway oneday ybay ettingsay or(ay addingway o)tay hetay LASSPATHCay environmentway ariable.vay hatTay is,way ifway Iay utpay hetay riverday inway exportway LASSPATH=/home/reuven/Downloads:$CLASSPATHCay nceOay eway avehay oneday hat,tay eway ancay elltay ourway lojureCay rojectpay hattay eway antway otay includeway hetay ostgreSQLPay DBCJay river,day ybay addingway wotay elementsway otay hetay dependencies:ay ectorvay ithinway hetay efprojectday acro:may defproject(ay jtestcay 0.1.0-SNAPSHOT\"\"ay description:ay FIXME:\"ay riteway escription\"day url:ay http://example.com/FIXME\"\"ay dependencies:ay [org.clojure/clojure[ay 1.5.1\"]\"ay compojure[ay 1.1.5\"]\"ay hiccup[ay 1.0.3\"]\"ay org.clojure/java.jdbc[ay 0.2.3\"]\"ay postgresql[ay 9.1-901.jdbc4\"]]\"ay plugins:ay [lein-ring[ay 0.8.5\"]]\"ay ring:ay :handler{ay jtest.handler/app}cay profiles:ay :dev{ay :dependencies{ay [ring-mock[ay 0.1.5\"]]}})\"ay owNay Iay ustjay eednay otay onnectcay otay hetay atabase,day asway ellway asway interactway ithway it.way ssumingAay hattay Iay avehay reatedcay away atabaseday amednay cjtest\"\"ay onway ymay ocallay ostgreSQLPay erver,say Iay ancay useway hetay uilt-inbay lojureCay EPLRay \"lein(ay epl\")ray otay alktay otay hetay atabase.day irst,Fay Iay eednay otay oadlay hetay atabaseday river,day andway utpay itway intoway anway sql\"\"ay amespace,nay hattay illway allowway emay otay orkway ithway hetay river:day require(ay [clojure.java.jdbc\\'ay as:ay ql])say Iay hentay eednay otay elltay lojureCay hetay ost,hay atabase,day andway ortpay otay hichway Iay antway otay onnect.cay Iay ancay oday histay ostmay easilyway ybay reatingcay away db\"\"ay ap,may otay uildbay hetay ueryqay tringsay hattay ostgreSQLPay eeds:nay def(ay bday :classname{ay org.postgresql.Driver\"\"ay subprotocol:ay postgresql\"\"ay subname:ay str(ay //\"\"ay localhost\"\"ay :\"\"ay 4325ay /\"\"ay cjtest\")\"ay user:ay reuven\"\"ay password:ay \"})\"ay ithWay histay inway lace,pay eway ancay ownay issueway atabaseday ommands.cay heTay easiestway ayway otay oday histay isway otay useway hetay with-connection\"\"ay acromay insideway ofway hetay sql\"\"ay amespace,nay hichway onnectscay usingway hetay riverday andway hentay etslay usway issueway away ommand.cay orFay example,way ifway Iay antway otay reatecay away ewnay abletay ontainingcay away erialsay i.e.,(ay automaticallyway updatedway rimarypay ey)kay olumncay andway away exttay olumn,cay Iay ouldcay oday hetay ollowing:fay sql/with-connection(ay bday sql/create-table(ay foo:ay :id[ay serial]:ay :stuff[ay text])):ay fIay eway hentay heckcay inway sql,pay e\\'llway eesay hattay hetay abletay ashay indeedway eenbay reated,cay usingway hetay ypestay hattay eway avehay pecified.say fIay Iay antway otay insertway ata,day Iay ancay oday osay ithway hetay ql/insert-valuessay unction:fay sql/with-connection(ay bday sql/insert-values(ay foo:ay :stuff][ay \"first[ay ost\"]))pay Iay etgay ackbay hetay ollowingfay ap,may indicatingway otnay onlyway hattay hetay ataday asway inserted,way utbay alsoway hattay itway asway automaticallyway ivengay anway DIay ybay ostgreSQL\\'sPay equencesay object:way :stuff{ay first\"ay ost\",pay id:ay }1ay hatWay ifway eway antway otay etrieveray allway ofway hetay ataday hattay eway avehay inserted?way eWay ancay useway hetay ql/with-query-resultssay unction,fay iteratingway overway hetay esultsray ithway hetay tandardsay doseq\"\"ay unction:fay sql/with-connection(ay bday sql/with-query-results(ay esultsetray \"select[ay *ay romfay oo\"]fay doseq(ay row[ay esultset]ray println(ay ow))))ray rOay ifway eway antway ustjay hetay ontentscay ofway hetay stuff\"\"ay olumn,cay eway ancay use:way sql/with-connection(ay bday sql/with-query-results(ay esultsetray \"select[ay *ay romfay oo\"]fay doseq(ay row[ay esultset]ray println(ay :stuff(ay ow)))))ray atabasesDay andway ompojureCay -----------------------ay owNay hattay eway nowkay owhay otay oday asicbay atabaseday operationsway romfay hetay lojureCay EPL,Ray eway ancay utpay omesay ofway hattay odecay insideway ofway ourway ompojureCay application.way orFay example,way et\\'slay aysay hattay eway antway otay avehay anway appointmentway alendar.cay orFay ow,nay e\\'llway assumeway hattay heretay isway alreadyway away ostgreSQLPay appointments\"\"ay atabasesday efined:day REATECay ABLETay ppointmentsAay (ay idway ERIAL,Say eeting_atmay IMESTAMP,Tay eeting_withmay EXT,Tay otesnay EXTTay ;)ay NSERTIay NTOIay ppointmentsAay meeting_at,(ay eeting_with,may otes)nay ALUESVay \\'2013-july-1(ay 2:00\\',1ay Mom\\',\\'ay Always\\'ay oodgay otay eesay om\\');May Iay ownay antway otay ebay ableway otay ogay otay appointments/ay inway ymay ebWay application,way andway otay eesay hetay urrentcay istlay ofway appointments.way oTay oday his,tay \\'llIay eednay otay addway away outeray otay ymay ebWay application,way uchsay hattay it\\'llway invokeway away unctionfay hattay hentay oesgay hetay atabase,day andway etrievesray allway ofway hosetay elements.way eforeBay eway ancay oday o,say eway eednay otay oadlay hetay ostgreSQLPay DBCJay riverday intoway ourway lojureCay application.way eWay ancay oday histay ostmay easilyway inway hetay require:ay ectionsay ofway ourway amespacenay eclarationday inway andler.clj:hay ns(ay jtest.handlercay :use(ay ompojure.core)cay :require(ay compojure.handler[ay as:ay andler]hay compojure.route[ay as:ay oute]ray clojure.java.jdbc[ay as:ay ql]))say We(ay idday histay anuallymay inway hetay EPLRay ithway hetay require\"\"ay unction,fay ithway lightlysay ifferentday yntax.)say eWay hentay includeway ourway amesay efinitionday ofway db\"\"ay inway andler.clj,hay uchsay hattay ourway atabaseday onnectioncay tringsay illway tillsay ebay available.way hen,Tay eway addway away ewnay inelay otay ourway defroutes\"\"ay acro,may addingway away ewnay /appointments\"\"ay RL,Uay hichway illway invokeway hetay list-appointments\"\"ay unction:fay defroutes(ay app-routesway GET(ay /\"\"ay ][ay Hello\"ay orld\")Way GET(ay /appointments\"\"ay ][ay ist-appointments)lay GET(ay /fancy/:name\"\"ay name][ay ay-hello)say route/resources(ay /\")\"ay route/not-found(ay Not\"ay ound\"))Fay inally,Fay eway efineday ist-appointments,lay away unctionfay hichway executesway anway QLSay uery,qay andway hentay rabsgay hetay esultingray ecordsray andway urnstay hemtay intoway away ulletedbay istlay inway TML:Hay defn(ay ist-appointmentslay req][ay html(ay :h1[ay Current\"ay appointments\"]way :ul[ay sql/with-connection(ay bday sql/with-query-results(ay sray \"select[ay *ay romfay appointments\"]way doall(ay map(ay ormat-appointmentfay s))))]))ray ememberRay hattay inway away unctionalfay anguagelay ikelay lojure,Cay hetay ideaway isway otay etgay hetay esultsray romfay hetay atabase,day andway hentay rocesspay hemtay inway omesay ay,way andinghay hemtay offway otay anotherway unctionfay orfay isplayday or(ay urtherfay rocessing).pay heTay aboveway unctionfay roducespay TMLHay output,way usingway hetay iccupHay TML-generationHay ystem.say singUay iccup,Hay eway ancay easilyway reatecay as(ay inway hetay aboveway unction)fay anway 1Hay eadline,hay ollowedfay ybay away ul\"\"ay ist.lay heTay ealray agicmay appenshay inway ourway allcay otay ql/with-query-results.say hatTay unctionfay utspay hetay esultsray ofway ourway atabaseday allcay inway hetay rs\"\"ay ariable.vay eWay ancay hentay oday away umbernay ofway ifferentday hingstay ithway hattay esultset.ray nIay histay ase,cay eway antway otay urntay eachway ecordray intoway anway li\"\"ay agtay inway hetay inalfay TML.Hay heTay easiestway ayway otay oday hattay isway otay applyway away unctionfay otay eachway elementway ofway hetay esultset.ray nIay lojureCay as(ay inway anymay unctionalfay anguages),lay eway oday histay ithway hetay map\"\"ay unction,fay hichway ransformstay away ollectioncay ofway itemsway intoway away ewnay ollectioncay ofway equalway ength.lay hatWay oesday hetay ormat-appointmentfay unctionfay o?day sAay ouyay ancay imagine,way itway urnstay anway appointmentway ecordray intoway TML:Hay defn(ay ormat-appointmentfay one-appointment][ay html(ay :li[ay :meeting_at(ay one-appointment)way \"ay :ay \"ay :meeting_with(ay one-appointment)way \"ay \"(ay :notes(ay one-appointment)way )\"\"ay ))]ay nIay otherway ords,way e\\'llway reattay hetay ecordray asway ifway itway ereway away ash,hay andway hentay etrieveray hetay elementsway keys)(ay romfay hattay ashhay usingway lojure\\'sCay horthandsay yntaxsay orfay oingday o.say eWay rapway hattay upway intoway TML,Hay andway ancay hentay isplayday itway orfay hetay user.way heTay advantageway ofway ecomposingday ourway isplayday unctionalityfay intoway wotay unctionsfay isway hattay eway ancay ownay hangecay hetay ayway inway hichway appointmentsway areway isplayed,day ithoutway odifingmay hetay ainmay unctionfay hat\\'stay alledcay henway appointments/ay isway equestedray ybay hetay user.way nsertingIay ataday --------------ay et\\'sLay aysay hattay eway alsoway antway otay insertway ataday intoway ourway appointmentway ook.bay oTay oday hat,tay e\\'llway eednay anway TMLHay ormfay hichway hentay ubmitssay itselfway otay away RLUay onway ourway ite.say et\\'sLay irstfay reatecay away implesay ormfay --ay asway always,way rittenway asway away unction:fay defn(ay ew-meeting-formnay [ay eqray ]ay html(ay :form[ay :method{ay POST\"\"ay action:ay /create-meeting\"}\"ay :p[ay Meeting\"ay atway in(ay 013-06-28T11:082ay ormat):fay \"ay :input[ay :type{ay text\"\"ay name:ay meeting_at\"}]]\"ay :p[ay Meeting\"ay ith:way \"ay :input[ay :type{ay text\"\"ay name:ay meeting_with\"}]]\"ay :p[ay Notes:\"ay \"ay :input[ay :type{ay text\"\"ay name:ay notes\"}]]\"ay :p[ay :input[ay :type{ay submit\"\"ay value:ay Add\"ay eeting\"}]]]))may oticeNay owhay hetay iccupHay ibrarylay againway etslay usway efineday TMLHay agstay easily.way nIay histay ase,cay ecausebay it\\'sway away orm,fay eway eednay otay elltay hetay ormfay otay hichway RLUay itway houldsay ebay ubmitted.say nIay histay ase,cay hat\\'lltay ebay hetay create-meeting/ay RL.Uay eWay hustay eednay otay efineday othbay new-meeting/ay andway create-meeting/ay inway ourway defroutes\"\"ay acromay all:cay defroutes(ay app-routesway GET(ay /\"\"ay ][ay Hello\"ay orld\")Way GET(ay /meetings\"\"ay ][ay ist-meetings)lay GET(ay /new-meeting\"\"ay ][ay ew-meeting-form)nay POST(ay /create-meeting\"\"ay ][ay reate-meeting)cay GET(ay /fancy/:name\"\"ay name][ay ay-hello)say route/resources(ay /\")\"ay route/not-found(ay Not\"ay ound\"))Fay sAay ouyay ancay ee,say hetay outesray istinguishday etweenbay ETGay andway OSTPay equests.ray hus,Tay away ETGay equestray otay create-meeting/ay illway otnay avehay anyway effectway i.e.,(ay illway esultray inway hetay not\"ay ound\"fay essagemay eingbay isplayed);day away OSTPay equestray isway eedednay otay akemay itway ork.way verythingEay omescay ogethertay henway eway antway otay addway away ewnay eetingmay otay ourway atabase.day eWay etgay hetay arameterspay romfay hetay ubmittedsay orm,fay andway hentay insertway hemtay intoway hetay atabase.day \\'mIay tillsay earninglay aboutway lojureCay andway ompojure,Cay andway ontinuecay otay iscoverday ewnay ibrarieslay ofway unctionsfay hattay ancay akemay itway easierway otay reatecay TML,Hay orms,fay andway orkway ithway atabases.day orFay example,way \\'veIay ecentlyray iscoveredday QLKorma,Say away ibrarylay hattay eemssay almostway ikelay uby\\'sRay ctiveRecord,Aay inway hattay itway rovidespay away SLDay hattay reatescay atabaseday ueries.qay heTay owerpay ofway lojure,Cay ikelay allway isps,Lay isway artlypay asedbay onway hetay ideaway hattay ouyay oday everythingway inway mallsay teps,say andway hentay ombinecay hosetay tepssay orfay hetay ullfay ower.pay ere,Hay orfay example,way isway hetay unctionfay hattay Iay roteway otay addway away ewnay ecordray meeting)(ay otay ourway atabase:day defn(ay reate-meetingcay req][ay sql/with-connection(ay bday let(ay form-params[ay :form-params(ay eq)ray eeting-at-stringmay get(ay orm-paramsfay meeting_at\")\"ay eeting-at-parsedmay clj-time.format/parse(ay clj-time.format/formatters(ay date-hour-minute):ay eeting-at-string)may eeting-at-timestampmay clj-time.coerce/to-timestamp(ay eeting-at-parsed)may eeting-withmay get(ay orm-paramsfay meeting_with\")\"ay otesnay get(ay orm-paramsfay notes\")]\"ay sql/insert-values(ay appointments:ay :meeting_at[ay meeting_with:ay notes]:ay meeting-at-timestamp[ay eeting-withmay otes]))nay Added!\"))\"ay heTay irstfay andway inalfay artspay ofway hetay unctionfay areway imilarsay inway anymay aysway otay hetay atabaseday owray insertionway hattay eway executedway outsideway ofway ompojure:Cay eWay useway ql/with-connectionsay otay onnectcay otay away atabase,day andway ithinway hattay useway ql/insert-valuessay otay insertway away owray intoway away pecificsay able.tay heTay interestingway artpay ofway histay unctionfay is,way Iay elieve,bay hatway appenshay inway hetay iddle:may singUay hetay let\"\"ay orm,fay hichway erformspay ocallay indingsbay ofway amesnay otay alues,vay Iay ancay rabgay hetay aluesvay romfay hetay ubmittedsay TMLHay ormfay elements,way reparingpay hemtay orfay entryway intoway hetay atabase.day Iay urtherfay aketay advantageway ofway hetay actfay hattay lojure\\'sCay let\"\"ay allowsway usway otay indbay amesnay asedbay onway reviouslypay oundbay amesnay --ay hus,tay Iay ancay etsay eeting-at-stringmay otay hetay TMLHay ormfay alue,vay andway hentay eeting-at-parsedmay otay hetay aluevay Iay etgay afterway onvertingcay hetay tringsay otay away arsedpay lojureCay alue,vay andway hentay eeting-at-timestampmay otay urntay itway intoway away ataday ypetay hattay othbay lojureCay andway ostgreSQLPay ancay andlehay easily.way uchMay ofway hetay eavyhay iftinglay erehay isway eingbay oneday ybay hetay lj-timecay ackage,pay hichway andleshay away ideway arietyvay ofway ifferentday ate/timeday ackages.pay nIay hetay end,way e\\'reway ableway otay ogay otay new-meeting,/ay enterway appropriateway ataday intoway ourway TMLHay orm,fay andway avesay hattay ataday otay hetay atabase.day eWay ancay hentay ogay otay meetings/ay andway iewvay hetay ullfay istlay ofway eetingsmay hattay eway avehay et.say onclusionCay ----------ay Iay avehay alwaysway ovedlay isp,Lay andway avehay oftenway ishedway hattay Iay ouldcay indfay away ayway otay useway itway racticallypay inway ymay ay-to-dayday ork.way Not(ay hattay Iay islikeday ubyRay andway ython,Pay indmay ou,yay utbay hetay rainwashingbay hattay Iay eceivedray inway ollegecay asway uiteqay effective.)way layingPay ithway lojureCay asway away anguage,lay andway ompojureCay otay evelopday ebWay applications,way ashay eenbay away efreshingray experienceway --ay oneway hichway Iay intendway otay ontinuecay rying,tay andway hichway Iay encourageway ouyay otay attempt,way asway ell.way eferencesRay ----------ay heTay omehay agepay orfay hetay lojureCay anguagelay isway ttp://clojure.org/,hay andway includesway away reatgay ealday ofway ocumentation.day ocumentationDay orfay ompojureCay isway atway itsway omehay age,pay ttp://compojure.org,hay andway iccupHay isway atway ttps://github.com/weavejester/hiccup.hay heTay QLKormaSay ibrary,lay hichway Iay eferencedray ere,hay isway atway ttp://www.sqlkorma.com/.hay heTay ateday andway imetay outinesray areway availableway atway ttps://github.com/KirinDave/clj-timehay onway itHub,Gay andway rovidepay away reatgay ealday ofway usefulway unctionalityfay orfay anyoneway ealingday ithway atesday andway imestay inway lojure.Cay Iay oundfay away umbernay ofway oodgay examplesway ofway usingway QLSay andway DBCJay romfay ithinway lojureCay atway ikibooks:Way ttps://en.wikibooks.org/wiki/Clojure_Programming/Examples/JDBC_Exampleshay woTay oodgay ooksbay aboutway lojureCay areway Programming\"ay lojure,\"Cay ybay tuartSay allowayHay andway aronAay edraBay published(ay ybay hetay ragmaticPay rogrammers)Pay andway Clojure\"ay rogramming,\"Pay ybay hasCay merick,Eay rianBay arper,Cay hristopheCay randGay andway ublishedpay ybay \\'Reilly.Oay \\'veIay eadray othbay overway hetay astlay earyay orway wo,tay andway enjoyedway othbay ofway hemtay orfay ifferentday easons,ray ithoutway away learcay reference.pay ------------------------------------------------------------ay istingLay :1ay andler.clj:hay ourceSay odecay orfay hetay implesay appointment-bookway ystemsay ns(ay jtest.handlercay :use(ay ompojure.corecay iccup.corehay lj-time.formatcay lj-time.coerce)cay :require(ay compojure.handler[ay as:ay andler]hay compojure.route[ay as:ay oute]ray clojure.java.jdbc[ay as:ay ql]))say defn(ay ay-hellosay req][ay html(ay :p[ay :b[ay Hello,\"ay \"ay get(ay get(ay eqray route-params):ay name):ay ]))]ay def(ay bday :classname{ay org.postgresql.Driver\"\"ay subprotocol:ay postgresql\"\"ay subname:ay str(ay //\"\"ay localhost\"\"ay :\"\"ay 4325ay /\"\"ay cjtest\")\"ay user:ay reuven\"\"ay password:ay \"})\"ay defn(ay ormat-meetingfay one-meeting][ay html(ay :li[ay :meeting_at(ay one-meeting)way \"ay :ay \"ay :meeting_with(ay one-meeting)way \"ay \"(ay :notes(ay one-meeting)way )\"\"ay ))]ay defn(ay ew-meeting-formnay [ay eqray ]ay html(ay :form[ay :method{ay POST\"\"ay action:ay /create-meeting\"}\"ay :p[ay Meeting\"ay atway in(ay 013-06-28T11:082ay ormat):fay \"ay :input[ay :type{ay text\"\"ay name:ay meeting_at\"}]]\"ay :p[ay Meeting\"ay ith:way \"ay :input[ay :type{ay text\"\"ay name:ay meeting_with\"}]]\"ay :p[ay Notes:\"ay \"ay :input[ay :type{ay text\"\"ay name:ay notes\"}]]\"ay :p[ay :input[ay :type{ay submit\"\"ay value:ay Add\"ay eeting\"}]]]))may defn(ay ist-meetingslay req][ay html(ay :h1[ay Current\"ay eetings\"]may :ul[ay sql/with-connection(ay bday sql/with-query-results(ay sray \"select[ay *ay romfay appointments\"]way doall(ay map(ay ormat-meetingfay s))))]))ray defn(ay reate-meetingcay req][ay sql/with-connection(ay bday let(ay form-params[ay :form-params(ay eq)ray eeting-at-stringmay get(ay orm-paramsfay meeting_at\")\"ay eeting-at-parsedmay clj-time.format/parse(ay clj-time.format/formatters(ay date-hour-minute):ay eeting-at-string)may eeting-at-timestampmay clj-time.coerce/to-timestamp(ay eeting-at-parsed)may eeting-withmay get(ay orm-paramsfay meeting_with\")\"ay otesnay get(ay orm-paramsfay notes\")]\"ay sql/insert-values(ay appointments:ay :meeting_at[ay meeting_with:ay notes]:ay meeting-at-timestamp[ay eeting-withmay otes]))nay Added!\"))\"ay defroutes(ay app-routesway GET(ay /\"\"ay ][ay Hello\"ay orld\")Way GET(ay /meetings\"\"ay ][ay ist-meetings)lay GET(ay /new-meeting\"\"ay ][ay ew-meeting-form)nay POST(ay /create-meeting\"\"ay ][ay reate-meeting)cay GET(ay /fancy/:name\"\"ay name][ay ay-hello)say route/resources(ay /\")\"ay route/not-found(ay Not\"ay ound\"))Fay def(ay appway handler/site(ay app-routes))way'"
      ]
     },
     "execution_count": 166,
     "metadata": {},
     "output_type": "execute_result"
    }
   ],
   "source": [
    "def plword(word):\n",
    "    if word[0] in 'aeiou':\n",
    "        return word + 'way'\n",
    "    else:\n",
    "        return word[1:] + word[0] + 'ay'\n",
    "    \n",
    "' '.join([plword(word)\n",
    "for word in open('/Users/reuven/Text/Websmith/cgi-column-200').read().split()])"
   ]
  },
  {
   "cell_type": "code",
   "execution_count": 172,
   "metadata": {
    "collapsed": false
   },
   "outputs": [],
   "source": [
    "users = set([line.split(\":\")[0]              # SELECT\n",
    "            for line in open('/etc/passwd')  # FROM\n",
    "            if not line.startswith(\"#\")])     # WHERE"
   ]
  },
  {
   "cell_type": "code",
   "execution_count": 173,
   "metadata": {
    "collapsed": false
   },
   "outputs": [
    {
     "data": {
      "text/plain": [
       "True"
      ]
     },
     "execution_count": 173,
     "metadata": {},
     "output_type": "execute_result"
    }
   ],
   "source": [
    "'root' in users"
   ]
  },
  {
   "cell_type": "code",
   "execution_count": 174,
   "metadata": {
    "collapsed": false
   },
   "outputs": [
    {
     "data": {
      "text/plain": [
       "True"
      ]
     },
     "execution_count": 174,
     "metadata": {},
     "output_type": "execute_result"
    }
   ],
   "source": [
    "'nobody' in users"
   ]
  },
  {
   "cell_type": "code",
   "execution_count": 175,
   "metadata": {
    "collapsed": false
   },
   "outputs": [
    {
     "data": {
      "text/plain": [
       "False"
      ]
     },
     "execution_count": 175,
     "metadata": {},
     "output_type": "execute_result"
    }
   ],
   "source": [
    "'reuven' in users"
   ]
  },
  {
   "cell_type": "code",
   "execution_count": 176,
   "metadata": {
    "collapsed": false
   },
   "outputs": [
    {
     "data": {
      "text/plain": [
       "set"
      ]
     },
     "execution_count": 176,
     "metadata": {},
     "output_type": "execute_result"
    }
   ],
   "source": [
    "type(users)"
   ]
  },
  {
   "cell_type": "code",
   "execution_count": 177,
   "metadata": {
    "collapsed": false
   },
   "outputs": [
    {
     "data": {
      "text/plain": [
       "set"
      ]
     },
     "execution_count": 177,
     "metadata": {},
     "output_type": "execute_result"
    }
   ],
   "source": [
    "# set comprehension!\n",
    "users = {line.split(\":\")[0]              \n",
    "for line in open('/etc/passwd')  \n",
    "if not line.startswith(\"#\")}\n",
    "\n",
    "type(users)"
   ]
  },
  {
   "cell_type": "code",
   "execution_count": 178,
   "metadata": {
    "collapsed": false
   },
   "outputs": [
    {
     "data": {
      "text/plain": [
       "{10, 12, 15, 20, 30}"
      ]
     },
     "execution_count": 178,
     "metadata": {},
     "output_type": "execute_result"
    }
   ],
   "source": [
    "numbers = [10, 20, 15, 30, 20, 20, 20, 30, 12]\n",
    "set(numbers)"
   ]
  },
  {
   "cell_type": "code",
   "execution_count": 186,
   "metadata": {
    "collapsed": false
   },
   "outputs": [
    {
     "data": {
      "text/plain": [
       "63"
      ]
     },
     "execution_count": 186,
     "metadata": {},
     "output_type": "execute_result"
    }
   ],
   "source": [
    "sum({int(line.strip())\n",
    "for line in open('Files/nums.txt')\n",
    "if line.strip()})"
   ]
  },
  {
   "cell_type": "code",
   "execution_count": 189,
   "metadata": {
    "collapsed": false
   },
   "outputs": [
    {
     "data": {
      "text/plain": [
       "{'208.80.193.28',\n",
       " '65.55.106.131',\n",
       " '65.55.106.155',\n",
       " '65.55.106.183',\n",
       " '65.55.106.186',\n",
       " '65.55.207.126',\n",
       " '65.55.207.25',\n",
       " '65.55.207.50',\n",
       " '65.55.207.71',\n",
       " '65.55.207.77',\n",
       " '65.55.207.94',\n",
       " '65.55.215.75',\n",
       " '66.249.65.12',\n",
       " '66.249.65.38',\n",
       " '66.249.65.43',\n",
       " '66.249.71.65',\n",
       " '67.195.112.35',\n",
       " '67.218.116.165',\n",
       " '74.52.245.146',\n",
       " '82.34.9.20',\n",
       " '89.248.172.58',\n",
       " '98.242.170.241'}"
      ]
     },
     "execution_count": 189,
     "metadata": {},
     "output_type": "execute_result"
    }
   ],
   "source": [
    "# mini-access-log.txt\n",
    "{line.split()[0]\n",
    "for line in open('Files/mini-access-log.txt')}"
   ]
  },
  {
   "cell_type": "code",
   "execution_count": 192,
   "metadata": {
    "collapsed": false
   },
   "outputs": [
    {
     "data": {
      "text/plain": [
       "{'This': 4,\n",
       " 'a': 1,\n",
       " 'bunch': 5,\n",
       " 'class': 5,\n",
       " 'for': 3,\n",
       " 'is': 2,\n",
       " 'my': 2,\n",
       " 'of': 2,\n",
       " 'words': 5}"
      ]
     },
     "execution_count": 192,
     "metadata": {},
     "output_type": "execute_result"
    }
   ],
   "source": [
    "# list comprehensions\n",
    "# set comprehensions\n",
    "\n",
    "words = 'This is a bunch of words for my class'\n",
    "dict([(word, len(word))\n",
    "      for word in words.split()])"
   ]
  },
  {
   "cell_type": "code",
   "execution_count": 194,
   "metadata": {
    "collapsed": false
   },
   "outputs": [
    {
     "data": {
      "text/plain": [
       "[('a', 1), ('c', 3), ('b', 2)]"
      ]
     },
     "execution_count": 194,
     "metadata": {},
     "output_type": "execute_result"
    }
   ],
   "source": [
    "d = dict([('a', 1), ('b', 2), ('c',3)])\n",
    "d.items()"
   ]
  },
  {
   "cell_type": "code",
   "execution_count": 195,
   "metadata": {
    "collapsed": false
   },
   "outputs": [
    {
     "data": {
      "text/plain": [
       "{'This': 4,\n",
       " 'a': 1,\n",
       " 'bunch': 5,\n",
       " 'class': 5,\n",
       " 'for': 3,\n",
       " 'is': 2,\n",
       " 'my': 2,\n",
       " 'of': 2,\n",
       " 'words': 5}"
      ]
     },
     "execution_count": 195,
     "metadata": {},
     "output_type": "execute_result"
    }
   ],
   "source": [
    "# dict comprehension\n",
    "words = 'This is a bunch of words for my class'\n",
    "{ word :  len(word) \n",
    " for word in words.split() }"
   ]
  },
  {
   "cell_type": "code",
   "execution_count": 196,
   "metadata": {
    "collapsed": false
   },
   "outputs": [
    {
     "name": "stdout",
     "output_type": "stream",
     "text": [
      "   a  =   1\r\n",
      "c  =    3\r\n",
      "\r\n",
      "\r\n",
      "b=2\r\n",
      "   xyz  =    123\r\n",
      "\r\n",
      "\r\n",
      "d=4\r\n"
     ]
    }
   ],
   "source": [
    "%cat Files/newconfig.txt"
   ]
  },
  {
   "cell_type": "code",
   "execution_count": 201,
   "metadata": {
    "collapsed": false
   },
   "outputs": [
    {
     "data": {
      "text/plain": [
       "{'b': '2', 'c': '3', 'd': '4', 'e': '1', 'xyz': '123'}"
      ]
     },
     "execution_count": 201,
     "metadata": {},
     "output_type": "execute_result"
    }
   ],
   "source": [
    "translations = {'a':'e'}\n",
    "\n",
    "def get_translated_key(line):\n",
    "    key = line.split(\"=\")[0].strip() \n",
    "    return translations.get(key, key)\n",
    "\n",
    "{get_translated_key(line)  : line.split('=')[1].strip()\n",
    "for line in open('Files/newconfig.txt')\n",
    "if line.strip()}"
   ]
  },
  {
   "cell_type": "code",
   "execution_count": 204,
   "metadata": {
    "collapsed": false
   },
   "outputs": [
    {
     "data": {
      "text/plain": [
       "{'a': 3, 'b': 6}"
      ]
     },
     "execution_count": 204,
     "metadata": {},
     "output_type": "execute_result"
    }
   ],
   "source": [
    "d = {'a':1,'b':2}\n",
    "d = {key : value * 3\n",
    "      for key, value in d.items()}"
   ]
  },
  {
   "cell_type": "code",
   "execution_count": 205,
   "metadata": {
    "collapsed": false
   },
   "outputs": [
    {
     "data": {
      "text/plain": [
       "['Python', 'This', 'a', 'bunch', 'class', 'for', 'is', 'my', 'of', 'words']"
      ]
     },
     "execution_count": 205,
     "metadata": {},
     "output_type": "execute_result"
    }
   ],
   "source": [
    "words = 'This is a bunch of words for my Python class'.split()\n",
    "words.sort()\n",
    "words"
   ]
  },
  {
   "cell_type": "code",
   "execution_count": 206,
   "metadata": {
    "collapsed": false
   },
   "outputs": [
    {
     "data": {
      "text/plain": [
       "['a', 'bunch', 'class', 'for', 'is', 'my', 'of', 'Python', 'This', 'words']"
      ]
     },
     "execution_count": 206,
     "metadata": {},
     "output_type": "execute_result"
    }
   ],
   "source": [
    "words.sort(key=str.lower)\n",
    "words"
   ]
  },
  {
   "cell_type": "code",
   "execution_count": 207,
   "metadata": {
    "collapsed": false
   },
   "outputs": [
    {
     "data": {
      "text/plain": [
       "['a', 'is', 'my', 'of', 'for', 'This', 'bunch', 'class', 'words', 'Python']"
      ]
     },
     "execution_count": 207,
     "metadata": {},
     "output_type": "execute_result"
    }
   ],
   "source": [
    "words.sort(key=len)\n",
    "words"
   ]
  },
  {
   "cell_type": "code",
   "execution_count": 208,
   "metadata": {
    "collapsed": false
   },
   "outputs": [
    {
     "data": {
      "text/plain": [
       "['Python', 'bunch', 'class', 'words', 'This', 'for', 'is', 'my', 'of', 'a']"
      ]
     },
     "execution_count": 208,
     "metadata": {},
     "output_type": "execute_result"
    }
   ],
   "source": [
    "words.sort(key=len, reverse=True)\n",
    "words"
   ]
  },
  {
   "cell_type": "code",
   "execution_count": 209,
   "metadata": {
    "collapsed": false
   },
   "outputs": [
    {
     "data": {
      "text/plain": [
       "[[1, 0, 6], [1, 2, 3], [3, 1, 2], [3, 4, 5], [4, 3, 5]]"
      ]
     },
     "execution_count": 209,
     "metadata": {},
     "output_type": "execute_result"
    }
   ],
   "source": [
    "mylist = [[1,2,3], [3,1,2], [3,4,5], [4,3,5], [1,0,6]]\n",
    "mylist.sort()\n",
    "mylist"
   ]
  },
  {
   "cell_type": "code",
   "execution_count": 210,
   "metadata": {
    "collapsed": false
   },
   "outputs": [
    {
     "data": {
      "text/plain": [
       "[[1, 0, 6], [3, 1, 2], [1, 2, 3], [4, 3, 5], [3, 4, 5]]"
      ]
     },
     "execution_count": 210,
     "metadata": {},
     "output_type": "execute_result"
    }
   ],
   "source": [
    "def by_1_then_0_then_2(x):\n",
    "    return x[1], x[0], x[2]\n",
    "\n",
    "mylist.sort(key=by_1_then_0_then_2)\n",
    "mylist"
   ]
  },
  {
   "cell_type": "code",
   "execution_count": 211,
   "metadata": {
    "collapsed": false
   },
   "outputs": [
    {
     "data": {
      "text/plain": [
       "[2, 5, 7, 10, 14, 30]"
      ]
     },
     "execution_count": 211,
     "metadata": {},
     "output_type": "execute_result"
    }
   ],
   "source": [
    "t = (10, 5, 7, 30, 2, 14)\n",
    "sorted(t)"
   ]
  },
  {
   "cell_type": "code",
   "execution_count": 212,
   "metadata": {
    "collapsed": false
   },
   "outputs": [
    {
     "data": {
      "text/plain": [
       "(10, 5, 7, 30, 2, 14)"
      ]
     },
     "execution_count": 212,
     "metadata": {},
     "output_type": "execute_result"
    }
   ],
   "source": [
    "t"
   ]
  },
  {
   "cell_type": "code",
   "execution_count": 218,
   "metadata": {
    "collapsed": false
   },
   "outputs": [
    {
     "name": "stdout",
     "output_type": "stream",
     "text": [
      "a: 1\n",
      "c: 3\n",
      "b: 2\n",
      "da: 4\n",
      "ab: 5\n",
      "acdwhatever: 10\n"
     ]
    }
   ],
   "source": [
    "d = {'a':1, 'b':2, 'c':3, 'da':4, 'ab':5, 'acdwhatever': 10}\n",
    "for key in sorted(d, key=len):\n",
    "    print \"{}: {}\".format(key, d[key])"
   ]
  },
  {
   "cell_type": "code",
   "execution_count": 221,
   "metadata": {
    "collapsed": false
   },
   "outputs": [
    {
     "name": "stdout",
     "output_type": "stream",
     "text": [
      "c -10\n",
      "g -5\n",
      "d 15\n",
      "b 20\n",
      "e 30\n",
      "a 50\n",
      "f 60\n"
     ]
    }
   ],
   "source": [
    "d = {'a':50, 'b':20, 'c':-10, 'd':15, 'e':30, 'f':60, 'g':-5}\n",
    "def by_value(t):\n",
    "    return t[1]\n",
    "\n",
    "for k, v in sorted(d.items(), key=by_value):\n",
    "    print k, v"
   ]
  },
  {
   "cell_type": "code",
   "execution_count": 222,
   "metadata": {
    "collapsed": false
   },
   "outputs": [
    {
     "data": {
      "text/plain": [
       "[('a', 10), ('b', 20), ('c', 30)]"
      ]
     },
     "execution_count": 222,
     "metadata": {},
     "output_type": "execute_result"
    }
   ],
   "source": [
    "s = 'abc'\n",
    "t = (10, 20, 30)\n",
    "zip(s, t)"
   ]
  },
  {
   "cell_type": "code",
   "execution_count": 223,
   "metadata": {
    "collapsed": true
   },
   "outputs": [],
   "source": [
    "d = dict(zip(s, t))"
   ]
  },
  {
   "cell_type": "code",
   "execution_count": 224,
   "metadata": {
    "collapsed": false
   },
   "outputs": [
    {
     "data": {
      "text/plain": [
       "{'a': 10, 'b': 20, 'c': 30}"
      ]
     },
     "execution_count": 224,
     "metadata": {},
     "output_type": "execute_result"
    }
   ],
   "source": [
    "d"
   ]
  },
  {
   "cell_type": "code",
   "execution_count": 225,
   "metadata": {
    "collapsed": false
   },
   "outputs": [
    {
     "data": {
      "text/plain": [
       "[('a', 10), ('c', 30), ('b', 20)]"
      ]
     },
     "execution_count": 225,
     "metadata": {},
     "output_type": "execute_result"
    }
   ],
   "source": [
    "d.items()"
   ]
  },
  {
   "cell_type": "code",
   "execution_count": 226,
   "metadata": {
    "collapsed": false
   },
   "outputs": [
    {
     "data": {
      "text/plain": [
       "[('a', 10), ('b', 20), ('c', 30)]"
      ]
     },
     "execution_count": 226,
     "metadata": {},
     "output_type": "execute_result"
    }
   ],
   "source": [
    "s = 'abcde'\n",
    "t = (10, 20, 30)\n",
    "zip(s, t)"
   ]
  },
  {
   "cell_type": "code",
   "execution_count": 231,
   "metadata": {
    "collapsed": false
   },
   "outputs": [
    {
     "name": "stdout",
     "output_type": "stream",
     "text": [
      "100 loops, best of 3: 7.2 ms per loop\n"
     ]
    }
   ],
   "source": [
    "%timeit y = [x * x for x in xrange(100000)]"
   ]
  },
  {
   "cell_type": "code",
   "execution_count": 232,
   "metadata": {
    "collapsed": false
   },
   "outputs": [
    {
     "name": "stdout",
     "output_type": "stream",
     "text": [
      "100 loops, best of 3: 14.8 ms per loop\n"
     ]
    }
   ],
   "source": [
    "%timeit y = map(lambda x: x*x, xrange(100000))"
   ]
  },
  {
   "cell_type": "code",
   "execution_count": 233,
   "metadata": {
    "collapsed": false
   },
   "outputs": [
    {
     "data": {
      "text/plain": [
       "['Python', 'bunch', 'class', 'words', 'This', 'for', 'is', 'my', 'of', 'a']"
      ]
     },
     "execution_count": 233,
     "metadata": {},
     "output_type": "execute_result"
    }
   ],
   "source": [
    "words"
   ]
  },
  {
   "cell_type": "code",
   "execution_count": 234,
   "metadata": {
    "collapsed": false
   },
   "outputs": [
    {
     "name": "stdout",
     "output_type": "stream",
     "text": [
      "Now checking Python\n",
      "Now checking bunch\n",
      "Now checking class\n",
      "Now checking words\n",
      "Now checking This\n",
      "Now checking for\n",
      "Now checking is\n",
      "Now checking my\n",
      "Now checking of\n",
      "Now checking a\n"
     ]
    }
   ],
   "source": [
    "def by_loud_comparison(word):\n",
    "    print \"Now checking {}\".format(word)\n",
    "    return word\n",
    "\n",
    "words.sort(key=by_loud_comparison)"
   ]
  },
  {
   "cell_type": "code",
   "execution_count": 235,
   "metadata": {
    "collapsed": true
   },
   "outputs": [],
   "source": [
    "import operator"
   ]
  },
  {
   "cell_type": "code",
   "execution_count": 236,
   "metadata": {
    "collapsed": false
   },
   "outputs": [
    {
     "data": {
      "text/plain": [
       "True"
      ]
     },
     "execution_count": 236,
     "metadata": {},
     "output_type": "execute_result"
    }
   ],
   "source": [
    "operator.gt(5, 3)"
   ]
  },
  {
   "cell_type": "code",
   "execution_count": 238,
   "metadata": {
    "collapsed": false
   },
   "outputs": [
    {
     "name": "stdout",
     "output_type": "stream",
     "text": [
      "Help on method_descriptor:\n",
      "\n",
      "sort(...)\n",
      "    L.sort(cmp=None, key=None, reverse=False) -- stable sort *IN PLACE*;\n",
      "    cmp(x, y) -> -1, 0, 1\n",
      "\n"
     ]
    }
   ],
   "source": [
    "help(list.sort)"
   ]
  },
  {
   "cell_type": "code",
   "execution_count": 239,
   "metadata": {
    "collapsed": false
   },
   "outputs": [
    {
     "data": {
      "text/plain": [
       "{'a'}"
      ]
     },
     "execution_count": 239,
     "metadata": {},
     "output_type": "execute_result"
    }
   ],
   "source": [
    "s = set()\n",
    "s.add('a')\n",
    "s.add('a')\n",
    "s"
   ]
  },
  {
   "cell_type": "code",
   "execution_count": 240,
   "metadata": {
    "collapsed": true
   },
   "outputs": [],
   "source": [
    "s.add('a' * 1000)\n",
    "s.add('a' * 1000)"
   ]
  },
  {
   "cell_type": "code",
   "execution_count": 241,
   "metadata": {
    "collapsed": false
   },
   "outputs": [
    {
     "data": {
      "text/plain": [
       "{'a',\n",
       " 'aaaaaaaaaaaaaaaaaaaaaaaaaaaaaaaaaaaaaaaaaaaaaaaaaaaaaaaaaaaaaaaaaaaaaaaaaaaaaaaaaaaaaaaaaaaaaaaaaaaaaaaaaaaaaaaaaaaaaaaaaaaaaaaaaaaaaaaaaaaaaaaaaaaaaaaaaaaaaaaaaaaaaaaaaaaaaaaaaaaaaaaaaaaaaaaaaaaaaaaaaaaaaaaaaaaaaaaaaaaaaaaaaaaaaaaaaaaaaaaaaaaaaaaaaaaaaaaaaaaaaaaaaaaaaaaaaaaaaaaaaaaaaaaaaaaaaaaaaaaaaaaaaaaaaaaaaaaaaaaaaaaaaaaaaaaaaaaaaaaaaaaaaaaaaaaaaaaaaaaaaaaaaaaaaaaaaaaaaaaaaaaaaaaaaaaaaaaaaaaaaaaaaaaaaaaaaaaaaaaaaaaaaaaaaaaaaaaaaaaaaaaaaaaaaaaaaaaaaaaaaaaaaaaaaaaaaaaaaaaaaaaaaaaaaaaaaaaaaaaaaaaaaaaaaaaaaaaaaaaaaaaaaaaaaaaaaaaaaaaaaaaaaaaaaaaaaaaaaaaaaaaaaaaaaaaaaaaaaaaaaaaaaaaaaaaaaaaaaaaaaaaaaaaaaaaaaaaaaaaaaaaaaaaaaaaaaaaaaaaaaaaaaaaaaaaaaaaaaaaaaaaaaaaaaaaaaaaaaaaaaaaaaaaaaaaaaaaaaaaaaaaaaaaaaaaaaaaaaaaaaaaaaaaaaaaaaaaaaaaaaaaaaaaaaaaaaaaaaaaaaaaaaaaaaaaaaaaaaaaaaaaaaaaaaaaaaaaaaaaaaaaaaaaaaaaaaaaaaaaaaaaaaaaaaaaaaaaaaaaaaaaaaaaaaaaaaaaaaaaaaaaaaaaaaaaaaaaaaaaaaaaaaaaaaaaaaaaaaaaaaaaaaaaaaaaaaaaaaaaaaaaaaaaaaaaaaaaaaaaaaaaaaaaaaaaaaaaaaaaaaaaaaaaaaaaaaaaaaaaaaaaaaaaaaaaaaaaaaaaa'}"
      ]
     },
     "execution_count": 241,
     "metadata": {},
     "output_type": "execute_result"
    }
   ],
   "source": [
    "s"
   ]
  },
  {
   "cell_type": "code",
   "execution_count": 242,
   "metadata": {
    "collapsed": false
   },
   "outputs": [
    {
     "data": {
      "text/plain": [
       "100"
      ]
     },
     "execution_count": 242,
     "metadata": {},
     "output_type": "execute_result"
    }
   ],
   "source": [
    "hash(100)"
   ]
  },
  {
   "cell_type": "code",
   "execution_count": 243,
   "metadata": {
    "collapsed": false
   },
   "outputs": [
    {
     "data": {
      "text/plain": [
       "50"
      ]
     },
     "execution_count": 243,
     "metadata": {},
     "output_type": "execute_result"
    }
   ],
   "source": [
    "hash(50)"
   ]
  },
  {
   "cell_type": "code",
   "execution_count": 244,
   "metadata": {
    "collapsed": false
   },
   "outputs": [
    {
     "data": {
      "text/plain": [
       "-2"
      ]
     },
     "execution_count": 244,
     "metadata": {},
     "output_type": "execute_result"
    }
   ],
   "source": [
    "hash(-2)"
   ]
  },
  {
   "cell_type": "code",
   "execution_count": 245,
   "metadata": {
    "collapsed": false
   },
   "outputs": [
    {
     "data": {
      "text/plain": [
       "-2"
      ]
     },
     "execution_count": 245,
     "metadata": {},
     "output_type": "execute_result"
    }
   ],
   "source": [
    "hash(-1)"
   ]
  },
  {
   "cell_type": "code",
   "execution_count": 246,
   "metadata": {
    "collapsed": false
   },
   "outputs": [
    {
     "data": {
      "text/plain": [
       "{-2, -1}"
      ]
     },
     "execution_count": 246,
     "metadata": {},
     "output_type": "execute_result"
    }
   ],
   "source": [
    "s = set([-1, -2])\n",
    "s"
   ]
  },
  {
   "cell_type": "code",
   "execution_count": 247,
   "metadata": {
    "collapsed": false
   },
   "outputs": [
    {
     "data": {
      "text/plain": [
       "False"
      ]
     },
     "execution_count": 247,
     "metadata": {},
     "output_type": "execute_result"
    }
   ],
   "source": [
    "-1 == -2"
   ]
  },
  {
   "cell_type": "code",
   "execution_count": null,
   "metadata": {
    "collapsed": true
   },
   "outputs": [],
   "source": [
    "# reuven@lerner.co.il"
   ]
  }
 ],
 "metadata": {
  "kernelspec": {
   "display_name": "Python 2",
   "language": "python",
   "name": "python2"
  },
  "language_info": {
   "codemirror_mode": {
    "name": "ipython",
    "version": 2
   },
   "file_extension": ".py",
   "mimetype": "text/x-python",
   "name": "python",
   "nbconvert_exporter": "python",
   "pygments_lexer": "ipython2",
   "version": "2.7.12"
  }
 },
 "nbformat": 4,
 "nbformat_minor": 0
}
