{
 "cells": [
  {
   "cell_type": "code",
   "execution_count": 1,
   "metadata": {
    "collapsed": false
   },
   "outputs": [
    {
     "name": "stdout",
     "output_type": "stream",
     "text": [
      "Hello, world!\n"
     ]
    }
   ],
   "source": [
    "print \"Hello, world!\""
   ]
  },
  {
   "cell_type": "code",
   "execution_count": 2,
   "metadata": {
    "collapsed": true
   },
   "outputs": [],
   "source": [
    "x = 5"
   ]
  },
  {
   "cell_type": "code",
   "execution_count": 3,
   "metadata": {
    "collapsed": true
   },
   "outputs": [],
   "source": [
    "y = 'this is a string'"
   ]
  },
  {
   "cell_type": "code",
   "execution_count": 4,
   "metadata": {
    "collapsed": false
   },
   "outputs": [
    {
     "name": "stdout",
     "output_type": "stream",
     "text": [
      "Enter your name: Reuven\n"
     ]
    }
   ],
   "source": [
    "name = raw_input(\"Enter your name: \")"
   ]
  },
  {
   "cell_type": "code",
   "execution_count": 5,
   "metadata": {
    "collapsed": false
   },
   "outputs": [
    {
     "name": "stdout",
     "output_type": "stream",
     "text": [
      "Reuven\n"
     ]
    }
   ],
   "source": [
    "print name"
   ]
  },
  {
   "cell_type": "code",
   "execution_count": 6,
   "metadata": {
    "collapsed": false
   },
   "outputs": [
    {
     "data": {
      "text/plain": [
       "'Reuven'"
      ]
     },
     "execution_count": 6,
     "metadata": {},
     "output_type": "execute_result"
    }
   ],
   "source": [
    "name"
   ]
  },
  {
   "cell_type": "code",
   "execution_count": 7,
   "metadata": {
    "collapsed": false
   },
   "outputs": [
    {
     "data": {
      "text/plain": [
       "str"
      ]
     },
     "execution_count": 7,
     "metadata": {},
     "output_type": "execute_result"
    }
   ],
   "source": [
    "type(name)"
   ]
  },
  {
   "cell_type": "code",
   "execution_count": 8,
   "metadata": {
    "collapsed": true
   },
   "outputs": [],
   "source": [
    "name = 5"
   ]
  },
  {
   "cell_type": "code",
   "execution_count": 9,
   "metadata": {
    "collapsed": false
   },
   "outputs": [
    {
     "data": {
      "text/plain": [
       "int"
      ]
     },
     "execution_count": 9,
     "metadata": {},
     "output_type": "execute_result"
    }
   ],
   "source": [
    "type(name)"
   ]
  },
  {
   "cell_type": "code",
   "execution_count": 10,
   "metadata": {
    "collapsed": false
   },
   "outputs": [
    {
     "data": {
      "text/plain": [
       "2"
      ]
     },
     "execution_count": 10,
     "metadata": {},
     "output_type": "execute_result"
    }
   ],
   "source": [
    "1 + 1"
   ]
  },
  {
   "cell_type": "code",
   "execution_count": 11,
   "metadata": {
    "collapsed": false
   },
   "outputs": [
    {
     "data": {
      "text/plain": [
       "'11'"
      ]
     },
     "execution_count": 11,
     "metadata": {},
     "output_type": "execute_result"
    }
   ],
   "source": [
    "'1' + '1'"
   ]
  },
  {
   "cell_type": "code",
   "execution_count": 12,
   "metadata": {
    "collapsed": false
   },
   "outputs": [
    {
     "ename": "TypeError",
     "evalue": "unsupported operand type(s) for +: 'int' and 'str'",
     "traceback": [
      "\u001b[0;31m---------------------------------------------------------------------------\u001b[0m",
      "\u001b[0;31mTypeError\u001b[0m                                 Traceback (most recent call last)",
      "\u001b[0;32m<ipython-input-12-861a99da769e>\u001b[0m in \u001b[0;36m<module>\u001b[0;34m()\u001b[0m\n\u001b[0;32m----> 1\u001b[0;31m \u001b[0;36m1\u001b[0m \u001b[0;34m+\u001b[0m \u001b[0;34m'1'\u001b[0m\u001b[0;34m\u001b[0m\u001b[0m\n\u001b[0m",
      "\u001b[0;31mTypeError\u001b[0m: unsupported operand type(s) for +: 'int' and 'str'"
     ],
     "output_type": "error"
    }
   ],
   "source": [
    "1 + '1'"
   ]
  },
  {
   "cell_type": "code",
   "execution_count": 14,
   "metadata": {
    "collapsed": false
   },
   "outputs": [
    {
     "name": "stdout",
     "output_type": "stream",
     "text": [
      "Enter your name: someone else\n",
      "Hello, someone else\n"
     ]
    }
   ],
   "source": [
    "name = raw_input(\"Enter your name: \")\n",
    "if name == 'Reuven':\n",
    "    print \"Hello, master!\"\n",
    "    print \"It has been so long!\"\n",
    "else:\n",
    "    print \"Hello, \" + name"
   ]
  },
  {
   "cell_type": "code",
   "execution_count": 15,
   "metadata": {
    "collapsed": false
   },
   "outputs": [
    {
     "data": {
      "text/plain": [
       "'someone else'"
      ]
     },
     "execution_count": 15,
     "metadata": {},
     "output_type": "execute_result"
    }
   ],
   "source": [
    "name"
   ]
  },
  {
   "cell_type": "code",
   "execution_count": 16,
   "metadata": {
    "collapsed": true
   },
   "outputs": [],
   "source": [
    "if name != 'someone else':\n",
    "    print \"Oh, good!  I wouldn't want someone else!\""
   ]
  },
  {
   "cell_type": "code",
   "execution_count": 17,
   "metadata": {
    "collapsed": true
   },
   "outputs": [],
   "source": [
    "# && -- that is ugly so it's not in Python!\n",
    "if name == 'a' and x == 5:\n",
    "    print \"Yay!\""
   ]
  },
  {
   "cell_type": "code",
   "execution_count": 18,
   "metadata": {
    "collapsed": false
   },
   "outputs": [
    {
     "name": "stdout",
     "output_type": "stream",
     "text": [
      "Yay here, too!\n"
     ]
    }
   ],
   "source": [
    "if name == 'a' or x == 5:\n",
    "    print \"Yay here, too!\""
   ]
  },
  {
   "cell_type": "code",
   "execution_count": 19,
   "metadata": {
    "collapsed": true
   },
   "outputs": [],
   "source": [
    "x = None"
   ]
  },
  {
   "cell_type": "code",
   "execution_count": 20,
   "metadata": {
    "collapsed": false
   },
   "outputs": [
    {
     "data": {
      "text/plain": [
       "NoneType"
      ]
     },
     "execution_count": 20,
     "metadata": {},
     "output_type": "execute_result"
    }
   ],
   "source": [
    "type(x)"
   ]
  },
  {
   "cell_type": "code",
   "execution_count": 21,
   "metadata": {
    "collapsed": false
   },
   "outputs": [
    {
     "name": "stdout",
     "output_type": "stream",
     "text": [
      "I guess it is None!\n"
     ]
    }
   ],
   "source": [
    "if x == None:\n",
    "    print \"I guess it is None!\""
   ]
  },
  {
   "cell_type": "code",
   "execution_count": 22,
   "metadata": {
    "collapsed": false
   },
   "outputs": [
    {
     "name": "stdout",
     "output_type": "stream",
     "text": [
      "It really is None\n"
     ]
    }
   ],
   "source": [
    "if x is None:\n",
    "    print \"It really is None\""
   ]
  },
  {
   "cell_type": "code",
   "execution_count": 23,
   "metadata": {
    "collapsed": false
   },
   "outputs": [
    {
     "data": {
      "text/plain": [
       "bool"
      ]
     },
     "execution_count": 23,
     "metadata": {},
     "output_type": "execute_result"
    }
   ],
   "source": [
    "x = True\n",
    "type(x)"
   ]
  },
  {
   "cell_type": "code",
   "execution_count": 24,
   "metadata": {
    "collapsed": false
   },
   "outputs": [
    {
     "data": {
      "text/plain": [
       "bool"
      ]
     },
     "execution_count": 24,
     "metadata": {},
     "output_type": "execute_result"
    }
   ],
   "source": [
    "y = False\n",
    "type(y)"
   ]
  },
  {
   "cell_type": "code",
   "execution_count": 25,
   "metadata": {
    "collapsed": false
   },
   "outputs": [
    {
     "data": {
      "text/plain": [
       "True"
      ]
     },
     "execution_count": 25,
     "metadata": {},
     "output_type": "execute_result"
    }
   ],
   "source": [
    "5 == 5"
   ]
  },
  {
   "cell_type": "code",
   "execution_count": 26,
   "metadata": {
    "collapsed": false
   },
   "outputs": [
    {
     "data": {
      "text/plain": [
       "False"
      ]
     },
     "execution_count": 26,
     "metadata": {},
     "output_type": "execute_result"
    }
   ],
   "source": [
    "5 == 6"
   ]
  },
  {
   "cell_type": "code",
   "execution_count": 27,
   "metadata": {
    "collapsed": false
   },
   "outputs": [
    {
     "name": "stdout",
     "output_type": "stream",
     "text": [
      "It's True\n"
     ]
    }
   ],
   "source": [
    "x = 'hello'\n",
    "if x:\n",
    "    print \"It's True\"\n",
    "else:\n",
    "    print \"It's False\""
   ]
  },
  {
   "cell_type": "code",
   "execution_count": 29,
   "metadata": {
    "collapsed": false
   },
   "outputs": [
    {
     "name": "stdout",
     "output_type": "stream",
     "text": [
      "Enter your name: \n",
      "I wanted a name!\n"
     ]
    }
   ],
   "source": [
    "name = raw_input(\"Enter your name: \")\n",
    "# if name == '':  # not Pythonic\n",
    "if not name:\n",
    "    print \"I wanted a name!\"\n",
    "else:\n",
    "    print \"Hello, \" + name"
   ]
  },
  {
   "cell_type": "code",
   "execution_count": 30,
   "metadata": {
    "collapsed": false
   },
   "outputs": [
    {
     "data": {
      "text/plain": [
       "int"
      ]
     },
     "execution_count": 30,
     "metadata": {},
     "output_type": "execute_result"
    }
   ],
   "source": [
    "x = 10\n",
    "type(x)"
   ]
  },
  {
   "cell_type": "code",
   "execution_count": 31,
   "metadata": {
    "collapsed": false
   },
   "outputs": [
    {
     "data": {
      "text/plain": [
       "9223372036854775807"
      ]
     },
     "execution_count": 31,
     "metadata": {},
     "output_type": "execute_result"
    }
   ],
   "source": [
    "import sys\n",
    "sys.maxint"
   ]
  },
  {
   "cell_type": "code",
   "execution_count": 32,
   "metadata": {
    "collapsed": true
   },
   "outputs": [],
   "source": [
    "x = sys.maxint\n",
    "x = x * 100000"
   ]
  },
  {
   "cell_type": "code",
   "execution_count": 33,
   "metadata": {
    "collapsed": false
   },
   "outputs": [
    {
     "data": {
      "text/plain": [
       "922337203685477580700000L"
      ]
     },
     "execution_count": 33,
     "metadata": {},
     "output_type": "execute_result"
    }
   ],
   "source": [
    "x"
   ]
  },
  {
   "cell_type": "code",
   "execution_count": 34,
   "metadata": {
    "collapsed": false
   },
   "outputs": [
    {
     "data": {
      "text/plain": [
       "long"
      ]
     },
     "execution_count": 34,
     "metadata": {},
     "output_type": "execute_result"
    }
   ],
   "source": [
    "type(x)"
   ]
  },
  {
   "cell_type": "code",
   "execution_count": 35,
   "metadata": {
    "collapsed": false
   },
   "outputs": [
    {
     "data": {
      "text/plain": [
       "81"
      ]
     },
     "execution_count": 35,
     "metadata": {},
     "output_type": "execute_result"
    }
   ],
   "source": [
    "3 ** 4 # exponent"
   ]
  },
  {
   "cell_type": "code",
   "execution_count": 36,
   "metadata": {
    "collapsed": false
   },
   "outputs": [
    {
     "data": {
      "text/plain": [
       "'123123'"
      ]
     },
     "execution_count": 36,
     "metadata": {},
     "output_type": "execute_result"
    }
   ],
   "source": [
    "s = '123'\n",
    "s + s"
   ]
  },
  {
   "cell_type": "code",
   "execution_count": 37,
   "metadata": {
    "collapsed": false
   },
   "outputs": [
    {
     "data": {
      "text/plain": [
       "123"
      ]
     },
     "execution_count": 37,
     "metadata": {},
     "output_type": "execute_result"
    }
   ],
   "source": [
    "int(s)"
   ]
  },
  {
   "cell_type": "code",
   "execution_count": 38,
   "metadata": {
    "collapsed": false
   },
   "outputs": [
    {
     "data": {
      "text/plain": [
       "246"
      ]
     },
     "execution_count": 38,
     "metadata": {},
     "output_type": "execute_result"
    }
   ],
   "source": [
    "int(s) + int(s)"
   ]
  },
  {
   "cell_type": "code",
   "execution_count": 39,
   "metadata": {
    "collapsed": false
   },
   "outputs": [
    {
     "data": {
      "text/plain": [
       "'123'"
      ]
     },
     "execution_count": 39,
     "metadata": {},
     "output_type": "execute_result"
    }
   ],
   "source": [
    "s"
   ]
  },
  {
   "cell_type": "code",
   "execution_count": 40,
   "metadata": {
    "collapsed": false
   },
   "outputs": [
    {
     "data": {
      "text/plain": [
       "83"
      ]
     },
     "execution_count": 40,
     "metadata": {},
     "output_type": "execute_result"
    }
   ],
   "source": [
    "int(s, 8)"
   ]
  },
  {
   "cell_type": "code",
   "execution_count": 41,
   "metadata": {
    "collapsed": false
   },
   "outputs": [
    {
     "data": {
      "text/plain": [
       "291"
      ]
     },
     "execution_count": 41,
     "metadata": {},
     "output_type": "execute_result"
    }
   ],
   "source": [
    "int(s, 16)"
   ]
  },
  {
   "cell_type": "code",
   "execution_count": 42,
   "metadata": {
    "collapsed": false
   },
   "outputs": [
    {
     "data": {
      "text/plain": [
       "1371"
      ]
     },
     "execution_count": 42,
     "metadata": {},
     "output_type": "execute_result"
    }
   ],
   "source": [
    "int(s, 36)"
   ]
  },
  {
   "cell_type": "code",
   "execution_count": 43,
   "metadata": {
    "collapsed": false
   },
   "outputs": [
    {
     "data": {
      "text/plain": [
       "'0x7b'"
      ]
     },
     "execution_count": 43,
     "metadata": {},
     "output_type": "execute_result"
    }
   ],
   "source": [
    "x = 123\n",
    "hex(x)"
   ]
  },
  {
   "cell_type": "code",
   "execution_count": 44,
   "metadata": {
    "collapsed": false
   },
   "outputs": [
    {
     "data": {
      "text/plain": [
       "123"
      ]
     },
     "execution_count": 44,
     "metadata": {},
     "output_type": "execute_result"
    }
   ],
   "source": [
    "0x7b"
   ]
  },
  {
   "cell_type": "code",
   "execution_count": 45,
   "metadata": {
    "collapsed": false
   },
   "outputs": [
    {
     "data": {
      "text/plain": [
       "'0b1111011'"
      ]
     },
     "execution_count": 45,
     "metadata": {},
     "output_type": "execute_result"
    }
   ],
   "source": [
    "bin(x)"
   ]
  },
  {
   "cell_type": "code",
   "execution_count": 46,
   "metadata": {
    "collapsed": false
   },
   "outputs": [
    {
     "data": {
      "text/plain": [
       "'0173'"
      ]
     },
     "execution_count": 46,
     "metadata": {},
     "output_type": "execute_result"
    }
   ],
   "source": [
    "oct(x)"
   ]
  },
  {
   "cell_type": "code",
   "execution_count": 47,
   "metadata": {
    "collapsed": false
   },
   "outputs": [
    {
     "data": {
      "text/plain": [
       "123"
      ]
     },
     "execution_count": 47,
     "metadata": {},
     "output_type": "execute_result"
    }
   ],
   "source": [
    "0173"
   ]
  },
  {
   "cell_type": "code",
   "execution_count": 48,
   "metadata": {
    "collapsed": false
   },
   "outputs": [
    {
     "data": {
      "text/plain": [
       "291"
      ]
     },
     "execution_count": 48,
     "metadata": {},
     "output_type": "execute_result"
    }
   ],
   "source": [
    "0x123"
   ]
  },
  {
   "cell_type": "code",
   "execution_count": 49,
   "metadata": {
    "collapsed": false
   },
   "outputs": [
    {
     "data": {
      "text/plain": [
       "13"
      ]
     },
     "execution_count": 49,
     "metadata": {},
     "output_type": "execute_result"
    }
   ],
   "source": [
    "0b1101"
   ]
  },
  {
   "cell_type": "code",
   "execution_count": 50,
   "metadata": {
    "collapsed": false
   },
   "outputs": [
    {
     "data": {
      "text/plain": [
       "83"
      ]
     },
     "execution_count": 50,
     "metadata": {},
     "output_type": "execute_result"
    }
   ],
   "source": [
    "0O123"
   ]
  },
  {
   "cell_type": "code",
   "execution_count": 51,
   "metadata": {
    "collapsed": false
   },
   "outputs": [
    {
     "data": {
      "text/plain": [
       "83"
      ]
     },
     "execution_count": 51,
     "metadata": {},
     "output_type": "execute_result"
    }
   ],
   "source": [
    "0o123"
   ]
  },
  {
   "cell_type": "code",
   "execution_count": 52,
   "metadata": {
    "collapsed": false
   },
   "outputs": [
    {
     "data": {
      "text/plain": [
       "15"
      ]
     },
     "execution_count": 52,
     "metadata": {},
     "output_type": "execute_result"
    }
   ],
   "source": [
    "10 + 5"
   ]
  },
  {
   "cell_type": "code",
   "execution_count": 53,
   "metadata": {
    "collapsed": false
   },
   "outputs": [
    {
     "data": {
      "text/plain": [
       "5"
      ]
     },
     "execution_count": 53,
     "metadata": {},
     "output_type": "execute_result"
    }
   ],
   "source": [
    "10 - 5"
   ]
  },
  {
   "cell_type": "code",
   "execution_count": 54,
   "metadata": {
    "collapsed": false
   },
   "outputs": [
    {
     "data": {
      "text/plain": [
       "50"
      ]
     },
     "execution_count": 54,
     "metadata": {},
     "output_type": "execute_result"
    }
   ],
   "source": [
    "10 * 5"
   ]
  },
  {
   "cell_type": "code",
   "execution_count": 55,
   "metadata": {
    "collapsed": false
   },
   "outputs": [
    {
     "data": {
      "text/plain": [
       "2"
      ]
     },
     "execution_count": 55,
     "metadata": {},
     "output_type": "execute_result"
    }
   ],
   "source": [
    "10 / 5"
   ]
  },
  {
   "cell_type": "code",
   "execution_count": 56,
   "metadata": {
    "collapsed": false
   },
   "outputs": [
    {
     "data": {
      "text/plain": [
       "3"
      ]
     },
     "execution_count": 56,
     "metadata": {},
     "output_type": "execute_result"
    }
   ],
   "source": [
    "10 / 3"
   ]
  },
  {
   "cell_type": "code",
   "execution_count": 57,
   "metadata": {
    "collapsed": false
   },
   "outputs": [
    {
     "data": {
      "text/plain": [
       "int"
      ]
     },
     "execution_count": 57,
     "metadata": {},
     "output_type": "execute_result"
    }
   ],
   "source": [
    "type(1)"
   ]
  },
  {
   "cell_type": "code",
   "execution_count": 58,
   "metadata": {
    "collapsed": false
   },
   "outputs": [
    {
     "data": {
      "text/plain": [
       "float"
      ]
     },
     "execution_count": 58,
     "metadata": {},
     "output_type": "execute_result"
    }
   ],
   "source": [
    "type(1.0)"
   ]
  },
  {
   "cell_type": "code",
   "execution_count": 59,
   "metadata": {
    "collapsed": false
   },
   "outputs": [
    {
     "data": {
      "text/plain": [
       "3.3333333333333335"
      ]
     },
     "execution_count": 59,
     "metadata": {},
     "output_type": "execute_result"
    }
   ],
   "source": [
    "10.0 / 3.0"
   ]
  },
  {
   "cell_type": "code",
   "execution_count": 60,
   "metadata": {
    "collapsed": false
   },
   "outputs": [
    {
     "data": {
      "text/plain": [
       "3.3333333333333335"
      ]
     },
     "execution_count": 60,
     "metadata": {},
     "output_type": "execute_result"
    }
   ],
   "source": [
    "10.0 / 3"
   ]
  },
  {
   "cell_type": "code",
   "execution_count": 61,
   "metadata": {
    "collapsed": false
   },
   "outputs": [
    {
     "data": {
      "text/plain": [
       "3"
      ]
     },
     "execution_count": 61,
     "metadata": {},
     "output_type": "execute_result"
    }
   ],
   "source": [
    "10 / 3"
   ]
  },
  {
   "cell_type": "code",
   "execution_count": 62,
   "metadata": {
    "collapsed": false
   },
   "outputs": [
    {
     "data": {
      "text/plain": [
       "3.3333333333333335"
      ]
     },
     "execution_count": 62,
     "metadata": {},
     "output_type": "execute_result"
    }
   ],
   "source": [
    "float(10) / 3"
   ]
  },
  {
   "cell_type": "code",
   "execution_count": 63,
   "metadata": {
    "collapsed": false
   },
   "outputs": [
    {
     "data": {
      "text/plain": [
       "3.0"
      ]
     },
     "execution_count": 63,
     "metadata": {},
     "output_type": "execute_result"
    }
   ],
   "source": [
    "float(10 / 3)"
   ]
  },
  {
   "cell_type": "code",
   "execution_count": 64,
   "metadata": {
    "collapsed": false
   },
   "outputs": [
    {
     "data": {
      "text/plain": [
       "0.30000000000000004"
      ]
     },
     "execution_count": 64,
     "metadata": {},
     "output_type": "execute_result"
    }
   ],
   "source": [
    "0.1 + 0.2"
   ]
  },
  {
   "cell_type": "code",
   "execution_count": 65,
   "metadata": {
    "collapsed": false
   },
   "outputs": [
    {
     "ename": "SyntaxError",
     "evalue": "invalid syntax (<ipython-input-65-cdf028cc2db6>, line 2)",
     "traceback": [
      "\u001b[0;36m  File \u001b[0;32m\"<ipython-input-65-cdf028cc2db6>\"\u001b[0;36m, line \u001b[0;32m2\u001b[0m\n\u001b[0;31m    x++\u001b[0m\n\u001b[0m       ^\u001b[0m\n\u001b[0;31mSyntaxError\u001b[0m\u001b[0;31m:\u001b[0m invalid syntax\n"
     ],
     "output_type": "error"
    }
   ],
   "source": [
    "x = 5\n",
    "x++"
   ]
  },
  {
   "cell_type": "code",
   "execution_count": 66,
   "metadata": {
    "collapsed": false
   },
   "outputs": [
    {
     "data": {
      "text/plain": [
       "124"
      ]
     },
     "execution_count": 66,
     "metadata": {},
     "output_type": "execute_result"
    }
   ],
   "source": [
    "x += 1\n",
    "x"
   ]
  },
  {
   "cell_type": "code",
   "execution_count": 67,
   "metadata": {
    "collapsed": false
   },
   "outputs": [
    {
     "data": {
      "text/plain": [
       "124"
      ]
     },
     "execution_count": 67,
     "metadata": {},
     "output_type": "execute_result"
    }
   ],
   "source": [
    "x"
   ]
  },
  {
   "cell_type": "code",
   "execution_count": 68,
   "metadata": {
    "collapsed": true
   },
   "outputs": [],
   "source": [
    "x += 1"
   ]
  },
  {
   "cell_type": "code",
   "execution_count": 69,
   "metadata": {
    "collapsed": false
   },
   "outputs": [
    {
     "data": {
      "text/plain": [
       "125"
      ]
     },
     "execution_count": 69,
     "metadata": {},
     "output_type": "execute_result"
    }
   ],
   "source": [
    "x"
   ]
  },
  {
   "cell_type": "code",
   "execution_count": 70,
   "metadata": {
    "collapsed": true
   },
   "outputs": [],
   "source": [
    "s = 'abc'"
   ]
  },
  {
   "cell_type": "code",
   "execution_count": 71,
   "metadata": {
    "collapsed": true
   },
   "outputs": [],
   "source": [
    "# immutable -- cannot change them!"
   ]
  },
  {
   "cell_type": "code",
   "execution_count": 72,
   "metadata": {
    "collapsed": false
   },
   "outputs": [
    {
     "data": {
      "text/plain": [
       "'abc'"
      ]
     },
     "execution_count": 72,
     "metadata": {},
     "output_type": "execute_result"
    }
   ],
   "source": [
    "s"
   ]
  },
  {
   "cell_type": "code",
   "execution_count": 73,
   "metadata": {
    "collapsed": false
   },
   "outputs": [
    {
     "data": {
      "text/plain": [
       "'a'"
      ]
     },
     "execution_count": 73,
     "metadata": {},
     "output_type": "execute_result"
    }
   ],
   "source": [
    "s[0]"
   ]
  },
  {
   "cell_type": "code",
   "execution_count": 74,
   "metadata": {
    "collapsed": false
   },
   "outputs": [
    {
     "ename": "TypeError",
     "evalue": "'str' object does not support item assignment",
     "traceback": [
      "\u001b[0;31m---------------------------------------------------------------------------\u001b[0m",
      "\u001b[0;31mTypeError\u001b[0m                                 Traceback (most recent call last)",
      "\u001b[0;32m<ipython-input-74-6ec7899d50c2>\u001b[0m in \u001b[0;36m<module>\u001b[0;34m()\u001b[0m\n\u001b[0;32m----> 1\u001b[0;31m \u001b[0ms\u001b[0m\u001b[0;34m[\u001b[0m\u001b[0;36m0\u001b[0m\u001b[0;34m]\u001b[0m \u001b[0;34m=\u001b[0m \u001b[0;34m'!'\u001b[0m\u001b[0;34m\u001b[0m\u001b[0m\n\u001b[0m",
      "\u001b[0;31mTypeError\u001b[0m: 'str' object does not support item assignment"
     ],
     "output_type": "error"
    }
   ],
   "source": [
    "s[0] = '!'"
   ]
  },
  {
   "cell_type": "code",
   "execution_count": 75,
   "metadata": {
    "collapsed": false
   },
   "outputs": [
    {
     "data": {
      "text/plain": [
       "'ABC'"
      ]
     },
     "execution_count": 75,
     "metadata": {},
     "output_type": "execute_result"
    }
   ],
   "source": [
    "s.upper()"
   ]
  },
  {
   "cell_type": "code",
   "execution_count": 76,
   "metadata": {
    "collapsed": false
   },
   "outputs": [
    {
     "data": {
      "text/plain": [
       "'abc'"
      ]
     },
     "execution_count": 76,
     "metadata": {},
     "output_type": "execute_result"
    }
   ],
   "source": [
    "s"
   ]
  },
  {
   "cell_type": "code",
   "execution_count": 77,
   "metadata": {
    "collapsed": false
   },
   "outputs": [
    {
     "name": "stdout",
     "output_type": "stream",
     "text": [
      "Enter your name:                 Reuven             \n",
      "                Reuven             \n"
     ]
    }
   ],
   "source": [
    "name = raw_input(\"Enter your name: \")\n",
    "print name"
   ]
  },
  {
   "cell_type": "code",
   "execution_count": 78,
   "metadata": {
    "collapsed": false
   },
   "outputs": [
    {
     "data": {
      "text/plain": [
       "'Reuven'"
      ]
     },
     "execution_count": 78,
     "metadata": {},
     "output_type": "execute_result"
    }
   ],
   "source": [
    "name.strip()"
   ]
  },
  {
   "cell_type": "code",
   "execution_count": 79,
   "metadata": {
    "collapsed": false
   },
   "outputs": [
    {
     "data": {
      "text/plain": [
       "'                Reuven             '"
      ]
     },
     "execution_count": 79,
     "metadata": {},
     "output_type": "execute_result"
    }
   ],
   "source": [
    "name"
   ]
  },
  {
   "cell_type": "code",
   "execution_count": 80,
   "metadata": {
    "collapsed": false
   },
   "outputs": [
    {
     "data": {
      "text/plain": [
       "'Reuven'"
      ]
     },
     "execution_count": 80,
     "metadata": {},
     "output_type": "execute_result"
    }
   ],
   "source": [
    "name = name.strip()\n",
    "name"
   ]
  },
  {
   "cell_type": "code",
   "execution_count": 81,
   "metadata": {
    "collapsed": false
   },
   "outputs": [
    {
     "data": {
      "text/plain": [
       "6"
      ]
     },
     "execution_count": 81,
     "metadata": {},
     "output_type": "execute_result"
    }
   ],
   "source": [
    "len(name)"
   ]
  },
  {
   "cell_type": "code",
   "execution_count": 82,
   "metadata": {
    "collapsed": false
   },
   "outputs": [
    {
     "data": {
      "text/plain": [
       "26"
      ]
     },
     "execution_count": 82,
     "metadata": {},
     "output_type": "execute_result"
    }
   ],
   "source": [
    "s = 'abcdefghijklmnopqrstuvwxyz'\n",
    "len(s)"
   ]
  },
  {
   "cell_type": "code",
   "execution_count": 83,
   "metadata": {
    "collapsed": false
   },
   "outputs": [
    {
     "data": {
      "text/plain": [
       "'a'"
      ]
     },
     "execution_count": 83,
     "metadata": {},
     "output_type": "execute_result"
    }
   ],
   "source": [
    "s[0]"
   ]
  },
  {
   "cell_type": "code",
   "execution_count": 84,
   "metadata": {
    "collapsed": false
   },
   "outputs": [
    {
     "data": {
      "text/plain": [
       "str"
      ]
     },
     "execution_count": 84,
     "metadata": {},
     "output_type": "execute_result"
    }
   ],
   "source": [
    "type(s[0])"
   ]
  },
  {
   "cell_type": "code",
   "execution_count": 85,
   "metadata": {
    "collapsed": false
   },
   "outputs": [
    {
     "data": {
      "text/plain": [
       "'b'"
      ]
     },
     "execution_count": 85,
     "metadata": {},
     "output_type": "execute_result"
    }
   ],
   "source": [
    "s[1]"
   ]
  },
  {
   "cell_type": "code",
   "execution_count": 86,
   "metadata": {
    "collapsed": false
   },
   "outputs": [
    {
     "data": {
      "text/plain": [
       "'c'"
      ]
     },
     "execution_count": 86,
     "metadata": {},
     "output_type": "execute_result"
    }
   ],
   "source": [
    "s[2]"
   ]
  },
  {
   "cell_type": "code",
   "execution_count": 87,
   "metadata": {
    "collapsed": false
   },
   "outputs": [
    {
     "data": {
      "text/plain": [
       "'abcdefghijklmnopqrstuvwxyz'"
      ]
     },
     "execution_count": 87,
     "metadata": {},
     "output_type": "execute_result"
    }
   ],
   "source": [
    "s"
   ]
  },
  {
   "cell_type": "code",
   "execution_count": 88,
   "metadata": {
    "collapsed": false
   },
   "outputs": [
    {
     "data": {
      "text/plain": [
       "'z'"
      ]
     },
     "execution_count": 88,
     "metadata": {},
     "output_type": "execute_result"
    }
   ],
   "source": [
    "s[-1]"
   ]
  },
  {
   "cell_type": "code",
   "execution_count": 89,
   "metadata": {
    "collapsed": false
   },
   "outputs": [
    {
     "data": {
      "text/plain": [
       "'y'"
      ]
     },
     "execution_count": 89,
     "metadata": {},
     "output_type": "execute_result"
    }
   ],
   "source": [
    "s[-2]"
   ]
  },
  {
   "cell_type": "code",
   "execution_count": 90,
   "metadata": {
    "collapsed": false
   },
   "outputs": [
    {
     "data": {
      "text/plain": [
       "'klmnopqrst'"
      ]
     },
     "execution_count": 90,
     "metadata": {},
     "output_type": "execute_result"
    }
   ],
   "source": [
    "s[10:20]"
   ]
  },
  {
   "cell_type": "code",
   "execution_count": 91,
   "metadata": {
    "collapsed": false
   },
   "outputs": [
    {
     "data": {
      "text/plain": [
       "'fghijklmno'"
      ]
     },
     "execution_count": 91,
     "metadata": {},
     "output_type": "execute_result"
    }
   ],
   "source": [
    "s[5:15]"
   ]
  },
  {
   "cell_type": "code",
   "execution_count": 92,
   "metadata": {
    "collapsed": false
   },
   "outputs": [
    {
     "data": {
      "text/plain": [
       "'pqrstuvwxyz'"
      ]
     },
     "execution_count": 92,
     "metadata": {},
     "output_type": "execute_result"
    }
   ],
   "source": [
    "s[15:]  # from index 15 to the end"
   ]
  },
  {
   "cell_type": "code",
   "execution_count": 93,
   "metadata": {
    "collapsed": false
   },
   "outputs": [
    {
     "data": {
      "text/plain": [
       "'abcdefghij'"
      ]
     },
     "execution_count": 93,
     "metadata": {},
     "output_type": "execute_result"
    }
   ],
   "source": [
    "s[:10]  # up to, and not including, index 10"
   ]
  },
  {
   "cell_type": "code",
   "execution_count": 94,
   "metadata": {
    "collapsed": true
   },
   "outputs": [],
   "source": [
    "# slice"
   ]
  },
  {
   "cell_type": "code",
   "execution_count": 96,
   "metadata": {
    "collapsed": false
   },
   "outputs": [
    {
     "data": {
      "text/plain": [
       "'abcdefghijklmnopqrstuvwxyz'"
      ]
     },
     "execution_count": 96,
     "metadata": {},
     "output_type": "execute_result"
    }
   ],
   "source": [
    "s[:200]"
   ]
  },
  {
   "cell_type": "code",
   "execution_count": 97,
   "metadata": {
    "collapsed": false
   },
   "outputs": [
    {
     "data": {
      "text/plain": [
       "'fhjlnprt'"
      ]
     },
     "execution_count": 97,
     "metadata": {},
     "output_type": "execute_result"
    }
   ],
   "source": [
    "s[5:20:2]"
   ]
  },
  {
   "cell_type": "code",
   "execution_count": 98,
   "metadata": {
    "collapsed": false
   },
   "outputs": [
    {
     "data": {
      "text/plain": [
       "'filor'"
      ]
     },
     "execution_count": 98,
     "metadata": {},
     "output_type": "execute_result"
    }
   ],
   "source": [
    "s[5:20:3]"
   ]
  },
  {
   "cell_type": "code",
   "execution_count": 99,
   "metadata": {
    "collapsed": false
   },
   "outputs": [
    {
     "data": {
      "text/plain": [
       "'acegikmoqsuwy'"
      ]
     },
     "execution_count": 99,
     "metadata": {},
     "output_type": "execute_result"
    }
   ],
   "source": [
    "s[::2]"
   ]
  },
  {
   "cell_type": "code",
   "execution_count": 100,
   "metadata": {
    "collapsed": false
   },
   "outputs": [
    {
     "data": {
      "text/plain": [
       "'afkpuz'"
      ]
     },
     "execution_count": 100,
     "metadata": {},
     "output_type": "execute_result"
    }
   ],
   "source": [
    "s[::5]"
   ]
  },
  {
   "cell_type": "code",
   "execution_count": 101,
   "metadata": {
    "collapsed": false
   },
   "outputs": [
    {
     "data": {
      "text/plain": [
       "'zyxwvutsrqponmlkjihgfedcba'"
      ]
     },
     "execution_count": 101,
     "metadata": {},
     "output_type": "execute_result"
    }
   ],
   "source": [
    "s[::-1]"
   ]
  },
  {
   "cell_type": "code",
   "execution_count": 102,
   "metadata": {
    "collapsed": true
   },
   "outputs": [],
   "source": [
    "# sequences - string, list, tuple"
   ]
  },
  {
   "cell_type": "code",
   "execution_count": 103,
   "metadata": {
    "collapsed": false
   },
   "outputs": [
    {
     "data": {
      "text/plain": [
       "'abc'"
      ]
     },
     "execution_count": 103,
     "metadata": {},
     "output_type": "execute_result"
    }
   ],
   "source": [
    "s = 'abc'\n",
    "s"
   ]
  },
  {
   "cell_type": "code",
   "execution_count": 104,
   "metadata": {
    "collapsed": false
   },
   "outputs": [
    {
     "data": {
      "text/plain": [
       "'abc'"
      ]
     },
     "execution_count": 104,
     "metadata": {},
     "output_type": "execute_result"
    }
   ],
   "source": [
    "s = \"abc\"\n",
    "s"
   ]
  },
  {
   "cell_type": "code",
   "execution_count": 105,
   "metadata": {
    "collapsed": false
   },
   "outputs": [
    {
     "data": {
      "text/plain": [
       "'abc\\ndef\\nghi'"
      ]
     },
     "execution_count": 105,
     "metadata": {},
     "output_type": "execute_result"
    }
   ],
   "source": [
    "s = 'abc\\ndef\\nghi'\n",
    "s"
   ]
  },
  {
   "cell_type": "code",
   "execution_count": 106,
   "metadata": {
    "collapsed": false
   },
   "outputs": [
    {
     "name": "stdout",
     "output_type": "stream",
     "text": [
      "abc\n",
      "def\n",
      "ghi\n"
     ]
    }
   ],
   "source": [
    "print s"
   ]
  },
  {
   "cell_type": "code",
   "execution_count": 109,
   "metadata": {
    "collapsed": false
   },
   "outputs": [
    {
     "data": {
      "text/plain": [
       "'abc\\ndef\\nghi'"
      ]
     },
     "execution_count": 109,
     "metadata": {},
     "output_type": "execute_result"
    }
   ],
   "source": [
    "# triple quoted string\n",
    "s = '''abc\n",
    "def\n",
    "ghi'''\n",
    "s"
   ]
  },
  {
   "cell_type": "code",
   "execution_count": 111,
   "metadata": {
    "collapsed": false
   },
   "outputs": [
    {
     "name": "stdout",
     "output_type": "stream",
     "text": [
      "For a newline, use \\n\n"
     ]
    }
   ],
   "source": [
    "s = \"For a newline, use \\\\n\" # backslashitis\n",
    "print s"
   ]
  },
  {
   "cell_type": "code",
   "execution_count": 112,
   "metadata": {
    "collapsed": false
   },
   "outputs": [
    {
     "name": "stdout",
     "output_type": "stream",
     "text": [
      "For a newline, use \\n\n"
     ]
    }
   ],
   "source": [
    "s = r\"For a newline, use \\n\" # raw string\n",
    "print s"
   ]
  },
  {
   "cell_type": "code",
   "execution_count": 114,
   "metadata": {
    "collapsed": false
   },
   "outputs": [
    {
     "name": "stdout",
     "output_type": "stream",
     "text": [
      "c:\\abc\\def\\ghi\n"
     ]
    }
   ],
   "source": [
    "path = r'c:\\abc\\def\\ghi'\n",
    "print path"
   ]
  },
  {
   "cell_type": "code",
   "execution_count": 115,
   "metadata": {
    "collapsed": false
   },
   "outputs": [
    {
     "data": {
      "text/plain": [
       "3"
      ]
     },
     "execution_count": 115,
     "metadata": {},
     "output_type": "execute_result"
    }
   ],
   "source": [
    "s = 'abc'\n",
    "len(s)"
   ]
  },
  {
   "cell_type": "code",
   "execution_count": 116,
   "metadata": {
    "collapsed": false
   },
   "outputs": [
    {
     "data": {
      "text/plain": [
       "6"
      ]
     },
     "execution_count": 116,
     "metadata": {},
     "output_type": "execute_result"
    }
   ],
   "source": [
    "s = '上海'\n",
    "len(s)"
   ]
  },
  {
   "cell_type": "code",
   "execution_count": 117,
   "metadata": {
    "collapsed": false
   },
   "outputs": [
    {
     "name": "stdout",
     "output_type": "stream",
     "text": [
      "�\n"
     ]
    }
   ],
   "source": [
    "print s[0]"
   ]
  },
  {
   "cell_type": "code",
   "execution_count": 118,
   "metadata": {
    "collapsed": false
   },
   "outputs": [
    {
     "name": "stdout",
     "output_type": "stream",
     "text": [
      "�\n"
     ]
    }
   ],
   "source": [
    "print s[0] + s[1]"
   ]
  },
  {
   "cell_type": "code",
   "execution_count": 119,
   "metadata": {
    "collapsed": false
   },
   "outputs": [
    {
     "name": "stdout",
     "output_type": "stream",
     "text": [
      "上\n"
     ]
    }
   ],
   "source": [
    "print s[0] + s[1] + s[2]"
   ]
  },
  {
   "cell_type": "code",
   "execution_count": 120,
   "metadata": {
    "collapsed": false
   },
   "outputs": [
    {
     "data": {
      "text/plain": [
       "2"
      ]
     },
     "execution_count": 120,
     "metadata": {},
     "output_type": "execute_result"
    }
   ],
   "source": [
    "s = u'上海'\n",
    "len(s)"
   ]
  },
  {
   "cell_type": "code",
   "execution_count": 121,
   "metadata": {
    "collapsed": true
   },
   "outputs": [],
   "source": [
    "# Unicode string -- we deal with characters, not bytes"
   ]
  },
  {
   "cell_type": "code",
   "execution_count": 122,
   "metadata": {
    "collapsed": false
   },
   "outputs": [
    {
     "data": {
      "text/plain": [
       "unicode"
      ]
     },
     "execution_count": 122,
     "metadata": {},
     "output_type": "execute_result"
    }
   ],
   "source": [
    "type(s)"
   ]
  },
  {
   "cell_type": "code",
   "execution_count": 123,
   "metadata": {
    "collapsed": false
   },
   "outputs": [
    {
     "data": {
      "text/plain": [
       "u'\\u4e0a\\u6d77'"
      ]
     },
     "execution_count": 123,
     "metadata": {},
     "output_type": "execute_result"
    }
   ],
   "source": [
    "s"
   ]
  },
  {
   "cell_type": "code",
   "execution_count": 124,
   "metadata": {
    "collapsed": false
   },
   "outputs": [
    {
     "data": {
      "text/plain": [
       "26"
      ]
     },
     "execution_count": 124,
     "metadata": {},
     "output_type": "execute_result"
    }
   ],
   "source": [
    "s = 'abcdefghijklmnopqrstuvwxyz'\n",
    "len(s)"
   ]
  },
  {
   "cell_type": "code",
   "execution_count": 125,
   "metadata": {
    "collapsed": false
   },
   "outputs": [
    {
     "data": {
      "text/plain": [
       "9"
      ]
     },
     "execution_count": 125,
     "metadata": {},
     "output_type": "execute_result"
    }
   ],
   "source": [
    "s.index('j')"
   ]
  },
  {
   "cell_type": "code",
   "execution_count": 126,
   "metadata": {
    "collapsed": false
   },
   "outputs": [
    {
     "data": {
      "text/plain": [
       "'j'"
      ]
     },
     "execution_count": 126,
     "metadata": {},
     "output_type": "execute_result"
    }
   ],
   "source": [
    "s[9]"
   ]
  },
  {
   "cell_type": "code",
   "execution_count": 127,
   "metadata": {
    "collapsed": false
   },
   "outputs": [
    {
     "data": {
      "text/plain": [
       "9"
      ]
     },
     "execution_count": 127,
     "metadata": {},
     "output_type": "execute_result"
    }
   ],
   "source": [
    "s.index('jkl')"
   ]
  },
  {
   "cell_type": "code",
   "execution_count": 128,
   "metadata": {
    "collapsed": false
   },
   "outputs": [
    {
     "ename": "ValueError",
     "evalue": "substring not found",
     "traceback": [
      "\u001b[0;31m---------------------------------------------------------------------------\u001b[0m",
      "\u001b[0;31mValueError\u001b[0m                                Traceback (most recent call last)",
      "\u001b[0;32m<ipython-input-128-05e9500d76af>\u001b[0m in \u001b[0;36m<module>\u001b[0;34m()\u001b[0m\n\u001b[0;32m----> 1\u001b[0;31m \u001b[0ms\u001b[0m\u001b[0;34m.\u001b[0m\u001b[0mindex\u001b[0m\u001b[0;34m(\u001b[0m\u001b[0;34m'1'\u001b[0m\u001b[0;34m)\u001b[0m\u001b[0;34m\u001b[0m\u001b[0m\n\u001b[0m",
      "\u001b[0;31mValueError\u001b[0m: substring not found"
     ],
     "output_type": "error"
    }
   ],
   "source": [
    "s.index('1')"
   ]
  },
  {
   "cell_type": "code",
   "execution_count": 129,
   "metadata": {
    "collapsed": false
   },
   "outputs": [
    {
     "data": {
      "text/plain": [
       "1"
      ]
     },
     "execution_count": 129,
     "metadata": {},
     "output_type": "execute_result"
    }
   ],
   "source": [
    "s.find('b')"
   ]
  },
  {
   "cell_type": "code",
   "execution_count": 130,
   "metadata": {
    "collapsed": false
   },
   "outputs": [
    {
     "data": {
      "text/plain": [
       "-1"
      ]
     },
     "execution_count": 130,
     "metadata": {},
     "output_type": "execute_result"
    }
   ],
   "source": [
    "s.find('!')"
   ]
  },
  {
   "cell_type": "code",
   "execution_count": 131,
   "metadata": {
    "collapsed": false
   },
   "outputs": [
    {
     "data": {
      "text/plain": [
       "True"
      ]
     },
     "execution_count": 131,
     "metadata": {},
     "output_type": "execute_result"
    }
   ],
   "source": [
    "'j' in s"
   ]
  },
  {
   "cell_type": "code",
   "execution_count": 132,
   "metadata": {
    "collapsed": false
   },
   "outputs": [
    {
     "data": {
      "text/plain": [
       "False"
      ]
     },
     "execution_count": 132,
     "metadata": {},
     "output_type": "execute_result"
    }
   ],
   "source": [
    "'!' in s"
   ]
  },
  {
   "cell_type": "code",
   "execution_count": 133,
   "metadata": {
    "collapsed": false
   },
   "outputs": [
    {
     "name": "stdout",
     "output_type": "stream",
     "text": [
      "Hello, Reuven.  How are you?\n"
     ]
    }
   ],
   "source": [
    "name = 'Reuven'\n",
    "print \"Hello, \" + name + \".  How are you?\""
   ]
  },
  {
   "cell_type": "code",
   "execution_count": 134,
   "metadata": {
    "collapsed": false
   },
   "outputs": [
    {
     "name": "stdout",
     "output_type": "stream",
     "text": [
      "Hello, Reuven.  How are you?\n"
     ]
    }
   ],
   "source": [
    "s = 'Hello, {0}.  How are you?'\n",
    "print s.format(name)"
   ]
  },
  {
   "cell_type": "code",
   "execution_count": 135,
   "metadata": {
    "collapsed": false
   },
   "outputs": [
    {
     "name": "stdout",
     "output_type": "stream",
     "text": [
      "Hello, Reuven.  How are you, Reuven?\n"
     ]
    }
   ],
   "source": [
    "s = 'Hello, {0}.  How are you, {0}?'\n",
    "print s.format(name)"
   ]
  },
  {
   "cell_type": "code",
   "execution_count": 136,
   "metadata": {
    "collapsed": false
   },
   "outputs": [
    {
     "name": "stdout",
     "output_type": "stream",
     "text": [
      "The value of x is abc, and y is def\n"
     ]
    }
   ],
   "source": [
    "x = 'abc'\n",
    "y = 'def'\n",
    "print \"The value of x is {0}, and y is {1}\".format(x,y)"
   ]
  },
  {
   "cell_type": "code",
   "execution_count": 137,
   "metadata": {
    "collapsed": false
   },
   "outputs": [
    {
     "name": "stdout",
     "output_type": "stream",
     "text": [
      "The value of x is 10, and y is 20.5\n"
     ]
    }
   ],
   "source": [
    "x = 10\n",
    "y = 20.5\n",
    "print \"The value of x is {0}, and y is {1}\".format(x,y)"
   ]
  },
  {
   "cell_type": "code",
   "execution_count": 138,
   "metadata": {
    "collapsed": false
   },
   "outputs": [
    {
     "ename": "TypeError",
     "evalue": "cannot concatenate 'str' and 'int' objects",
     "traceback": [
      "\u001b[0;31m---------------------------------------------------------------------------\u001b[0m",
      "\u001b[0;31mTypeError\u001b[0m                                 Traceback (most recent call last)",
      "\u001b[0;32m<ipython-input-138-28ee3faa5fee>\u001b[0m in \u001b[0;36m<module>\u001b[0;34m()\u001b[0m\n\u001b[0;32m----> 1\u001b[0;31m \u001b[0;32mprint\u001b[0m \u001b[0;34m\"The value of x is \"\u001b[0m \u001b[0;34m+\u001b[0m \u001b[0mx\u001b[0m\u001b[0;34m\u001b[0m\u001b[0m\n\u001b[0m",
      "\u001b[0;31mTypeError\u001b[0m: cannot concatenate 'str' and 'int' objects"
     ],
     "output_type": "error"
    }
   ],
   "source": [
    "print \"The value of x is \" + x"
   ]
  },
  {
   "cell_type": "code",
   "execution_count": 139,
   "metadata": {
    "collapsed": false
   },
   "outputs": [
    {
     "data": {
      "text/plain": [
       "123"
      ]
     },
     "execution_count": 139,
     "metadata": {},
     "output_type": "execute_result"
    }
   ],
   "source": [
    "s = '123'\n",
    "int(s)"
   ]
  },
  {
   "cell_type": "code",
   "execution_count": 140,
   "metadata": {
    "collapsed": false
   },
   "outputs": [
    {
     "data": {
      "text/plain": [
       "'10'"
      ]
     },
     "execution_count": 140,
     "metadata": {},
     "output_type": "execute_result"
    }
   ],
   "source": [
    "x = 10\n",
    "str(x)"
   ]
  },
  {
   "cell_type": "code",
   "execution_count": 141,
   "metadata": {
    "collapsed": false
   },
   "outputs": [
    {
     "name": "stdout",
     "output_type": "stream",
     "text": [
      "The value of x is 10\n"
     ]
    }
   ],
   "source": [
    "print \"The value of x is \" + str(x)"
   ]
  },
  {
   "cell_type": "code",
   "execution_count": 142,
   "metadata": {
    "collapsed": false
   },
   "outputs": [
    {
     "name": "stdout",
     "output_type": "stream",
     "text": [
      "The value of x is 10\n"
     ]
    }
   ],
   "source": [
    "print \"The value of x is {0}\".format(x)"
   ]
  },
  {
   "cell_type": "code",
   "execution_count": 143,
   "metadata": {
    "collapsed": false
   },
   "outputs": [
    {
     "name": "stdout",
     "output_type": "stream",
     "text": [
      "The value of x is 10\n"
     ]
    }
   ],
   "source": [
    "print \"The value of x is {}\".format(x)"
   ]
  },
  {
   "cell_type": "code",
   "execution_count": 144,
   "metadata": {
    "collapsed": false
   },
   "outputs": [
    {
     "name": "stdout",
     "output_type": "stream",
     "text": [
      "The values are abc, def, and ghi\n"
     ]
    }
   ],
   "source": [
    "x = 'abc'\n",
    "y = 'def'\n",
    "z = 'ghi'\n",
    "print \"The values are {}, {}, and {}\".format(x,y,z)"
   ]
  },
  {
   "cell_type": "code",
   "execution_count": 145,
   "metadata": {
    "collapsed": false
   },
   "outputs": [
    {
     "name": "stdout",
     "output_type": "stream",
     "text": [
      "The values are abc, def, and ghi\n"
     ]
    }
   ],
   "source": [
    "x = 'abc'\n",
    "y = 'def'\n",
    "z = 'ghi'\n",
    "print \"The values are {0}, {1}, and {2}\".format(x,y,z)"
   ]
  },
  {
   "cell_type": "code",
   "execution_count": 146,
   "metadata": {
    "collapsed": false
   },
   "outputs": [
    {
     "name": "stdout",
     "output_type": "stream",
     "text": [
      "The values are ghi, abc, and def\n"
     ]
    }
   ],
   "source": [
    "x = 'abc'\n",
    "y = 'def'\n",
    "z = 'ghi'\n",
    "print \"The values are {2}, {0}, and {1}\".format(x,y,z)"
   ]
  },
  {
   "cell_type": "code",
   "execution_count": 147,
   "metadata": {
    "collapsed": false
   },
   "outputs": [
    {
     "name": "stdout",
     "output_type": "stream",
     "text": [
      "It is None!\n"
     ]
    }
   ],
   "source": [
    "x = None\n",
    "if x is None:\n",
    "    print \"It is None!\""
   ]
  },
  {
   "cell_type": "code",
   "execution_count": 148,
   "metadata": {
    "collapsed": false
   },
   "outputs": [
    {
     "data": {
      "text/plain": [
       "True"
      ]
     },
     "execution_count": 148,
     "metadata": {},
     "output_type": "execute_result"
    }
   ],
   "source": [
    "x = 100\n",
    "y = 100\n",
    "x == y"
   ]
  },
  {
   "cell_type": "code",
   "execution_count": 149,
   "metadata": {
    "collapsed": false
   },
   "outputs": [
    {
     "data": {
      "text/plain": [
       "True"
      ]
     },
     "execution_count": 149,
     "metadata": {},
     "output_type": "execute_result"
    }
   ],
   "source": [
    "x is y"
   ]
  },
  {
   "cell_type": "code",
   "execution_count": 150,
   "metadata": {
    "collapsed": false
   },
   "outputs": [
    {
     "data": {
      "text/plain": [
       "True"
      ]
     },
     "execution_count": 150,
     "metadata": {},
     "output_type": "execute_result"
    }
   ],
   "source": [
    "x = 1000\n",
    "y = 1000\n",
    "x == y"
   ]
  },
  {
   "cell_type": "code",
   "execution_count": 151,
   "metadata": {
    "collapsed": false
   },
   "outputs": [
    {
     "data": {
      "text/plain": [
       "False"
      ]
     },
     "execution_count": 151,
     "metadata": {},
     "output_type": "execute_result"
    }
   ],
   "source": [
    "x is y"
   ]
  },
  {
   "cell_type": "code",
   "execution_count": 152,
   "metadata": {
    "collapsed": false
   },
   "outputs": [
    {
     "data": {
      "text/plain": [
       "15"
      ]
     },
     "execution_count": 152,
     "metadata": {},
     "output_type": "execute_result"
    }
   ],
   "source": [
    "5 * 3"
   ]
  },
  {
   "cell_type": "code",
   "execution_count": 153,
   "metadata": {
    "collapsed": false
   },
   "outputs": [
    {
     "data": {
      "text/plain": [
       "'aaa'"
      ]
     },
     "execution_count": 153,
     "metadata": {},
     "output_type": "execute_result"
    }
   ],
   "source": [
    "'a' * 3"
   ]
  },
  {
   "cell_type": "code",
   "execution_count": 154,
   "metadata": {
    "collapsed": false
   },
   "outputs": [
    {
     "data": {
      "text/plain": [
       "True"
      ]
     },
     "execution_count": 154,
     "metadata": {},
     "output_type": "execute_result"
    }
   ],
   "source": [
    "x = 'a' * 5\n",
    "y = 'a' * 5\n",
    "\n",
    "x == y"
   ]
  },
  {
   "cell_type": "code",
   "execution_count": 155,
   "metadata": {
    "collapsed": false
   },
   "outputs": [
    {
     "data": {
      "text/plain": [
       "True"
      ]
     },
     "execution_count": 155,
     "metadata": {},
     "output_type": "execute_result"
    }
   ],
   "source": [
    "x is y"
   ]
  },
  {
   "cell_type": "code",
   "execution_count": 156,
   "metadata": {
    "collapsed": false
   },
   "outputs": [
    {
     "data": {
      "text/plain": [
       "True"
      ]
     },
     "execution_count": 156,
     "metadata": {},
     "output_type": "execute_result"
    }
   ],
   "source": [
    "x = 'a' * 1000\n",
    "y = 'a' * 1000\n",
    "x == y"
   ]
  },
  {
   "cell_type": "code",
   "execution_count": 157,
   "metadata": {
    "collapsed": false
   },
   "outputs": [
    {
     "data": {
      "text/plain": [
       "False"
      ]
     },
     "execution_count": 157,
     "metadata": {},
     "output_type": "execute_result"
    }
   ],
   "source": [
    "x is y"
   ]
  },
  {
   "cell_type": "code",
   "execution_count": 158,
   "metadata": {
    "collapsed": true
   },
   "outputs": [],
   "source": [
    "# intern() is run automatically for all short strings"
   ]
  },
  {
   "cell_type": "code",
   "execution_count": 161,
   "metadata": {
    "collapsed": false
   },
   "outputs": [
    {
     "name": "stdout",
     "output_type": "stream",
     "text": [
      "a b c\n"
     ]
    }
   ],
   "source": [
    "# sequence -- str, list, tuple\n",
    "\n",
    "s = 'abc'\n",
    "for item in s:\n",
    "    print item,"
   ]
  },
  {
   "cell_type": "code",
   "execution_count": 160,
   "metadata": {
    "collapsed": false
   },
   "outputs": [
    {
     "data": {
      "text/plain": [
       "'c'"
      ]
     },
     "execution_count": 160,
     "metadata": {},
     "output_type": "execute_result"
    }
   ],
   "source": [
    "item"
   ]
  },
  {
   "cell_type": "code",
   "execution_count": 162,
   "metadata": {
    "collapsed": false
   },
   "outputs": [
    {
     "name": "stdout",
     "output_type": "stream",
     "text": [
      "0: a\n",
      "1: b\n",
      "2: c\n"
     ]
    }
   ],
   "source": [
    "index = 0\n",
    "for item in s:\n",
    "    print \"{0}: {1}\".format(index, item)\n",
    "    index += 1"
   ]
  },
  {
   "cell_type": "code",
   "execution_count": 163,
   "metadata": {
    "collapsed": false
   },
   "outputs": [
    {
     "name": "stdout",
     "output_type": "stream",
     "text": [
      "0: a\n",
      "1: b\n",
      "2: c\n"
     ]
    }
   ],
   "source": [
    "for index, item in enumerate(s):\n",
    "    print \"{0}: {1}\".format(index, item)"
   ]
  },
  {
   "cell_type": "code",
   "execution_count": 164,
   "metadata": {
    "collapsed": false
   },
   "outputs": [
    {
     "name": "stdout",
     "output_type": "stream",
     "text": [
      "10: a\n",
      "11: b\n",
      "12: c\n"
     ]
    }
   ],
   "source": [
    "for index, item in enumerate(s, 10):\n",
    "    print \"{0}: {1}\".format(index, item)"
   ]
  },
  {
   "cell_type": "code",
   "execution_count": 165,
   "metadata": {
    "collapsed": false
   },
   "outputs": [
    {
     "name": "stdout",
     "output_type": "stream",
     "text": [
      "Hello!\n",
      "Hello!\n",
      "Hello!\n",
      "Hello!\n",
      "Hello!\n"
     ]
    }
   ],
   "source": [
    "for i in range(5):\n",
    "    print \"Hello!\""
   ]
  },
  {
   "cell_type": "code",
   "execution_count": 166,
   "metadata": {
    "collapsed": false
   },
   "outputs": [
    {
     "data": {
      "text/plain": [
       "[0, 1, 2, 3, 4]"
      ]
     },
     "execution_count": 166,
     "metadata": {},
     "output_type": "execute_result"
    }
   ],
   "source": [
    "range(5)"
   ]
  },
  {
   "cell_type": "code",
   "execution_count": 167,
   "metadata": {
    "collapsed": true
   },
   "outputs": [],
   "source": [
    "# for i in xrange(1000000000000000000):\n",
    "#     print \"Hello!\""
   ]
  },
  {
   "cell_type": "code",
   "execution_count": 168,
   "metadata": {
    "collapsed": false
   },
   "outputs": [
    {
     "name": "stdout",
     "output_type": "stream",
     "text": [
      "5\n",
      "4\n",
      "3\n",
      "2\n",
      "1\n"
     ]
    }
   ],
   "source": [
    "x = 5\n",
    "while x > 0:\n",
    "    print x\n",
    "    x -= 1"
   ]
  },
  {
   "cell_type": "code",
   "execution_count": 169,
   "metadata": {
    "collapsed": false
   },
   "outputs": [
    {
     "name": "stdout",
     "output_type": "stream",
     "text": [
      "0\n",
      "1\n",
      "2\n",
      "3\n",
      "4\n",
      "5\n",
      "6\n"
     ]
    }
   ],
   "source": [
    "for i in range(10):\n",
    "    if i == 7:\n",
    "        break\n",
    "    print i"
   ]
  },
  {
   "cell_type": "code",
   "execution_count": 170,
   "metadata": {
    "collapsed": false
   },
   "outputs": [
    {
     "name": "stdout",
     "output_type": "stream",
     "text": [
      "0\n",
      "1\n",
      "2\n",
      "3\n",
      "4\n",
      "5\n",
      "6\n",
      "8\n",
      "9\n"
     ]
    }
   ],
   "source": [
    "for i in range(10):\n",
    "    if i == 7:\n",
    "        continue\n",
    "    print i"
   ]
  },
  {
   "cell_type": "code",
   "execution_count": 172,
   "metadata": {
    "collapsed": false
   },
   "outputs": [
    {
     "name": "stdout",
     "output_type": "stream",
     "text": [
      "Enter a number:5\n",
      "You guessed right!\n"
     ]
    }
   ],
   "source": [
    "while True:\n",
    "    x = raw_input(\"Enter a number:\")\n",
    "    if int(x) == 5:\n",
    "        print \"You guessed right!\"\n",
    "        break"
   ]
  },
  {
   "cell_type": "code",
   "execution_count": 179,
   "metadata": {
    "collapsed": false
   },
   "outputs": [
    {
     "name": "stdout",
     "output_type": "stream",
     "text": [
      "Found it!\n"
     ]
    }
   ],
   "source": [
    "s = 'abcde'\n",
    "look_for = 'd'\n",
    "\n",
    "for letter in s:\n",
    "    if look_for == letter:\n",
    "        print \"Found it!\"\n",
    "        break\n",
    "else:   # exited_from_loop_without_a_break:\n",
    "    print \"Did not find it\""
   ]
  },
  {
   "cell_type": "code",
   "execution_count": 180,
   "metadata": {
    "collapsed": false
   },
   "outputs": [
    {
     "data": {
      "text/plain": [
       "list"
      ]
     },
     "execution_count": 180,
     "metadata": {},
     "output_type": "execute_result"
    }
   ],
   "source": [
    "mylist = [10, 20, 30]\n",
    "type(mylist)"
   ]
  },
  {
   "cell_type": "code",
   "execution_count": 181,
   "metadata": {
    "collapsed": false
   },
   "outputs": [
    {
     "data": {
      "text/plain": [
       "list"
      ]
     },
     "execution_count": 181,
     "metadata": {},
     "output_type": "execute_result"
    }
   ],
   "source": [
    "mylist = ['a', 'b', 'c']\n",
    "type(mylist)"
   ]
  },
  {
   "cell_type": "code",
   "execution_count": 182,
   "metadata": {
    "collapsed": false
   },
   "outputs": [
    {
     "data": {
      "text/plain": [
       "list"
      ]
     },
     "execution_count": 182,
     "metadata": {},
     "output_type": "execute_result"
    }
   ],
   "source": [
    "mylist = [10, 20, 'a', 'b']\n",
    "type(mylist)"
   ]
  },
  {
   "cell_type": "code",
   "execution_count": 184,
   "metadata": {
    "collapsed": false
   },
   "outputs": [
    {
     "data": {
      "text/plain": [
       "4"
      ]
     },
     "execution_count": 184,
     "metadata": {},
     "output_type": "execute_result"
    }
   ],
   "source": [
    "len(mylist)"
   ]
  },
  {
   "cell_type": "code",
   "execution_count": 185,
   "metadata": {
    "collapsed": false
   },
   "outputs": [
    {
     "name": "stdout",
     "output_type": "stream",
     "text": [
      "[[10, 20, 30], [10, 20, 30], [10, 20, 30]]\n"
     ]
    }
   ],
   "source": [
    "mylist = [10, 20, 30]\n",
    "biglist = [mylist, mylist, mylist]\n",
    "\n",
    "print biglist"
   ]
  },
  {
   "cell_type": "code",
   "execution_count": 186,
   "metadata": {
    "collapsed": false
   },
   "outputs": [
    {
     "data": {
      "text/plain": [
       "3"
      ]
     },
     "execution_count": 186,
     "metadata": {},
     "output_type": "execute_result"
    }
   ],
   "source": [
    "len(biglist)"
   ]
  },
  {
   "cell_type": "code",
   "execution_count": 187,
   "metadata": {
    "collapsed": false
   },
   "outputs": [
    {
     "data": {
      "text/plain": [
       "10"
      ]
     },
     "execution_count": 187,
     "metadata": {},
     "output_type": "execute_result"
    }
   ],
   "source": [
    "mylist[0]"
   ]
  },
  {
   "cell_type": "code",
   "execution_count": 188,
   "metadata": {
    "collapsed": true
   },
   "outputs": [],
   "source": [
    "mylist[0] = '!'"
   ]
  },
  {
   "cell_type": "code",
   "execution_count": 189,
   "metadata": {
    "collapsed": true
   },
   "outputs": [],
   "source": [
    "# lists are mutable!  They can be changed!"
   ]
  },
  {
   "cell_type": "code",
   "execution_count": 190,
   "metadata": {
    "collapsed": false
   },
   "outputs": [
    {
     "data": {
      "text/plain": [
       "['!', 20, 30]"
      ]
     },
     "execution_count": 190,
     "metadata": {},
     "output_type": "execute_result"
    }
   ],
   "source": [
    "mylist"
   ]
  },
  {
   "cell_type": "code",
   "execution_count": 191,
   "metadata": {
    "collapsed": false
   },
   "outputs": [
    {
     "data": {
      "text/plain": [
       "[['!', 20, 30], ['!', 20, 30], ['!', 20, 30]]"
      ]
     },
     "execution_count": 191,
     "metadata": {},
     "output_type": "execute_result"
    }
   ],
   "source": [
    "biglist"
   ]
  },
  {
   "cell_type": "code",
   "execution_count": 192,
   "metadata": {
    "collapsed": false
   },
   "outputs": [
    {
     "name": "stdout",
     "output_type": "stream",
     "text": [
      "10\n"
     ]
    }
   ],
   "source": [
    "x = 10\n",
    "y = x\n",
    "\n",
    "x = 20\n",
    "print y"
   ]
  },
  {
   "cell_type": "code",
   "execution_count": 194,
   "metadata": {
    "collapsed": false
   },
   "outputs": [
    {
     "name": "stdout",
     "output_type": "stream",
     "text": [
      "[10, 20, 'hello']\n"
     ]
    }
   ],
   "source": [
    "x = [10, 20, 30]\n",
    "y = x\n",
    "\n",
    "x[2] = 'hello'\n",
    "print y"
   ]
  },
  {
   "cell_type": "code",
   "execution_count": 195,
   "metadata": {
    "collapsed": false
   },
   "outputs": [
    {
     "data": {
      "text/plain": [
       "[10, 20, 30, 40]"
      ]
     },
     "execution_count": 195,
     "metadata": {},
     "output_type": "execute_result"
    }
   ],
   "source": [
    "mylist = [10, 20, 30]\n",
    "mylist.append(40)\n",
    "mylist"
   ]
  },
  {
   "cell_type": "code",
   "execution_count": 196,
   "metadata": {
    "collapsed": false
   },
   "outputs": [
    {
     "data": {
      "text/plain": [
       "[10, 20, 30, 40, [1, 2, 3]]"
      ]
     },
     "execution_count": 196,
     "metadata": {},
     "output_type": "execute_result"
    }
   ],
   "source": [
    "mylist.append([1,2,3])\n",
    "mylist"
   ]
  },
  {
   "cell_type": "code",
   "execution_count": 197,
   "metadata": {
    "collapsed": false
   },
   "outputs": [
    {
     "data": {
      "text/plain": [
       "[10, 20, 30, 40, [1, 2, 3], [...]]"
      ]
     },
     "execution_count": 197,
     "metadata": {},
     "output_type": "execute_result"
    }
   ],
   "source": [
    "mylist.append(mylist)\n",
    "mylist"
   ]
  },
  {
   "cell_type": "code",
   "execution_count": 198,
   "metadata": {
    "collapsed": false
   },
   "outputs": [
    {
     "data": {
      "text/plain": [
       "[10, 20, 30, 40, [1, 2, 3], [...]]"
      ]
     },
     "execution_count": 198,
     "metadata": {},
     "output_type": "execute_result"
    }
   ],
   "source": [
    "mylist[-1]"
   ]
  },
  {
   "cell_type": "code",
   "execution_count": 199,
   "metadata": {
    "collapsed": true
   },
   "outputs": [],
   "source": [
    "del(mylist)"
   ]
  },
  {
   "cell_type": "code",
   "execution_count": 200,
   "metadata": {
    "collapsed": false
   },
   "outputs": [
    {
     "data": {
      "text/plain": [
       "[10, 20, 30, 40, 50, 60]"
      ]
     },
     "execution_count": 200,
     "metadata": {},
     "output_type": "execute_result"
    }
   ],
   "source": [
    "mylist = [10, 20, 30]\n",
    "mylist += [40, 50, 60]\n",
    "mylist"
   ]
  },
  {
   "cell_type": "code",
   "execution_count": 201,
   "metadata": {
    "collapsed": false
   },
   "outputs": [
    {
     "data": {
      "text/plain": [
       "[10, 20, 30, 40, 50, 60, 'a', 'b', 'c']"
      ]
     },
     "execution_count": 201,
     "metadata": {},
     "output_type": "execute_result"
    }
   ],
   "source": [
    "mylist += 'abc'\n",
    "mylist"
   ]
  },
  {
   "cell_type": "code",
   "execution_count": 202,
   "metadata": {
    "collapsed": false
   },
   "outputs": [
    {
     "data": {
      "text/plain": [
       "[10, 20, 30, 40, 50, 60, 'a', 'b', 'c', 'abc']"
      ]
     },
     "execution_count": 202,
     "metadata": {},
     "output_type": "execute_result"
    }
   ],
   "source": [
    "mylist.append('abc')\n",
    "mylist"
   ]
  },
  {
   "cell_type": "code",
   "execution_count": 203,
   "metadata": {
    "collapsed": false
   },
   "outputs": [
    {
     "data": {
      "text/plain": [
       "['a', 'b', 'c']"
      ]
     },
     "execution_count": 203,
     "metadata": {},
     "output_type": "execute_result"
    }
   ],
   "source": [
    "s = 'a,b,c'\n",
    "s.split(',')"
   ]
  },
  {
   "cell_type": "code",
   "execution_count": 205,
   "metadata": {
    "collapsed": false
   },
   "outputs": [
    {
     "data": {
      "text/plain": [
       "['this', 'is', 'a', 'bunch', 'of', 'words']"
      ]
     },
     "execution_count": 205,
     "metadata": {},
     "output_type": "execute_result"
    }
   ],
   "source": [
    "s = 'this is a bunch of words'\n",
    "s.split(' ')"
   ]
  },
  {
   "cell_type": "code",
   "execution_count": 206,
   "metadata": {
    "collapsed": false
   },
   "outputs": [
    {
     "data": {
      "text/plain": [
       "['this', '', '', '', '', 'is', 'a', '', '', '', '', 'bunch', 'of', 'words']"
      ]
     },
     "execution_count": 206,
     "metadata": {},
     "output_type": "execute_result"
    }
   ],
   "source": [
    "s = 'this     is a     bunch of words'\n",
    "s.split(' ')"
   ]
  },
  {
   "cell_type": "code",
   "execution_count": 207,
   "metadata": {
    "collapsed": false
   },
   "outputs": [
    {
     "data": {
      "text/plain": [
       "['this', 'is', 'a', 'bunch', 'of', 'words']"
      ]
     },
     "execution_count": 207,
     "metadata": {},
     "output_type": "execute_result"
    }
   ],
   "source": [
    "s = 'this     is a     bunch of words'\n",
    "s.split()"
   ]
  },
  {
   "cell_type": "code",
   "execution_count": 208,
   "metadata": {
    "collapsed": false
   },
   "outputs": [
    {
     "data": {
      "text/plain": [
       "'a,b,c'"
      ]
     },
     "execution_count": 208,
     "metadata": {},
     "output_type": "execute_result"
    }
   ],
   "source": [
    "mylist = ['a', 'b', 'c']\n",
    "','.join(mylist)"
   ]
  },
  {
   "cell_type": "code",
   "execution_count": 209,
   "metadata": {
    "collapsed": false
   },
   "outputs": [
    {
     "ename": "TypeError",
     "evalue": "sequence item 0: expected string, int found",
     "traceback": [
      "\u001b[0;31m---------------------------------------------------------------------------\u001b[0m",
      "\u001b[0;31mTypeError\u001b[0m                                 Traceback (most recent call last)",
      "\u001b[0;32m<ipython-input-209-1cb0752d3d67>\u001b[0m in \u001b[0;36m<module>\u001b[0;34m()\u001b[0m\n\u001b[0;32m----> 1\u001b[0;31m \u001b[0;34m','\u001b[0m\u001b[0;34m.\u001b[0m\u001b[0mjoin\u001b[0m\u001b[0;34m(\u001b[0m\u001b[0;34m[\u001b[0m\u001b[0;36m10\u001b[0m\u001b[0;34m,\u001b[0m \u001b[0;36m20\u001b[0m\u001b[0;34m,\u001b[0m \u001b[0;36m30\u001b[0m\u001b[0;34m]\u001b[0m\u001b[0;34m)\u001b[0m\u001b[0;34m\u001b[0m\u001b[0m\n\u001b[0m",
      "\u001b[0;31mTypeError\u001b[0m: sequence item 0: expected string, int found"
     ],
     "output_type": "error"
    }
   ],
   "source": [
    "','.join([10, 20, 30])"
   ]
  },
  {
   "cell_type": "code",
   "execution_count": 210,
   "metadata": {
    "collapsed": false
   },
   "outputs": [
    {
     "data": {
      "text/plain": [
       "'a,b,c'"
      ]
     },
     "execution_count": 210,
     "metadata": {},
     "output_type": "execute_result"
    }
   ],
   "source": [
    "','.join('abc')"
   ]
  },
  {
   "cell_type": "code",
   "execution_count": 211,
   "metadata": {
    "collapsed": false
   },
   "outputs": [
    {
     "data": {
      "text/plain": [
       "tuple"
      ]
     },
     "execution_count": 211,
     "metadata": {},
     "output_type": "execute_result"
    }
   ],
   "source": [
    "# 2 -- couple\n",
    "# 3 -- triple\n",
    "# 4 -- quadruple\n",
    "\n",
    "# n-uple   tuple\n",
    "\n",
    "t = (10, 20, 30)\n",
    "type(t)"
   ]
  },
  {
   "cell_type": "code",
   "execution_count": 212,
   "metadata": {
    "collapsed": false
   },
   "outputs": [
    {
     "data": {
      "text/plain": [
       "tuple"
      ]
     },
     "execution_count": 212,
     "metadata": {},
     "output_type": "execute_result"
    }
   ],
   "source": [
    "t = (10, 20)\n",
    "type(t)"
   ]
  },
  {
   "cell_type": "code",
   "execution_count": 213,
   "metadata": {
    "collapsed": false
   },
   "outputs": [
    {
     "data": {
      "text/plain": [
       "int"
      ]
     },
     "execution_count": 213,
     "metadata": {},
     "output_type": "execute_result"
    }
   ],
   "source": [
    "t = (10)\n",
    "type(t)"
   ]
  },
  {
   "cell_type": "code",
   "execution_count": 214,
   "metadata": {
    "collapsed": false
   },
   "outputs": [
    {
     "data": {
      "text/plain": [
       "tuple"
      ]
     },
     "execution_count": 214,
     "metadata": {},
     "output_type": "execute_result"
    }
   ],
   "source": [
    "t = ()\n",
    "type(t)"
   ]
  },
  {
   "cell_type": "code",
   "execution_count": 216,
   "metadata": {
    "collapsed": false
   },
   "outputs": [
    {
     "data": {
      "text/plain": [
       "22"
      ]
     },
     "execution_count": 216,
     "metadata": {},
     "output_type": "execute_result"
    }
   ],
   "source": [
    "(8 + 3) * 2"
   ]
  },
  {
   "cell_type": "code",
   "execution_count": 217,
   "metadata": {
    "collapsed": false
   },
   "outputs": [
    {
     "data": {
      "text/plain": [
       "tuple"
      ]
     },
     "execution_count": 217,
     "metadata": {},
     "output_type": "execute_result"
    }
   ],
   "source": [
    "t = (10,)\n",
    "type(t)"
   ]
  },
  {
   "cell_type": "code",
   "execution_count": 218,
   "metadata": {
    "collapsed": false
   },
   "outputs": [
    {
     "data": {
      "text/plain": [
       "(10, 10, 10)"
      ]
     },
     "execution_count": 218,
     "metadata": {},
     "output_type": "execute_result"
    }
   ],
   "source": [
    "(10,) * 3"
   ]
  },
  {
   "cell_type": "code",
   "execution_count": 219,
   "metadata": {
    "collapsed": false
   },
   "outputs": [
    {
     "data": {
      "text/plain": [
       "tuple"
      ]
     },
     "execution_count": 219,
     "metadata": {},
     "output_type": "execute_result"
    }
   ],
   "source": [
    "t = 10,20,30\n",
    "type(t)"
   ]
  },
  {
   "cell_type": "code",
   "execution_count": 220,
   "metadata": {
    "collapsed": false
   },
   "outputs": [
    {
     "data": {
      "text/plain": [
       "(10, 20, 30)"
      ]
     },
     "execution_count": 220,
     "metadata": {},
     "output_type": "execute_result"
    }
   ],
   "source": [
    "t"
   ]
  },
  {
   "cell_type": "code",
   "execution_count": 221,
   "metadata": {
    "collapsed": false
   },
   "outputs": [
    {
     "data": {
      "text/plain": [
       "10"
      ]
     },
     "execution_count": 221,
     "metadata": {},
     "output_type": "execute_result"
    }
   ],
   "source": [
    "t[0]"
   ]
  },
  {
   "cell_type": "code",
   "execution_count": 222,
   "metadata": {
    "collapsed": false
   },
   "outputs": [
    {
     "data": {
      "text/plain": [
       "20"
      ]
     },
     "execution_count": 222,
     "metadata": {},
     "output_type": "execute_result"
    }
   ],
   "source": [
    "t[1]"
   ]
  },
  {
   "cell_type": "code",
   "execution_count": 223,
   "metadata": {
    "collapsed": false
   },
   "outputs": [
    {
     "data": {
      "text/plain": [
       "30"
      ]
     },
     "execution_count": 223,
     "metadata": {},
     "output_type": "execute_result"
    }
   ],
   "source": [
    "t[-1]"
   ]
  },
  {
   "cell_type": "code",
   "execution_count": 226,
   "metadata": {
    "collapsed": false
   },
   "outputs": [
    {
     "data": {
      "text/plain": [
       "True"
      ]
     },
     "execution_count": 226,
     "metadata": {},
     "output_type": "execute_result"
    }
   ],
   "source": [
    "10 in t"
   ]
  },
  {
   "cell_type": "code",
   "execution_count": 227,
   "metadata": {
    "collapsed": false
   },
   "outputs": [
    {
     "data": {
      "text/plain": [
       "False"
      ]
     },
     "execution_count": 227,
     "metadata": {},
     "output_type": "execute_result"
    }
   ],
   "source": [
    "100 in t"
   ]
  },
  {
   "cell_type": "code",
   "execution_count": 228,
   "metadata": {
    "collapsed": false
   },
   "outputs": [
    {
     "data": {
      "text/plain": [
       "((10, 20, 30), (40, 50, 60))"
      ]
     },
     "execution_count": 228,
     "metadata": {},
     "output_type": "execute_result"
    }
   ],
   "source": [
    "t = ((10, 20, 30), (40, 50, 60))\n",
    "t"
   ]
  },
  {
   "cell_type": "code",
   "execution_count": 229,
   "metadata": {
    "collapsed": false
   },
   "outputs": [
    {
     "data": {
      "text/plain": [
       "False"
      ]
     },
     "execution_count": 229,
     "metadata": {},
     "output_type": "execute_result"
    }
   ],
   "source": [
    "10 in t"
   ]
  },
  {
   "cell_type": "code",
   "execution_count": 230,
   "metadata": {
    "collapsed": false
   },
   "outputs": [
    {
     "data": {
      "text/plain": [
       "True"
      ]
     },
     "execution_count": 230,
     "metadata": {},
     "output_type": "execute_result"
    }
   ],
   "source": [
    "10 in t[0]"
   ]
  },
  {
   "cell_type": "code",
   "execution_count": 231,
   "metadata": {
    "collapsed": false
   },
   "outputs": [
    {
     "ename": "TypeError",
     "evalue": "'tuple' object does not support item assignment",
     "traceback": [
      "\u001b[0;31m---------------------------------------------------------------------------\u001b[0m",
      "\u001b[0;31mTypeError\u001b[0m                                 Traceback (most recent call last)",
      "\u001b[0;32m<ipython-input-231-985cf1df0696>\u001b[0m in \u001b[0;36m<module>\u001b[0;34m()\u001b[0m\n\u001b[0;32m----> 1\u001b[0;31m \u001b[0mt\u001b[0m\u001b[0;34m[\u001b[0m\u001b[0;36m0\u001b[0m\u001b[0;34m]\u001b[0m \u001b[0;34m=\u001b[0m \u001b[0;34m'!'\u001b[0m\u001b[0;34m\u001b[0m\u001b[0m\n\u001b[0m",
      "\u001b[0;31mTypeError\u001b[0m: 'tuple' object does not support item assignment"
     ],
     "output_type": "error"
    }
   ],
   "source": [
    "t[0] = '!'"
   ]
  },
  {
   "cell_type": "code",
   "execution_count": 232,
   "metadata": {
    "collapsed": false
   },
   "outputs": [
    {
     "data": {
      "text/plain": [
       "([10, 20, 30], [40, 50, 60])"
      ]
     },
     "execution_count": 232,
     "metadata": {},
     "output_type": "execute_result"
    }
   ],
   "source": [
    "t = ([10, 20, 30], [40, 50, 60])\n",
    "t"
   ]
  },
  {
   "cell_type": "code",
   "execution_count": 234,
   "metadata": {
    "collapsed": false
   },
   "outputs": [
    {
     "data": {
      "text/plain": [
       "([10, 20, 30, 555], [40, 50, 60])"
      ]
     },
     "execution_count": 234,
     "metadata": {},
     "output_type": "execute_result"
    }
   ],
   "source": [
    "t[0].append(555)\n",
    "t"
   ]
  },
  {
   "cell_type": "code",
   "execution_count": 235,
   "metadata": {
    "collapsed": false
   },
   "outputs": [
    {
     "ename": "TypeError",
     "evalue": "'tuple' object does not support item assignment",
     "traceback": [
      "\u001b[0;31m---------------------------------------------------------------------------\u001b[0m",
      "\u001b[0;31mTypeError\u001b[0m                                 Traceback (most recent call last)",
      "\u001b[0;32m<ipython-input-235-096e02e965a0>\u001b[0m in \u001b[0;36m<module>\u001b[0;34m()\u001b[0m\n\u001b[0;32m----> 1\u001b[0;31m \u001b[0mt\u001b[0m\u001b[0;34m[\u001b[0m\u001b[0;36m0\u001b[0m\u001b[0;34m]\u001b[0m \u001b[0;34m+=\u001b[0m \u001b[0;34m[\u001b[0m\u001b[0;36m100\u001b[0m\u001b[0;34m,\u001b[0m \u001b[0;36m200\u001b[0m\u001b[0;34m,\u001b[0m \u001b[0;36m300\u001b[0m\u001b[0;34m]\u001b[0m\u001b[0;34m\u001b[0m\u001b[0m\n\u001b[0m",
      "\u001b[0;31mTypeError\u001b[0m: 'tuple' object does not support item assignment"
     ],
     "output_type": "error"
    }
   ],
   "source": [
    "t[0] += [100, 200, 300]"
   ]
  },
  {
   "cell_type": "code",
   "execution_count": 236,
   "metadata": {
    "collapsed": false
   },
   "outputs": [
    {
     "data": {
      "text/plain": [
       "([10, 20, 30, 555, 100, 200, 300], [40, 50, 60])"
      ]
     },
     "execution_count": 236,
     "metadata": {},
     "output_type": "execute_result"
    }
   ],
   "source": [
    "t"
   ]
  },
  {
   "cell_type": "code",
   "execution_count": 237,
   "metadata": {
    "collapsed": false
   },
   "outputs": [
    {
     "data": {
      "text/plain": [
       "5"
      ]
     },
     "execution_count": 237,
     "metadata": {},
     "output_type": "execute_result"
    }
   ],
   "source": [
    "int('5')"
   ]
  },
  {
   "cell_type": "code",
   "execution_count": 238,
   "metadata": {
    "collapsed": false
   },
   "outputs": [
    {
     "data": {
      "text/plain": [
       "'5'"
      ]
     },
     "execution_count": 238,
     "metadata": {},
     "output_type": "execute_result"
    }
   ],
   "source": [
    "str(5)"
   ]
  },
  {
   "cell_type": "code",
   "execution_count": 239,
   "metadata": {
    "collapsed": false
   },
   "outputs": [
    {
     "data": {
      "text/plain": [
       "'[1, 2, 3]'"
      ]
     },
     "execution_count": 239,
     "metadata": {},
     "output_type": "execute_result"
    }
   ],
   "source": [
    "str([1,2,3])"
   ]
  },
  {
   "cell_type": "code",
   "execution_count": 240,
   "metadata": {
    "collapsed": false
   },
   "outputs": [
    {
     "name": "stdout",
     "output_type": "stream",
     "text": [
      "The value of x is [10, 20, 30]\n"
     ]
    }
   ],
   "source": [
    "x = [10, 20, 30]\n",
    "print \"The value of x is {}\".format(x)"
   ]
  },
  {
   "cell_type": "code",
   "execution_count": 241,
   "metadata": {
    "collapsed": false
   },
   "outputs": [
    {
     "data": {
      "text/plain": [
       "['a', 'b', 'c']"
      ]
     },
     "execution_count": 241,
     "metadata": {},
     "output_type": "execute_result"
    }
   ],
   "source": [
    "s = 'abc'\n",
    "list(s)"
   ]
  },
  {
   "cell_type": "code",
   "execution_count": 242,
   "metadata": {
    "collapsed": false
   },
   "outputs": [
    {
     "data": {
      "text/plain": [
       "('a', 'b', 'c')"
      ]
     },
     "execution_count": 242,
     "metadata": {},
     "output_type": "execute_result"
    }
   ],
   "source": [
    "tuple(s)"
   ]
  },
  {
   "cell_type": "code",
   "execution_count": 243,
   "metadata": {
    "collapsed": false
   },
   "outputs": [
    {
     "data": {
      "text/plain": [
       "(10, 20, 30)"
      ]
     },
     "execution_count": 243,
     "metadata": {},
     "output_type": "execute_result"
    }
   ],
   "source": [
    "mylist = [10, 20, 30]\n",
    "tuple(mylist)"
   ]
  },
  {
   "cell_type": "code",
   "execution_count": 245,
   "metadata": {
    "collapsed": false
   },
   "outputs": [
    {
     "data": {
      "text/plain": [
       "[[10, 20, 30, 555, 100, 200, 300], [40, 50, 60]]"
      ]
     },
     "execution_count": 245,
     "metadata": {},
     "output_type": "execute_result"
    }
   ],
   "source": [
    "list(t)"
   ]
  },
  {
   "cell_type": "code",
   "execution_count": 246,
   "metadata": {
    "collapsed": true
   },
   "outputs": [],
   "source": [
    "mylist = [10, 30, 20, 5, 15]\n",
    "mylist.sort()"
   ]
  },
  {
   "cell_type": "code",
   "execution_count": 247,
   "metadata": {
    "collapsed": false
   },
   "outputs": [
    {
     "data": {
      "text/plain": [
       "[5, 10, 15, 20, 30]"
      ]
     },
     "execution_count": 247,
     "metadata": {},
     "output_type": "execute_result"
    }
   ],
   "source": [
    "mylist"
   ]
  },
  {
   "cell_type": "code",
   "execution_count": 248,
   "metadata": {
    "collapsed": true
   },
   "outputs": [],
   "source": [
    "mylist = mylist.sort()"
   ]
  },
  {
   "cell_type": "code",
   "execution_count": 249,
   "metadata": {
    "collapsed": false
   },
   "outputs": [
    {
     "data": {
      "text/plain": [
       "NoneType"
      ]
     },
     "execution_count": 249,
     "metadata": {},
     "output_type": "execute_result"
    }
   ],
   "source": [
    "type(mylist)"
   ]
  },
  {
   "cell_type": "code",
   "execution_count": 250,
   "metadata": {
    "collapsed": false
   },
   "outputs": [
    {
     "data": {
      "text/plain": [
       "[-3, 2.5, 5, 10, 'A', 'Z', 'a', 'b']"
      ]
     },
     "execution_count": 250,
     "metadata": {},
     "output_type": "execute_result"
    }
   ],
   "source": [
    "mylist = [10, 'a', 5, -3, 'A', 'b', 'Z', 2.5]\n",
    "mylist.sort()\n",
    "mylist"
   ]
  },
  {
   "cell_type": "code",
   "execution_count": 251,
   "metadata": {
    "collapsed": false
   },
   "outputs": [
    {
     "data": {
      "text/plain": [
       "[-3, 2.5, 5, 10, <function len>, 'A', 'Z', 'a', 'b', float, int, str]"
      ]
     },
     "execution_count": 251,
     "metadata": {},
     "output_type": "execute_result"
    }
   ],
   "source": [
    "mylist = [10, 'a', 5, -3, 'A', 'b', 'Z', 2.5, len, str, int, float]\n",
    "mylist.sort()\n",
    "mylist"
   ]
  },
  {
   "cell_type": "code",
   "execution_count": 252,
   "metadata": {
    "collapsed": false
   },
   "outputs": [
    {
     "data": {
      "text/plain": [
       "dict"
      ]
     },
     "execution_count": 252,
     "metadata": {},
     "output_type": "execute_result"
    }
   ],
   "source": [
    "d = {}\n",
    "type(d)"
   ]
  },
  {
   "cell_type": "code",
   "execution_count": 253,
   "metadata": {
    "collapsed": false
   },
   "outputs": [
    {
     "data": {
      "text/plain": [
       "0"
      ]
     },
     "execution_count": 253,
     "metadata": {},
     "output_type": "execute_result"
    }
   ],
   "source": [
    "len(d)"
   ]
  },
  {
   "cell_type": "code",
   "execution_count": 254,
   "metadata": {
    "collapsed": false
   },
   "outputs": [
    {
     "data": {
      "text/plain": [
       "3"
      ]
     },
     "execution_count": 254,
     "metadata": {},
     "output_type": "execute_result"
    }
   ],
   "source": [
    "d['a'] = 1\n",
    "d['b'] = 2\n",
    "d['c'] = 3\n",
    "len(d)"
   ]
  },
  {
   "cell_type": "code",
   "execution_count": 255,
   "metadata": {
    "collapsed": false
   },
   "outputs": [
    {
     "name": "stdout",
     "output_type": "stream",
     "text": [
      "{'a': 1, 'c': 3, 'b': 2}\n"
     ]
    }
   ],
   "source": [
    "print d"
   ]
  },
  {
   "cell_type": "code",
   "execution_count": 256,
   "metadata": {
    "collapsed": false
   },
   "outputs": [
    {
     "data": {
      "text/plain": [
       "12416037344"
      ]
     },
     "execution_count": 256,
     "metadata": {},
     "output_type": "execute_result"
    }
   ],
   "source": [
    "hash('a')"
   ]
  },
  {
   "cell_type": "code",
   "execution_count": 257,
   "metadata": {
    "collapsed": false
   },
   "outputs": [
    {
     "data": {
      "text/plain": [
       "0"
      ]
     },
     "execution_count": 257,
     "metadata": {},
     "output_type": "execute_result"
    }
   ],
   "source": [
    "hash('a') % 8"
   ]
  },
  {
   "cell_type": "code",
   "execution_count": 258,
   "metadata": {
    "collapsed": false
   },
   "outputs": [
    {
     "data": {
      "text/plain": [
       "3"
      ]
     },
     "execution_count": 258,
     "metadata": {},
     "output_type": "execute_result"
    }
   ],
   "source": [
    "hash('b') % 8"
   ]
  },
  {
   "cell_type": "code",
   "execution_count": 259,
   "metadata": {
    "collapsed": false
   },
   "outputs": [
    {
     "data": {
      "text/plain": [
       "2"
      ]
     },
     "execution_count": 259,
     "metadata": {},
     "output_type": "execute_result"
    }
   ],
   "source": [
    "hash('c') % 8"
   ]
  },
  {
   "cell_type": "code",
   "execution_count": 260,
   "metadata": {
    "collapsed": false
   },
   "outputs": [
    {
     "name": "stdout",
     "output_type": "stream",
     "text": [
      "{'a': 1, 'c': 3, 'b': 2}\n"
     ]
    }
   ],
   "source": [
    "print d"
   ]
  },
  {
   "cell_type": "code",
   "execution_count": 261,
   "metadata": {
    "collapsed": false
   },
   "outputs": [
    {
     "data": {
      "text/plain": [
       "0"
      ]
     },
     "execution_count": 261,
     "metadata": {},
     "output_type": "execute_result"
    }
   ],
   "source": [
    "hash('i') % 8"
   ]
  },
  {
   "cell_type": "code",
   "execution_count": 262,
   "metadata": {
    "collapsed": false
   },
   "outputs": [
    {
     "name": "stdout",
     "output_type": "stream",
     "text": [
      "{'a': 1, 'i': 4, 'c': 3, 'b': 2}\n"
     ]
    }
   ],
   "source": [
    "d['i'] = 4\n",
    "print d"
   ]
  },
  {
   "cell_type": "code",
   "execution_count": 263,
   "metadata": {
    "collapsed": false
   },
   "outputs": [
    {
     "name": "stdout",
     "output_type": "stream",
     "text": [
      "{'i': 4, 'a': 1, 'c': 3, 'b': 2}\n"
     ]
    }
   ],
   "source": [
    "d = {}\n",
    "d['i'] = 4\n",
    "d['a'] = 1\n",
    "d['b'] = 2\n",
    "d['c'] = 3\n",
    "print d"
   ]
  },
  {
   "cell_type": "code",
   "execution_count": 265,
   "metadata": {
    "collapsed": false
   },
   "outputs": [
    {
     "data": {
      "text/plain": [
       "'Python'"
      ]
     },
     "execution_count": 265,
     "metadata": {},
     "output_type": "execute_result"
    }
   ],
   "source": [
    "course = {'city':'Shanghai', 'country':'China',\n",
    "        'topic':'Python'}\n",
    "\n",
    "course['topic']"
   ]
  },
  {
   "cell_type": "code",
   "execution_count": 266,
   "metadata": {
    "collapsed": false
   },
   "outputs": [
    {
     "data": {
      "text/plain": [
       "{'In': ['',\n",
       "  u'print \"Hello, world!\"',\n",
       "  u'x = 5',\n",
       "  u\"y = 'this is a string'\",\n",
       "  u'name = raw_input(\"Enter your name: \")',\n",
       "  u'print name',\n",
       "  u'name',\n",
       "  u'type(name)',\n",
       "  u'name = 5',\n",
       "  u'type(name)',\n",
       "  u'1 + 1',\n",
       "  u\"'1' + '1'\",\n",
       "  u\"1 + '1'\",\n",
       "  u'name = raw_input(\"Enter your name: \")\\nif name == \\'Reuven\\':\\n    print \"Hello, master!\"\\n    print \"It has been so long!\"\\nelse:\\n    print \"Hello, \" + name',\n",
       "  u'name = raw_input(\"Enter your name: \")\\nif name == \\'Reuven\\':\\n    print \"Hello, master!\"\\n    print \"It has been so long!\"\\nelse:\\n    print \"Hello, \" + name',\n",
       "  u'name',\n",
       "  u'if name != \\'someone else\\':\\n    print \"Oh, good!  I wouldn\\'t want someone else!\"',\n",
       "  u'# && -- that is ugly so it\\'s not in Python!\\nif name == \\'a\\' and x == 5:\\n    print \"Yay!\"',\n",
       "  u'if name == \\'a\\' or x == 5:\\n    print \"Yay here, too!\"',\n",
       "  u'x = None',\n",
       "  u'type(x)',\n",
       "  u'if x == None:\\n    print \"I guess it is None!\"',\n",
       "  u'if x is None:\\n    print \"It really is None\"',\n",
       "  u'x = True\\ntype(x)',\n",
       "  u'y = False\\ntype(y)',\n",
       "  u'5 == 5',\n",
       "  u'5 == 6',\n",
       "  u'x = \\'hello\\'\\nif x:\\n    print \"It\\'s True\"\\nelse:\\n    print \"It\\'s False\"',\n",
       "  u'name = raw_input(\"Enter your name: \")\\nif name == \\'\\':\\n    print \"I wanted a name!\"\\nelse:\\n    print \"Hello, \" + name',\n",
       "  u'name = raw_input(\"Enter your name: \")\\nif name == \\'\\':\\n    print \"I wanted a name!\"\\nelse:\\n    print \"Hello, \" + name',\n",
       "  u'x = 10\\ntype(x)',\n",
       "  u'import sys\\nsys.maxint',\n",
       "  u'x = sys.maxint\\nx = x * 100000',\n",
       "  u'x',\n",
       "  u'type(x)',\n",
       "  u'3 ** 4',\n",
       "  u\"s = '123'\\ns + s\",\n",
       "  u'int(s)',\n",
       "  u'int(s) + int(s)',\n",
       "  u's',\n",
       "  u'int(s, 8)',\n",
       "  u'int(s, 16)',\n",
       "  u'int(s, 36)',\n",
       "  u'x = 123\\nhex(x)',\n",
       "  u'0x7b',\n",
       "  u'bin(x)',\n",
       "  u'oct(x)',\n",
       "  u'0173',\n",
       "  u'0x123',\n",
       "  u'0b1101',\n",
       "  u'0O123',\n",
       "  u'0o123',\n",
       "  u'10 + 5',\n",
       "  u'10 - 5',\n",
       "  u'10 * 5',\n",
       "  u'10 / 5',\n",
       "  u'10 / 3',\n",
       "  u'type(1)',\n",
       "  u'type(1.0)',\n",
       "  u'10.0 / 3.0',\n",
       "  u'10.0 / 3',\n",
       "  u'10 / 3',\n",
       "  u'float(10) / 3',\n",
       "  u'float(10 / 3)',\n",
       "  u'0.1 + 0.2',\n",
       "  u'x = 5\\nx++',\n",
       "  u'x += 1\\nx',\n",
       "  u'x',\n",
       "  u'x += 1',\n",
       "  u'x',\n",
       "  u\"s = 'abc'\",\n",
       "  u'# immutable -- cannot change them!',\n",
       "  u's',\n",
       "  u's[0]',\n",
       "  u\"s[0] = '!'\",\n",
       "  u's.upper()',\n",
       "  u's',\n",
       "  u'name = raw_input(\"Enter your name: \")\\nprint name',\n",
       "  u'name.strip()',\n",
       "  u'name',\n",
       "  u'name = name.strip()\\nname',\n",
       "  u'len(name)',\n",
       "  u\"s = 'abcdefghijklmnopqrstuvwxyz'\\nlen(s)\",\n",
       "  u's[0]',\n",
       "  u'type(s[0])',\n",
       "  u's[1]',\n",
       "  u's[2]',\n",
       "  u's',\n",
       "  u's[-1]',\n",
       "  u's[-2]',\n",
       "  u's[10:20]',\n",
       "  u's[5:15]',\n",
       "  u's[15:]  # from index 15 to the end',\n",
       "  u's[:10]  # up to, and not including, index 10',\n",
       "  u'# slice',\n",
       "  u's[200]',\n",
       "  u's[:200]',\n",
       "  u's[5:20:2]',\n",
       "  u's[5:20:3]',\n",
       "  u's[::2]',\n",
       "  u's[::5]',\n",
       "  u's[::-1]',\n",
       "  u'# sequences - string, list, tuple',\n",
       "  u\"s = 'abc'\\ns\",\n",
       "  u's = \"abc\"\\ns',\n",
       "  u\"s = 'abc\\\\ndef\\\\nghi'\\ns\",\n",
       "  u'print s',\n",
       "  u\"s = 'abc\\ndef\\nghi'\",\n",
       "  u\"# triple quoted string\\ns = '''abc\\ndef\\nghi'''\",\n",
       "  u\"# triple quoted string\\ns = '''abc\\ndef\\nghi'''\\ns\",\n",
       "  u's = \"For a newline, use \\\\n\"\\nprint s',\n",
       "  u's = \"For a newline, use \\\\\\\\n\"\\nprint s',\n",
       "  u's = r\"For a newline, use \\\\n\" # raw string\\nprint s',\n",
       "  u\"path = 'c:\\\\abc\\\\def\\\\ghi'\\nprint path\",\n",
       "  u\"path = r'c:\\\\abc\\\\def\\\\ghi'\\nprint path\",\n",
       "  u\"s = 'abc'\\nlen(s)\",\n",
       "  u\"s = '\\u4e0a\\u6d77'\\nlen(s)\",\n",
       "  u'print s[0]',\n",
       "  u'print s[0] + s[1]',\n",
       "  u'print s[0] + s[1] + s[2]',\n",
       "  u\"s = u'\\u4e0a\\u6d77'\\nlen(s)\",\n",
       "  u'# Unicode string -- we deal with characters, not bytes',\n",
       "  u'type(s)',\n",
       "  u's',\n",
       "  u\"s = 'abcdefghijklmnopqrstuvwxyz'\\nlen(s)\",\n",
       "  u\"s.index('j')\",\n",
       "  u's[9]',\n",
       "  u\"s.index('jkl')\",\n",
       "  u\"s.index('1')\",\n",
       "  u\"s.find('b')\",\n",
       "  u\"s.find('!')\",\n",
       "  u\"'j' in s\",\n",
       "  u\"'!' in s\",\n",
       "  u'name = \\'Reuven\\'\\nprint \"Hello, \" + name + \".  How are you?\"',\n",
       "  u\"s = 'Hello, {0}.  How are you?'\\nprint s.format(name)\",\n",
       "  u\"s = 'Hello, {0}.  How are you, {0}?'\\nprint s.format(name)\",\n",
       "  u'x = \\'abc\\'\\ny = \\'def\\'\\nprint \"The value of x is {0}, and y is {1}\".format(x,y)',\n",
       "  u'x = 10\\ny = 20.5\\nprint \"The value of x is {0}, and y is {1}\".format(x,y)',\n",
       "  u'print \"The value of x is \" + x',\n",
       "  u\"s = '123'\\nint(s)\",\n",
       "  u'x = 10\\nstr(x)',\n",
       "  u'print \"The value of x is \" + str(x)',\n",
       "  u'print \"The value of x is {0}\".format(x)',\n",
       "  u'print \"The value of x is {}\".format(x)',\n",
       "  u'x = \\'abc\\'\\ny = \\'def\\'\\nz = \\'ghi\\'\\nprint \"The values are {}, {}, and {}\".format(x,y,z)',\n",
       "  u'x = \\'abc\\'\\ny = \\'def\\'\\nz = \\'ghi\\'\\nprint \"The values are {0}, {1}, and {2}\".format(x,y,z)',\n",
       "  u'x = \\'abc\\'\\ny = \\'def\\'\\nz = \\'ghi\\'\\nprint \"The values are {2}, {0}, and {1}\".format(x,y,z)',\n",
       "  u'x = None\\nif x is None:\\n    print \"It is None!\"',\n",
       "  u'x = 100\\ny = 100\\nx == y',\n",
       "  u'x is y',\n",
       "  u'x = 1000\\ny = 1000\\nx == y',\n",
       "  u'x is y',\n",
       "  u'5 * 3',\n",
       "  u\"'a' * 3\",\n",
       "  u\"x = 'a' * 5\\ny = 'a' * 5\\n\\nx == y\",\n",
       "  u'x is y',\n",
       "  u\"x = 'a' * 1000\\ny = 'a' * 1000\\nx == y\",\n",
       "  u'x is y',\n",
       "  u'# intern() is run automatically for all short strings',\n",
       "  u\"# sequence -- str, list, tuple\\n\\ns = 'abc'\\nfor item in s:\\n    print item\",\n",
       "  u'item',\n",
       "  u\"# sequence -- str, list, tuple\\n\\ns = 'abc'\\nfor item in s:\\n    print item,\",\n",
       "  u'index = 0\\nfor item in s:\\n    print \"{0}: {1}\".format(index, item)\\n    index += 1',\n",
       "  u'for index, item in enumerate(s):\\n    print \"{0}: {1}\".format(index, item)',\n",
       "  u'for index, item in enumerate(s, 10):\\n    print \"{0}: {1}\".format(index, item)',\n",
       "  u'for i in range(5):\\n    print \"Hello!\"',\n",
       "  u'range(5)',\n",
       "  u'# for i in xrange(1000000000000000000):\\n#     print \"Hello!\"',\n",
       "  u'x = 5\\nwhile x > 0:\\n    print x\\n    x -= 1',\n",
       "  u'for i in range(10):\\n    if i == 7:\\n        break\\n    print i',\n",
       "  u'for i in range(10):\\n    if i == 7:\\n        continue\\n    print i',\n",
       "  u'while True:\\n    x = raw_input(\"Enter a number:\")\\n    if int(x) == 5:\\n        print \"You guessed right!\"\\n        break',\n",
       "  u'while True:\\n    x = raw_input(\"Enter a number:\")\\n    if int(x) == 5:\\n        print \"You guessed right!\"\\n        break',\n",
       "  u\"s = 'abcde'\\nlook_for = 'd'\\n\\nlook_for in s\",\n",
       "  u's = \\'abcde\\'\\nlook_for = \\'d\\'\\n\\nfor letter in s:\\n    if look_for == letter:\\n        print \"Found it!\"\\n        ',\n",
       "  u's = \\'abcde\\'\\nlook_for = \\'f\\'\\n\\nfor letter in s:\\n    if look_for == letter:\\n        print \"Found it!\"\\n        ',\n",
       "  u's = \\'abcde\\'\\nlook_for = \\'f\\'\\nfound_it = False\\n\\nfor letter in s:\\n    if look_for == letter:\\n        print \"Found it!\"\\n        found_it = True\\n        \\nif not found_it:\\n    print \"Did not find it\"\\n        ',\n",
       "  u's = \\'abcde\\'\\nlook_for = \\'f\\'\\nfound_it = False\\n\\nfor letter in s:\\n    if look_for == letter:\\n        print \"Found it!\"\\n        found_it = True\\n        break\\n        \\nif not found_it:\\n    print \"Did not find it\"\\n        ',\n",
       "  u's = \\'abcde\\'\\nlook_for = \\'f\\'\\n\\nfor letter in s:\\n    if look_for == letter:\\n        print \"Found it!\"\\n        break\\nelse:\\n    print \"Did not find it\"\\n        ',\n",
       "  u's = \\'abcde\\'\\nlook_for = \\'d\\'\\n\\nfor letter in s:\\n    if look_for == letter:\\n        print \"Found it!\"\\n        break\\nelse:\\n    print \"Did not find it\"\\n        ',\n",
       "  u'mylist = [10, 20, 30]\\ntype(mylist)',\n",
       "  u\"mylist = ['a', 'b', 'c']\\ntype(mylist)\",\n",
       "  u\"mylist = [10, 20, 'a', 'b']\\ntype(mylist)\",\n",
       "  u'len(list)',\n",
       "  u'len(mylist)',\n",
       "  u'mylist = [10, 20, 30]\\nbiglist = [mylist, mylist, mylist]\\n\\nprint biglist',\n",
       "  u'len(biglist)',\n",
       "  u'mylist[0]',\n",
       "  u\"mylist[0] = '!'\",\n",
       "  u'# lists are mutable!  They can be changed!',\n",
       "  u'mylist',\n",
       "  u'biglist',\n",
       "  u'x = 10\\ny = x\\n\\nx = 20\\nprint y',\n",
       "  u'x = [10, 20, 30]\\ny = x\\n\\nx = [40, 50, 60]\\nprint y',\n",
       "  u\"x = [10, 20, 30]\\ny = x\\n\\nx[2] = 'hello'\\nprint y\",\n",
       "  u'mylist = [10, 20, 30]\\nmylist.append(40)\\nmylist',\n",
       "  u'mylist.append([1,2,3])\\nmylist',\n",
       "  u'mylist.append(mylist)\\nmylist',\n",
       "  u'mylist[-1]',\n",
       "  u'del(mylist)',\n",
       "  u'mylist = [10, 20, 30]\\nmylist += [40, 50, 60]\\nmylist',\n",
       "  u\"mylist += 'abc'\\nmylist\",\n",
       "  u\"mylist.append('abc')\\nmylist\",\n",
       "  u\"s = 'a,b,c'\\ns.split(',')\",\n",
       "  u\"s = 'this is a bunch of words'\\ns.split()\",\n",
       "  u\"s = 'this is a bunch of words'\\ns.split(' ')\",\n",
       "  u\"s = 'this     is a     bunch of words'\\ns.split(' ')\",\n",
       "  u\"s = 'this     is a     bunch of words'\\ns.split()\",\n",
       "  u\"mylist = ['a', 'b', 'c']\\n','.join(mylist)\",\n",
       "  u\"','.join([10, 20, 30])\",\n",
       "  u\"','.join('abc')\",\n",
       "  u'# 2 -- couple\\n# 3 -- triple\\n# 4 -- quadruple\\n\\n# n-uple   tuple\\n\\nt = (10, 20, 30)\\ntype(t)',\n",
       "  u't = (10, 20)\\ntype(t)',\n",
       "  u't = (10)\\ntype(t)',\n",
       "  u't = ()\\ntype(t)',\n",
       "  u'8 + 3 * 2',\n",
       "  u'(8 + 3) * 2',\n",
       "  u't = (10,)\\ntype(t)',\n",
       "  u'(10,) * 3',\n",
       "  u't = 10,20,30\\ntype(t)',\n",
       "  u't',\n",
       "  u't[0]',\n",
       "  u't[1]',\n",
       "  u't[-1]',\n",
       "  u'10 i t',\n",
       "  u'10 i t',\n",
       "  u'10 in t',\n",
       "  u'100 in t',\n",
       "  u't = ((10, 20, 30), (40, 50, 60))\\nt',\n",
       "  u'10 in t',\n",
       "  u'10 in t[0]',\n",
       "  u\"t[0] = '!'\",\n",
       "  u't = ([10, 20, 30], [40, 50, 60])\\nt',\n",
       "  u\"t[0] = 'hello'\",\n",
       "  u't[0].append(555)\\nt',\n",
       "  u't[0] += [100, 200, 300]',\n",
       "  u't',\n",
       "  u\"int('5')\",\n",
       "  u'str(5)',\n",
       "  u'str([1,2,3])',\n",
       "  u'x = [10, 20, 30]\\nprint \"The value of x is {}\".format(x)',\n",
       "  u\"s = 'abc'\\nlist(s)\",\n",
       "  u'tuple(s)',\n",
       "  u'mylist = [10, 20, 30]\\ntuple(mylist)',\n",
       "  u'mylist(t)',\n",
       "  u'list(t)',\n",
       "  u'mylist = [10, 30, 20, 5, 15]\\nmylist.sort()',\n",
       "  u'mylist',\n",
       "  u'mylist = mylist.sort()',\n",
       "  u'type(mylist)',\n",
       "  u\"mylist = [10, 'a', 5, -3, 'A', 'b', 'Z', 2.5]\\nmylist.sort()\\nmylist\",\n",
       "  u\"mylist = [10, 'a', 5, -3, 'A', 'b', 'Z', 2.5, len, str, int, float]\\nmylist.sort()\\nmylist\",\n",
       "  u'd = {}\\ntype(d)',\n",
       "  u'len(d)',\n",
       "  u\"d['a'] = 1\\nd['b'] = 2\\nd['c'] = 3\\nlen(d)\",\n",
       "  u'print d',\n",
       "  u\"hash('a')\",\n",
       "  u\"hash('a') % 8\",\n",
       "  u\"hash('b') % 8\",\n",
       "  u\"hash('c') % 8\",\n",
       "  u'print d',\n",
       "  u\"hash('i') % 8\",\n",
       "  u\"d['i'] = 4\\nprint d\",\n",
       "  u\"d = {}\\nd['i'] = 4\\nd['a'] = 1\\nd['b'] = 2\\nd['c'] = 3\\nprint d\",\n",
       "  u\"class = {'city':'Shanghai', 'country':'China',\\n        'topic':'Python'}\\n\\nclass['topic']\",\n",
       "  u\"course = {'city':'Shanghai', 'country':'China',\\n        'topic':'Python'}\\n\\ncourse['topic']\",\n",
       "  u\"x = 100\\ny = [10, 20, 30]\\nz = {'a':1, 'b':2}\\nglobals()\"],\n",
       " 'Out': {6: 'Reuven',\n",
       "  7: str,\n",
       "  9: int,\n",
       "  10: 2,\n",
       "  11: '11',\n",
       "  15: 'someone else',\n",
       "  20: NoneType,\n",
       "  23: bool,\n",
       "  24: bool,\n",
       "  25: True,\n",
       "  26: False,\n",
       "  30: int,\n",
       "  31: 9223372036854775807,\n",
       "  33: 922337203685477580700000L,\n",
       "  34: long,\n",
       "  35: 81,\n",
       "  36: '123123',\n",
       "  37: 123,\n",
       "  38: 246,\n",
       "  39: '123',\n",
       "  40: 83,\n",
       "  41: 291,\n",
       "  42: 1371,\n",
       "  43: '0x7b',\n",
       "  44: 123,\n",
       "  45: '0b1111011',\n",
       "  46: '0173',\n",
       "  47: 123,\n",
       "  48: 291,\n",
       "  49: 13,\n",
       "  50: 83,\n",
       "  51: 83,\n",
       "  52: 15,\n",
       "  53: 5,\n",
       "  54: 50,\n",
       "  55: 2,\n",
       "  56: 3,\n",
       "  57: int,\n",
       "  58: float,\n",
       "  59: 3.3333333333333335,\n",
       "  60: 3.3333333333333335,\n",
       "  61: 3,\n",
       "  62: 3.3333333333333335,\n",
       "  63: 3.0,\n",
       "  64: 0.30000000000000004,\n",
       "  66: 124,\n",
       "  67: 124,\n",
       "  69: 125,\n",
       "  72: 'abc',\n",
       "  73: 'a',\n",
       "  75: 'ABC',\n",
       "  76: 'abc',\n",
       "  78: 'Reuven',\n",
       "  79: '                Reuven             ',\n",
       "  80: 'Reuven',\n",
       "  81: 6,\n",
       "  82: 26,\n",
       "  83: 'a',\n",
       "  84: str,\n",
       "  85: 'b',\n",
       "  86: 'c',\n",
       "  87: 'abcdefghijklmnopqrstuvwxyz',\n",
       "  88: 'z',\n",
       "  89: 'y',\n",
       "  90: 'klmnopqrst',\n",
       "  91: 'fghijklmno',\n",
       "  92: 'pqrstuvwxyz',\n",
       "  93: 'abcdefghij',\n",
       "  96: 'abcdefghijklmnopqrstuvwxyz',\n",
       "  97: 'fhjlnprt',\n",
       "  98: 'filor',\n",
       "  99: 'acegikmoqsuwy',\n",
       "  100: 'afkpuz',\n",
       "  101: 'zyxwvutsrqponmlkjihgfedcba',\n",
       "  103: 'abc',\n",
       "  104: 'abc',\n",
       "  105: 'abc\\ndef\\nghi',\n",
       "  109: 'abc\\ndef\\nghi',\n",
       "  115: 3,\n",
       "  116: 6,\n",
       "  120: 2,\n",
       "  122: unicode,\n",
       "  123: u'\\u4e0a\\u6d77',\n",
       "  124: 26,\n",
       "  125: 9,\n",
       "  126: 'j',\n",
       "  127: 9,\n",
       "  129: 1,\n",
       "  130: -1,\n",
       "  131: True,\n",
       "  132: False,\n",
       "  139: 123,\n",
       "  140: '10',\n",
       "  148: True,\n",
       "  149: True,\n",
       "  150: True,\n",
       "  151: False,\n",
       "  152: 15,\n",
       "  153: 'aaa',\n",
       "  154: True,\n",
       "  155: True,\n",
       "  156: True,\n",
       "  157: False,\n",
       "  160: 'c',\n",
       "  166: [0, 1, 2, 3, 4],\n",
       "  173: True,\n",
       "  180: list,\n",
       "  181: list,\n",
       "  182: list,\n",
       "  184: 4,\n",
       "  186: 3,\n",
       "  187: 10,\n",
       "  190: ['!', 20, 30],\n",
       "  191: [['!', 20, 30], ['!', 20, 30], ['!', 20, 30]],\n",
       "  195: [10, 20, 30, 40, [1, 2, 3], [...]],\n",
       "  196: [10, 20, 30, 40, [1, 2, 3], [...]],\n",
       "  197: [10, 20, 30, 40, [1, 2, 3], [...]],\n",
       "  198: [10, 20, 30, 40, [1, 2, 3], [...]],\n",
       "  200: [10, 20, 30, 40, 50, 60, 'a', 'b', 'c', 'abc'],\n",
       "  201: [10, 20, 30, 40, 50, 60, 'a', 'b', 'c', 'abc'],\n",
       "  202: [10, 20, 30, 40, 50, 60, 'a', 'b', 'c', 'abc'],\n",
       "  203: ['a', 'b', 'c'],\n",
       "  204: ['this', 'is', 'a', 'bunch', 'of', 'words'],\n",
       "  205: ['this', 'is', 'a', 'bunch', 'of', 'words'],\n",
       "  206: ['this',\n",
       "   '',\n",
       "   '',\n",
       "   '',\n",
       "   '',\n",
       "   'is',\n",
       "   'a',\n",
       "   '',\n",
       "   '',\n",
       "   '',\n",
       "   '',\n",
       "   'bunch',\n",
       "   'of',\n",
       "   'words'],\n",
       "  207: ['this', 'is', 'a', 'bunch', 'of', 'words'],\n",
       "  208: 'a,b,c',\n",
       "  210: 'a,b,c',\n",
       "  211: tuple,\n",
       "  212: tuple,\n",
       "  213: int,\n",
       "  214: tuple,\n",
       "  215: 14,\n",
       "  216: 22,\n",
       "  217: tuple,\n",
       "  218: (10, 10, 10),\n",
       "  219: tuple,\n",
       "  220: (10, 20, 30),\n",
       "  221: 10,\n",
       "  222: 20,\n",
       "  223: 30,\n",
       "  226: True,\n",
       "  227: False,\n",
       "  228: ((10, 20, 30), (40, 50, 60)),\n",
       "  229: False,\n",
       "  230: True,\n",
       "  232: ([10, 20, 30, 555, 100, 200, 300], [40, 50, 60]),\n",
       "  234: ([10, 20, 30, 555, 100, 200, 300], [40, 50, 60]),\n",
       "  236: ([10, 20, 30, 555, 100, 200, 300], [40, 50, 60]),\n",
       "  237: 5,\n",
       "  238: '5',\n",
       "  239: '[1, 2, 3]',\n",
       "  241: ['a', 'b', 'c'],\n",
       "  242: ('a', 'b', 'c'),\n",
       "  243: (10, 20, 30),\n",
       "  245: [[10, 20, 30, 555, 100, 200, 300], [40, 50, 60]],\n",
       "  247: [5, 10, 15, 20, 30],\n",
       "  249: NoneType,\n",
       "  250: [-3, 2.5, 5, 10, 'A', 'Z', 'a', 'b'],\n",
       "  251: [-3, 2.5, 5, 10, <function len>, 'A', 'Z', 'a', 'b', float, int, str],\n",
       "  252: dict,\n",
       "  253: 0,\n",
       "  254: 3,\n",
       "  256: 12416037344,\n",
       "  257: 0,\n",
       "  258: 3,\n",
       "  259: 2,\n",
       "  261: 0,\n",
       "  265: 'Python'},\n",
       " '_': 'Python',\n",
       " '_10': 2,\n",
       " '_100': 'afkpuz',\n",
       " '_101': 'zyxwvutsrqponmlkjihgfedcba',\n",
       " '_103': 'abc',\n",
       " '_104': 'abc',\n",
       " '_105': 'abc\\ndef\\nghi',\n",
       " '_109': 'abc\\ndef\\nghi',\n",
       " '_11': '11',\n",
       " '_115': 3,\n",
       " '_116': 6,\n",
       " '_120': 2,\n",
       " '_122': unicode,\n",
       " '_123': u'\\u4e0a\\u6d77',\n",
       " '_124': 26,\n",
       " '_125': 9,\n",
       " '_126': 'j',\n",
       " '_127': 9,\n",
       " '_129': 1,\n",
       " '_130': -1,\n",
       " '_131': True,\n",
       " '_132': False,\n",
       " '_139': 123,\n",
       " '_140': '10',\n",
       " '_148': True,\n",
       " '_149': True,\n",
       " '_15': 'someone else',\n",
       " '_150': True,\n",
       " '_151': False,\n",
       " '_152': 15,\n",
       " '_153': 'aaa',\n",
       " '_154': True,\n",
       " '_155': True,\n",
       " '_156': True,\n",
       " '_157': False,\n",
       " '_160': 'c',\n",
       " '_166': [0, 1, 2, 3, 4],\n",
       " '_173': True,\n",
       " '_180': list,\n",
       " '_181': list,\n",
       " '_182': list,\n",
       " '_184': 4,\n",
       " '_186': 3,\n",
       " '_187': 10,\n",
       " '_190': ['!', 20, 30],\n",
       " '_191': [['!', 20, 30], ['!', 20, 30], ['!', 20, 30]],\n",
       " '_195': [10, 20, 30, 40, [1, 2, 3], [...]],\n",
       " '_196': [10, 20, 30, 40, [1, 2, 3], [...]],\n",
       " '_197': [10, 20, 30, 40, [1, 2, 3], [...]],\n",
       " '_198': [10, 20, 30, 40, [1, 2, 3], [...]],\n",
       " '_20': NoneType,\n",
       " '_200': [10, 20, 30, 40, 50, 60, 'a', 'b', 'c', 'abc'],\n",
       " '_201': [10, 20, 30, 40, 50, 60, 'a', 'b', 'c', 'abc'],\n",
       " '_202': [10, 20, 30, 40, 50, 60, 'a', 'b', 'c', 'abc'],\n",
       " '_203': ['a', 'b', 'c'],\n",
       " '_204': ['this', 'is', 'a', 'bunch', 'of', 'words'],\n",
       " '_205': ['this', 'is', 'a', 'bunch', 'of', 'words'],\n",
       " '_206': ['this',\n",
       "  '',\n",
       "  '',\n",
       "  '',\n",
       "  '',\n",
       "  'is',\n",
       "  'a',\n",
       "  '',\n",
       "  '',\n",
       "  '',\n",
       "  '',\n",
       "  'bunch',\n",
       "  'of',\n",
       "  'words'],\n",
       " '_207': ['this', 'is', 'a', 'bunch', 'of', 'words'],\n",
       " '_208': 'a,b,c',\n",
       " '_210': 'a,b,c',\n",
       " '_211': tuple,\n",
       " '_212': tuple,\n",
       " '_213': int,\n",
       " '_214': tuple,\n",
       " '_215': 14,\n",
       " '_216': 22,\n",
       " '_217': tuple,\n",
       " '_218': (10, 10, 10),\n",
       " '_219': tuple,\n",
       " '_220': (10, 20, 30),\n",
       " '_221': 10,\n",
       " '_222': 20,\n",
       " '_223': 30,\n",
       " '_226': True,\n",
       " '_227': False,\n",
       " '_228': ((10, 20, 30), (40, 50, 60)),\n",
       " '_229': False,\n",
       " '_23': bool,\n",
       " '_230': True,\n",
       " '_232': ([10, 20, 30, 555, 100, 200, 300], [40, 50, 60]),\n",
       " '_234': ([10, 20, 30, 555, 100, 200, 300], [40, 50, 60]),\n",
       " '_236': ([10, 20, 30, 555, 100, 200, 300], [40, 50, 60]),\n",
       " '_237': 5,\n",
       " '_238': '5',\n",
       " '_239': '[1, 2, 3]',\n",
       " '_24': bool,\n",
       " '_241': ['a', 'b', 'c'],\n",
       " '_242': ('a', 'b', 'c'),\n",
       " '_243': (10, 20, 30),\n",
       " '_245': [[10, 20, 30, 555, 100, 200, 300], [40, 50, 60]],\n",
       " '_247': [5, 10, 15, 20, 30],\n",
       " '_249': NoneType,\n",
       " '_25': True,\n",
       " '_250': [-3, 2.5, 5, 10, 'A', 'Z', 'a', 'b'],\n",
       " '_251': [-3, 2.5, 5, 10, <function len>, 'A', 'Z', 'a', 'b', float, int, str],\n",
       " '_252': dict,\n",
       " '_253': 0,\n",
       " '_254': 3,\n",
       " '_256': 12416037344,\n",
       " '_257': 0,\n",
       " '_258': 3,\n",
       " '_259': 2,\n",
       " '_26': False,\n",
       " '_261': 0,\n",
       " '_265': 'Python',\n",
       " '_30': int,\n",
       " '_31': 9223372036854775807,\n",
       " '_33': 922337203685477580700000L,\n",
       " '_34': long,\n",
       " '_35': 81,\n",
       " '_36': '123123',\n",
       " '_37': 123,\n",
       " '_38': 246,\n",
       " '_39': '123',\n",
       " '_40': 83,\n",
       " '_41': 291,\n",
       " '_42': 1371,\n",
       " '_43': '0x7b',\n",
       " '_44': 123,\n",
       " '_45': '0b1111011',\n",
       " '_46': '0173',\n",
       " '_47': 123,\n",
       " '_48': 291,\n",
       " '_49': 13,\n",
       " '_50': 83,\n",
       " '_51': 83,\n",
       " '_52': 15,\n",
       " '_53': 5,\n",
       " '_54': 50,\n",
       " '_55': 2,\n",
       " '_56': 3,\n",
       " '_57': int,\n",
       " '_58': float,\n",
       " '_59': 3.3333333333333335,\n",
       " '_6': 'Reuven',\n",
       " '_60': 3.3333333333333335,\n",
       " '_61': 3,\n",
       " '_62': 3.3333333333333335,\n",
       " '_63': 3.0,\n",
       " '_64': 0.30000000000000004,\n",
       " '_66': 124,\n",
       " '_67': 124,\n",
       " '_69': 125,\n",
       " '_7': str,\n",
       " '_72': 'abc',\n",
       " '_73': 'a',\n",
       " '_75': 'ABC',\n",
       " '_76': 'abc',\n",
       " '_78': 'Reuven',\n",
       " '_79': '                Reuven             ',\n",
       " '_80': 'Reuven',\n",
       " '_81': 6,\n",
       " '_82': 26,\n",
       " '_83': 'a',\n",
       " '_84': str,\n",
       " '_85': 'b',\n",
       " '_86': 'c',\n",
       " '_87': 'abcdefghijklmnopqrstuvwxyz',\n",
       " '_88': 'z',\n",
       " '_89': 'y',\n",
       " '_9': int,\n",
       " '_90': 'klmnopqrst',\n",
       " '_91': 'fghijklmno',\n",
       " '_92': 'pqrstuvwxyz',\n",
       " '_93': 'abcdefghij',\n",
       " '_96': 'abcdefghijklmnopqrstuvwxyz',\n",
       " '_97': 'fhjlnprt',\n",
       " '_98': 'filor',\n",
       " '_99': 'acegikmoqsuwy',\n",
       " '__': 0,\n",
       " '___': 2,\n",
       " '__builtin__': <module '__builtin__' (built-in)>,\n",
       " '__builtins__': <module '__builtin__' (built-in)>,\n",
       " '__doc__': 'Automatically created module for IPython interactive environment',\n",
       " '__name__': '__main__',\n",
       " '__package__': None,\n",
       " '_dh': [u'/Users/reuven/Consulting/Courses/Python/Programs'],\n",
       " '_i': u\"course = {'city':'Shanghai', 'country':'China',\\n        'topic':'Python'}\\n\\ncourse['topic']\",\n",
       " '_i1': u'print \"Hello, world!\"',\n",
       " '_i10': u'1 + 1',\n",
       " '_i100': u's[::5]',\n",
       " '_i101': u's[::-1]',\n",
       " '_i102': u'# sequences - string, list, tuple',\n",
       " '_i103': u\"s = 'abc'\\ns\",\n",
       " '_i104': u's = \"abc\"\\ns',\n",
       " '_i105': u\"s = 'abc\\\\ndef\\\\nghi'\\ns\",\n",
       " '_i106': u'print s',\n",
       " '_i107': u\"s = 'abc\\ndef\\nghi'\",\n",
       " '_i108': u\"# triple quoted string\\ns = '''abc\\ndef\\nghi'''\",\n",
       " '_i109': u\"# triple quoted string\\ns = '''abc\\ndef\\nghi'''\\ns\",\n",
       " '_i11': u\"'1' + '1'\",\n",
       " '_i110': u's = \"For a newline, use \\\\n\"\\nprint s',\n",
       " '_i111': u's = \"For a newline, use \\\\\\\\n\"\\nprint s',\n",
       " '_i112': u's = r\"For a newline, use \\\\n\" # raw string\\nprint s',\n",
       " '_i113': u\"path = 'c:\\\\abc\\\\def\\\\ghi'\\nprint path\",\n",
       " '_i114': u\"path = r'c:\\\\abc\\\\def\\\\ghi'\\nprint path\",\n",
       " '_i115': u\"s = 'abc'\\nlen(s)\",\n",
       " '_i116': u\"s = '\\u4e0a\\u6d77'\\nlen(s)\",\n",
       " '_i117': u'print s[0]',\n",
       " '_i118': u'print s[0] + s[1]',\n",
       " '_i119': u'print s[0] + s[1] + s[2]',\n",
       " '_i12': u\"1 + '1'\",\n",
       " '_i120': u\"s = u'\\u4e0a\\u6d77'\\nlen(s)\",\n",
       " '_i121': u'# Unicode string -- we deal with characters, not bytes',\n",
       " '_i122': u'type(s)',\n",
       " '_i123': u's',\n",
       " '_i124': u\"s = 'abcdefghijklmnopqrstuvwxyz'\\nlen(s)\",\n",
       " '_i125': u\"s.index('j')\",\n",
       " '_i126': u's[9]',\n",
       " '_i127': u\"s.index('jkl')\",\n",
       " '_i128': u\"s.index('1')\",\n",
       " '_i129': u\"s.find('b')\",\n",
       " '_i13': u'name = raw_input(\"Enter your name: \")\\nif name == \\'Reuven\\':\\n    print \"Hello, master!\"\\n    print \"It has been so long!\"\\nelse:\\n    print \"Hello, \" + name',\n",
       " '_i130': u\"s.find('!')\",\n",
       " '_i131': u\"'j' in s\",\n",
       " '_i132': u\"'!' in s\",\n",
       " '_i133': u'name = \\'Reuven\\'\\nprint \"Hello, \" + name + \".  How are you?\"',\n",
       " '_i134': u\"s = 'Hello, {0}.  How are you?'\\nprint s.format(name)\",\n",
       " '_i135': u\"s = 'Hello, {0}.  How are you, {0}?'\\nprint s.format(name)\",\n",
       " '_i136': u'x = \\'abc\\'\\ny = \\'def\\'\\nprint \"The value of x is {0}, and y is {1}\".format(x,y)',\n",
       " '_i137': u'x = 10\\ny = 20.5\\nprint \"The value of x is {0}, and y is {1}\".format(x,y)',\n",
       " '_i138': u'print \"The value of x is \" + x',\n",
       " '_i139': u\"s = '123'\\nint(s)\",\n",
       " '_i14': u'name = raw_input(\"Enter your name: \")\\nif name == \\'Reuven\\':\\n    print \"Hello, master!\"\\n    print \"It has been so long!\"\\nelse:\\n    print \"Hello, \" + name',\n",
       " '_i140': u'x = 10\\nstr(x)',\n",
       " '_i141': u'print \"The value of x is \" + str(x)',\n",
       " '_i142': u'print \"The value of x is {0}\".format(x)',\n",
       " '_i143': u'print \"The value of x is {}\".format(x)',\n",
       " '_i144': u'x = \\'abc\\'\\ny = \\'def\\'\\nz = \\'ghi\\'\\nprint \"The values are {}, {}, and {}\".format(x,y,z)',\n",
       " '_i145': u'x = \\'abc\\'\\ny = \\'def\\'\\nz = \\'ghi\\'\\nprint \"The values are {0}, {1}, and {2}\".format(x,y,z)',\n",
       " '_i146': u'x = \\'abc\\'\\ny = \\'def\\'\\nz = \\'ghi\\'\\nprint \"The values are {2}, {0}, and {1}\".format(x,y,z)',\n",
       " '_i147': u'x = None\\nif x is None:\\n    print \"It is None!\"',\n",
       " '_i148': u'x = 100\\ny = 100\\nx == y',\n",
       " '_i149': u'x is y',\n",
       " '_i15': u'name',\n",
       " '_i150': u'x = 1000\\ny = 1000\\nx == y',\n",
       " '_i151': u'x is y',\n",
       " '_i152': u'5 * 3',\n",
       " '_i153': u\"'a' * 3\",\n",
       " '_i154': u\"x = 'a' * 5\\ny = 'a' * 5\\n\\nx == y\",\n",
       " '_i155': u'x is y',\n",
       " '_i156': u\"x = 'a' * 1000\\ny = 'a' * 1000\\nx == y\",\n",
       " '_i157': u'x is y',\n",
       " '_i158': u'# intern() is run automatically for all short strings',\n",
       " '_i159': u\"# sequence -- str, list, tuple\\n\\ns = 'abc'\\nfor item in s:\\n    print item\",\n",
       " '_i16': u'if name != \\'someone else\\':\\n    print \"Oh, good!  I wouldn\\'t want someone else!\"',\n",
       " '_i160': u'item',\n",
       " '_i161': u\"# sequence -- str, list, tuple\\n\\ns = 'abc'\\nfor item in s:\\n    print item,\",\n",
       " '_i162': u'index = 0\\nfor item in s:\\n    print \"{0}: {1}\".format(index, item)\\n    index += 1',\n",
       " '_i163': u'for index, item in enumerate(s):\\n    print \"{0}: {1}\".format(index, item)',\n",
       " '_i164': u'for index, item in enumerate(s, 10):\\n    print \"{0}: {1}\".format(index, item)',\n",
       " '_i165': u'for i in range(5):\\n    print \"Hello!\"',\n",
       " '_i166': u'range(5)',\n",
       " '_i167': u'# for i in xrange(1000000000000000000):\\n#     print \"Hello!\"',\n",
       " '_i168': u'x = 5\\nwhile x > 0:\\n    print x\\n    x -= 1',\n",
       " '_i169': u'for i in range(10):\\n    if i == 7:\\n        break\\n    print i',\n",
       " '_i17': u'# && -- that is ugly so it\\'s not in Python!\\nif name == \\'a\\' and x == 5:\\n    print \"Yay!\"',\n",
       " '_i170': u'for i in range(10):\\n    if i == 7:\\n        continue\\n    print i',\n",
       " '_i171': u'while True:\\n    x = raw_input(\"Enter a number:\")\\n    if int(x) == 5:\\n        print \"You guessed right!\"\\n        break',\n",
       " '_i172': u'while True:\\n    x = raw_input(\"Enter a number:\")\\n    if int(x) == 5:\\n        print \"You guessed right!\"\\n        break',\n",
       " '_i173': u\"s = 'abcde'\\nlook_for = 'd'\\n\\nlook_for in s\",\n",
       " '_i174': u's = \\'abcde\\'\\nlook_for = \\'d\\'\\n\\nfor letter in s:\\n    if look_for == letter:\\n        print \"Found it!\"\\n        ',\n",
       " '_i175': u's = \\'abcde\\'\\nlook_for = \\'f\\'\\n\\nfor letter in s:\\n    if look_for == letter:\\n        print \"Found it!\"\\n        ',\n",
       " '_i176': u's = \\'abcde\\'\\nlook_for = \\'f\\'\\nfound_it = False\\n\\nfor letter in s:\\n    if look_for == letter:\\n        print \"Found it!\"\\n        found_it = True\\n        \\nif not found_it:\\n    print \"Did not find it\"\\n        ',\n",
       " '_i177': u's = \\'abcde\\'\\nlook_for = \\'f\\'\\nfound_it = False\\n\\nfor letter in s:\\n    if look_for == letter:\\n        print \"Found it!\"\\n        found_it = True\\n        break\\n        \\nif not found_it:\\n    print \"Did not find it\"\\n        ',\n",
       " '_i178': u's = \\'abcde\\'\\nlook_for = \\'f\\'\\n\\nfor letter in s:\\n    if look_for == letter:\\n        print \"Found it!\"\\n        break\\nelse:\\n    print \"Did not find it\"\\n        ',\n",
       " '_i179': u's = \\'abcde\\'\\nlook_for = \\'d\\'\\n\\nfor letter in s:\\n    if look_for == letter:\\n        print \"Found it!\"\\n        break\\nelse:\\n    print \"Did not find it\"\\n        ',\n",
       " '_i18': u'if name == \\'a\\' or x == 5:\\n    print \"Yay here, too!\"',\n",
       " '_i180': u'mylist = [10, 20, 30]\\ntype(mylist)',\n",
       " '_i181': u\"mylist = ['a', 'b', 'c']\\ntype(mylist)\",\n",
       " '_i182': u\"mylist = [10, 20, 'a', 'b']\\ntype(mylist)\",\n",
       " '_i183': u'len(list)',\n",
       " '_i184': u'len(mylist)',\n",
       " '_i185': u'mylist = [10, 20, 30]\\nbiglist = [mylist, mylist, mylist]\\n\\nprint biglist',\n",
       " '_i186': u'len(biglist)',\n",
       " '_i187': u'mylist[0]',\n",
       " '_i188': u\"mylist[0] = '!'\",\n",
       " '_i189': u'# lists are mutable!  They can be changed!',\n",
       " '_i19': u'x = None',\n",
       " '_i190': u'mylist',\n",
       " '_i191': u'biglist',\n",
       " '_i192': u'x = 10\\ny = x\\n\\nx = 20\\nprint y',\n",
       " '_i193': u'x = [10, 20, 30]\\ny = x\\n\\nx = [40, 50, 60]\\nprint y',\n",
       " '_i194': u\"x = [10, 20, 30]\\ny = x\\n\\nx[2] = 'hello'\\nprint y\",\n",
       " '_i195': u'mylist = [10, 20, 30]\\nmylist.append(40)\\nmylist',\n",
       " '_i196': u'mylist.append([1,2,3])\\nmylist',\n",
       " '_i197': u'mylist.append(mylist)\\nmylist',\n",
       " '_i198': u'mylist[-1]',\n",
       " '_i199': u'del(mylist)',\n",
       " '_i2': u'x = 5',\n",
       " '_i20': u'type(x)',\n",
       " '_i200': u'mylist = [10, 20, 30]\\nmylist += [40, 50, 60]\\nmylist',\n",
       " '_i201': u\"mylist += 'abc'\\nmylist\",\n",
       " '_i202': u\"mylist.append('abc')\\nmylist\",\n",
       " '_i203': u\"s = 'a,b,c'\\ns.split(',')\",\n",
       " '_i204': u\"s = 'this is a bunch of words'\\ns.split()\",\n",
       " '_i205': u\"s = 'this is a bunch of words'\\ns.split(' ')\",\n",
       " '_i206': u\"s = 'this     is a     bunch of words'\\ns.split(' ')\",\n",
       " '_i207': u\"s = 'this     is a     bunch of words'\\ns.split()\",\n",
       " '_i208': u\"mylist = ['a', 'b', 'c']\\n','.join(mylist)\",\n",
       " '_i209': u\"','.join([10, 20, 30])\",\n",
       " '_i21': u'if x == None:\\n    print \"I guess it is None!\"',\n",
       " '_i210': u\"','.join('abc')\",\n",
       " '_i211': u'# 2 -- couple\\n# 3 -- triple\\n# 4 -- quadruple\\n\\n# n-uple   tuple\\n\\nt = (10, 20, 30)\\ntype(t)',\n",
       " '_i212': u't = (10, 20)\\ntype(t)',\n",
       " '_i213': u't = (10)\\ntype(t)',\n",
       " '_i214': u't = ()\\ntype(t)',\n",
       " '_i215': u'8 + 3 * 2',\n",
       " '_i216': u'(8 + 3) * 2',\n",
       " '_i217': u't = (10,)\\ntype(t)',\n",
       " '_i218': u'(10,) * 3',\n",
       " '_i219': u't = 10,20,30\\ntype(t)',\n",
       " '_i22': u'if x is None:\\n    print \"It really is None\"',\n",
       " '_i220': u't',\n",
       " '_i221': u't[0]',\n",
       " '_i222': u't[1]',\n",
       " '_i223': u't[-1]',\n",
       " '_i224': u'10 i t',\n",
       " '_i225': u'10 i t',\n",
       " '_i226': u'10 in t',\n",
       " '_i227': u'100 in t',\n",
       " '_i228': u't = ((10, 20, 30), (40, 50, 60))\\nt',\n",
       " '_i229': u'10 in t',\n",
       " '_i23': u'x = True\\ntype(x)',\n",
       " '_i230': u'10 in t[0]',\n",
       " '_i231': u\"t[0] = '!'\",\n",
       " '_i232': u't = ([10, 20, 30], [40, 50, 60])\\nt',\n",
       " '_i233': u\"t[0] = 'hello'\",\n",
       " '_i234': u't[0].append(555)\\nt',\n",
       " '_i235': u't[0] += [100, 200, 300]',\n",
       " '_i236': u't',\n",
       " '_i237': u\"int('5')\",\n",
       " '_i238': u'str(5)',\n",
       " '_i239': u'str([1,2,3])',\n",
       " '_i24': u'y = False\\ntype(y)',\n",
       " '_i240': u'x = [10, 20, 30]\\nprint \"The value of x is {}\".format(x)',\n",
       " '_i241': u\"s = 'abc'\\nlist(s)\",\n",
       " '_i242': u'tuple(s)',\n",
       " '_i243': u'mylist = [10, 20, 30]\\ntuple(mylist)',\n",
       " '_i244': u'mylist(t)',\n",
       " '_i245': u'list(t)',\n",
       " '_i246': u'mylist = [10, 30, 20, 5, 15]\\nmylist.sort()',\n",
       " '_i247': u'mylist',\n",
       " '_i248': u'mylist = mylist.sort()',\n",
       " '_i249': u'type(mylist)',\n",
       " '_i25': u'5 == 5',\n",
       " '_i250': u\"mylist = [10, 'a', 5, -3, 'A', 'b', 'Z', 2.5]\\nmylist.sort()\\nmylist\",\n",
       " '_i251': u\"mylist = [10, 'a', 5, -3, 'A', 'b', 'Z', 2.5, len, str, int, float]\\nmylist.sort()\\nmylist\",\n",
       " '_i252': u'd = {}\\ntype(d)',\n",
       " '_i253': u'len(d)',\n",
       " '_i254': u\"d['a'] = 1\\nd['b'] = 2\\nd['c'] = 3\\nlen(d)\",\n",
       " '_i255': u'print d',\n",
       " '_i256': u\"hash('a')\",\n",
       " '_i257': u\"hash('a') % 8\",\n",
       " '_i258': u\"hash('b') % 8\",\n",
       " '_i259': u\"hash('c') % 8\",\n",
       " '_i26': u'5 == 6',\n",
       " '_i260': u'print d',\n",
       " '_i261': u\"hash('i') % 8\",\n",
       " '_i262': u\"d['i'] = 4\\nprint d\",\n",
       " '_i263': u\"d = {}\\nd['i'] = 4\\nd['a'] = 1\\nd['b'] = 2\\nd['c'] = 3\\nprint d\",\n",
       " '_i264': u\"class = {'city':'Shanghai', 'country':'China',\\n        'topic':'Python'}\\n\\nclass['topic']\",\n",
       " '_i265': u\"course = {'city':'Shanghai', 'country':'China',\\n        'topic':'Python'}\\n\\ncourse['topic']\",\n",
       " '_i266': u\"x = 100\\ny = [10, 20, 30]\\nz = {'a':1, 'b':2}\\nglobals()\",\n",
       " '_i27': u'x = \\'hello\\'\\nif x:\\n    print \"It\\'s True\"\\nelse:\\n    print \"It\\'s False\"',\n",
       " '_i28': u'name = raw_input(\"Enter your name: \")\\nif name == \\'\\':\\n    print \"I wanted a name!\"\\nelse:\\n    print \"Hello, \" + name',\n",
       " '_i29': u'name = raw_input(\"Enter your name: \")\\nif name == \\'\\':\\n    print \"I wanted a name!\"\\nelse:\\n    print \"Hello, \" + name',\n",
       " '_i3': u\"y = 'this is a string'\",\n",
       " '_i30': u'x = 10\\ntype(x)',\n",
       " '_i31': u'import sys\\nsys.maxint',\n",
       " '_i32': u'x = sys.maxint\\nx = x * 100000',\n",
       " '_i33': u'x',\n",
       " '_i34': u'type(x)',\n",
       " '_i35': u'3 ** 4',\n",
       " '_i36': u\"s = '123'\\ns + s\",\n",
       " '_i37': u'int(s)',\n",
       " '_i38': u'int(s) + int(s)',\n",
       " '_i39': u's',\n",
       " '_i4': u'name = raw_input(\"Enter your name: \")',\n",
       " '_i40': u'int(s, 8)',\n",
       " '_i41': u'int(s, 16)',\n",
       " '_i42': u'int(s, 36)',\n",
       " '_i43': u'x = 123\\nhex(x)',\n",
       " '_i44': u'0x7b',\n",
       " '_i45': u'bin(x)',\n",
       " '_i46': u'oct(x)',\n",
       " '_i47': u'0173',\n",
       " '_i48': u'0x123',\n",
       " '_i49': u'0b1101',\n",
       " '_i5': u'print name',\n",
       " '_i50': u'0O123',\n",
       " '_i51': u'0o123',\n",
       " '_i52': u'10 + 5',\n",
       " '_i53': u'10 - 5',\n",
       " '_i54': u'10 * 5',\n",
       " '_i55': u'10 / 5',\n",
       " '_i56': u'10 / 3',\n",
       " '_i57': u'type(1)',\n",
       " '_i58': u'type(1.0)',\n",
       " '_i59': u'10.0 / 3.0',\n",
       " '_i6': u'name',\n",
       " '_i60': u'10.0 / 3',\n",
       " '_i61': u'10 / 3',\n",
       " '_i62': u'float(10) / 3',\n",
       " '_i63': u'float(10 / 3)',\n",
       " '_i64': u'0.1 + 0.2',\n",
       " '_i65': u'x = 5\\nx++',\n",
       " '_i66': u'x += 1\\nx',\n",
       " '_i67': u'x',\n",
       " '_i68': u'x += 1',\n",
       " '_i69': u'x',\n",
       " '_i7': u'type(name)',\n",
       " '_i70': u\"s = 'abc'\",\n",
       " '_i71': u'# immutable -- cannot change them!',\n",
       " '_i72': u's',\n",
       " '_i73': u's[0]',\n",
       " '_i74': u\"s[0] = '!'\",\n",
       " '_i75': u's.upper()',\n",
       " '_i76': u's',\n",
       " '_i77': u'name = raw_input(\"Enter your name: \")\\nprint name',\n",
       " '_i78': u'name.strip()',\n",
       " '_i79': u'name',\n",
       " '_i8': u'name = 5',\n",
       " '_i80': u'name = name.strip()\\nname',\n",
       " '_i81': u'len(name)',\n",
       " '_i82': u\"s = 'abcdefghijklmnopqrstuvwxyz'\\nlen(s)\",\n",
       " '_i83': u's[0]',\n",
       " '_i84': u'type(s[0])',\n",
       " '_i85': u's[1]',\n",
       " '_i86': u's[2]',\n",
       " '_i87': u's',\n",
       " '_i88': u's[-1]',\n",
       " '_i89': u's[-2]',\n",
       " '_i9': u'type(name)',\n",
       " '_i90': u's[10:20]',\n",
       " '_i91': u's[5:15]',\n",
       " '_i92': u's[15:]  # from index 15 to the end',\n",
       " '_i93': u's[:10]  # up to, and not including, index 10',\n",
       " '_i94': u'# slice',\n",
       " '_i95': u's[200]',\n",
       " '_i96': u's[:200]',\n",
       " '_i97': u's[5:20:2]',\n",
       " '_i98': u's[5:20:3]',\n",
       " '_i99': u's[::2]',\n",
       " '_ih': ['',\n",
       "  u'print \"Hello, world!\"',\n",
       "  u'x = 5',\n",
       "  u\"y = 'this is a string'\",\n",
       "  u'name = raw_input(\"Enter your name: \")',\n",
       "  u'print name',\n",
       "  u'name',\n",
       "  u'type(name)',\n",
       "  u'name = 5',\n",
       "  u'type(name)',\n",
       "  u'1 + 1',\n",
       "  u\"'1' + '1'\",\n",
       "  u\"1 + '1'\",\n",
       "  u'name = raw_input(\"Enter your name: \")\\nif name == \\'Reuven\\':\\n    print \"Hello, master!\"\\n    print \"It has been so long!\"\\nelse:\\n    print \"Hello, \" + name',\n",
       "  u'name = raw_input(\"Enter your name: \")\\nif name == \\'Reuven\\':\\n    print \"Hello, master!\"\\n    print \"It has been so long!\"\\nelse:\\n    print \"Hello, \" + name',\n",
       "  u'name',\n",
       "  u'if name != \\'someone else\\':\\n    print \"Oh, good!  I wouldn\\'t want someone else!\"',\n",
       "  u'# && -- that is ugly so it\\'s not in Python!\\nif name == \\'a\\' and x == 5:\\n    print \"Yay!\"',\n",
       "  u'if name == \\'a\\' or x == 5:\\n    print \"Yay here, too!\"',\n",
       "  u'x = None',\n",
       "  u'type(x)',\n",
       "  u'if x == None:\\n    print \"I guess it is None!\"',\n",
       "  u'if x is None:\\n    print \"It really is None\"',\n",
       "  u'x = True\\ntype(x)',\n",
       "  u'y = False\\ntype(y)',\n",
       "  u'5 == 5',\n",
       "  u'5 == 6',\n",
       "  u'x = \\'hello\\'\\nif x:\\n    print \"It\\'s True\"\\nelse:\\n    print \"It\\'s False\"',\n",
       "  u'name = raw_input(\"Enter your name: \")\\nif name == \\'\\':\\n    print \"I wanted a name!\"\\nelse:\\n    print \"Hello, \" + name',\n",
       "  u'name = raw_input(\"Enter your name: \")\\nif name == \\'\\':\\n    print \"I wanted a name!\"\\nelse:\\n    print \"Hello, \" + name',\n",
       "  u'x = 10\\ntype(x)',\n",
       "  u'import sys\\nsys.maxint',\n",
       "  u'x = sys.maxint\\nx = x * 100000',\n",
       "  u'x',\n",
       "  u'type(x)',\n",
       "  u'3 ** 4',\n",
       "  u\"s = '123'\\ns + s\",\n",
       "  u'int(s)',\n",
       "  u'int(s) + int(s)',\n",
       "  u's',\n",
       "  u'int(s, 8)',\n",
       "  u'int(s, 16)',\n",
       "  u'int(s, 36)',\n",
       "  u'x = 123\\nhex(x)',\n",
       "  u'0x7b',\n",
       "  u'bin(x)',\n",
       "  u'oct(x)',\n",
       "  u'0173',\n",
       "  u'0x123',\n",
       "  u'0b1101',\n",
       "  u'0O123',\n",
       "  u'0o123',\n",
       "  u'10 + 5',\n",
       "  u'10 - 5',\n",
       "  u'10 * 5',\n",
       "  u'10 / 5',\n",
       "  u'10 / 3',\n",
       "  u'type(1)',\n",
       "  u'type(1.0)',\n",
       "  u'10.0 / 3.0',\n",
       "  u'10.0 / 3',\n",
       "  u'10 / 3',\n",
       "  u'float(10) / 3',\n",
       "  u'float(10 / 3)',\n",
       "  u'0.1 + 0.2',\n",
       "  u'x = 5\\nx++',\n",
       "  u'x += 1\\nx',\n",
       "  u'x',\n",
       "  u'x += 1',\n",
       "  u'x',\n",
       "  u\"s = 'abc'\",\n",
       "  u'# immutable -- cannot change them!',\n",
       "  u's',\n",
       "  u's[0]',\n",
       "  u\"s[0] = '!'\",\n",
       "  u's.upper()',\n",
       "  u's',\n",
       "  u'name = raw_input(\"Enter your name: \")\\nprint name',\n",
       "  u'name.strip()',\n",
       "  u'name',\n",
       "  u'name = name.strip()\\nname',\n",
       "  u'len(name)',\n",
       "  u\"s = 'abcdefghijklmnopqrstuvwxyz'\\nlen(s)\",\n",
       "  u's[0]',\n",
       "  u'type(s[0])',\n",
       "  u's[1]',\n",
       "  u's[2]',\n",
       "  u's',\n",
       "  u's[-1]',\n",
       "  u's[-2]',\n",
       "  u's[10:20]',\n",
       "  u's[5:15]',\n",
       "  u's[15:]  # from index 15 to the end',\n",
       "  u's[:10]  # up to, and not including, index 10',\n",
       "  u'# slice',\n",
       "  u's[200]',\n",
       "  u's[:200]',\n",
       "  u's[5:20:2]',\n",
       "  u's[5:20:3]',\n",
       "  u's[::2]',\n",
       "  u's[::5]',\n",
       "  u's[::-1]',\n",
       "  u'# sequences - string, list, tuple',\n",
       "  u\"s = 'abc'\\ns\",\n",
       "  u's = \"abc\"\\ns',\n",
       "  u\"s = 'abc\\\\ndef\\\\nghi'\\ns\",\n",
       "  u'print s',\n",
       "  u\"s = 'abc\\ndef\\nghi'\",\n",
       "  u\"# triple quoted string\\ns = '''abc\\ndef\\nghi'''\",\n",
       "  u\"# triple quoted string\\ns = '''abc\\ndef\\nghi'''\\ns\",\n",
       "  u's = \"For a newline, use \\\\n\"\\nprint s',\n",
       "  u's = \"For a newline, use \\\\\\\\n\"\\nprint s',\n",
       "  u's = r\"For a newline, use \\\\n\" # raw string\\nprint s',\n",
       "  u\"path = 'c:\\\\abc\\\\def\\\\ghi'\\nprint path\",\n",
       "  u\"path = r'c:\\\\abc\\\\def\\\\ghi'\\nprint path\",\n",
       "  u\"s = 'abc'\\nlen(s)\",\n",
       "  u\"s = '\\u4e0a\\u6d77'\\nlen(s)\",\n",
       "  u'print s[0]',\n",
       "  u'print s[0] + s[1]',\n",
       "  u'print s[0] + s[1] + s[2]',\n",
       "  u\"s = u'\\u4e0a\\u6d77'\\nlen(s)\",\n",
       "  u'# Unicode string -- we deal with characters, not bytes',\n",
       "  u'type(s)',\n",
       "  u's',\n",
       "  u\"s = 'abcdefghijklmnopqrstuvwxyz'\\nlen(s)\",\n",
       "  u\"s.index('j')\",\n",
       "  u's[9]',\n",
       "  u\"s.index('jkl')\",\n",
       "  u\"s.index('1')\",\n",
       "  u\"s.find('b')\",\n",
       "  u\"s.find('!')\",\n",
       "  u\"'j' in s\",\n",
       "  u\"'!' in s\",\n",
       "  u'name = \\'Reuven\\'\\nprint \"Hello, \" + name + \".  How are you?\"',\n",
       "  u\"s = 'Hello, {0}.  How are you?'\\nprint s.format(name)\",\n",
       "  u\"s = 'Hello, {0}.  How are you, {0}?'\\nprint s.format(name)\",\n",
       "  u'x = \\'abc\\'\\ny = \\'def\\'\\nprint \"The value of x is {0}, and y is {1}\".format(x,y)',\n",
       "  u'x = 10\\ny = 20.5\\nprint \"The value of x is {0}, and y is {1}\".format(x,y)',\n",
       "  u'print \"The value of x is \" + x',\n",
       "  u\"s = '123'\\nint(s)\",\n",
       "  u'x = 10\\nstr(x)',\n",
       "  u'print \"The value of x is \" + str(x)',\n",
       "  u'print \"The value of x is {0}\".format(x)',\n",
       "  u'print \"The value of x is {}\".format(x)',\n",
       "  u'x = \\'abc\\'\\ny = \\'def\\'\\nz = \\'ghi\\'\\nprint \"The values are {}, {}, and {}\".format(x,y,z)',\n",
       "  u'x = \\'abc\\'\\ny = \\'def\\'\\nz = \\'ghi\\'\\nprint \"The values are {0}, {1}, and {2}\".format(x,y,z)',\n",
       "  u'x = \\'abc\\'\\ny = \\'def\\'\\nz = \\'ghi\\'\\nprint \"The values are {2}, {0}, and {1}\".format(x,y,z)',\n",
       "  u'x = None\\nif x is None:\\n    print \"It is None!\"',\n",
       "  u'x = 100\\ny = 100\\nx == y',\n",
       "  u'x is y',\n",
       "  u'x = 1000\\ny = 1000\\nx == y',\n",
       "  u'x is y',\n",
       "  u'5 * 3',\n",
       "  u\"'a' * 3\",\n",
       "  u\"x = 'a' * 5\\ny = 'a' * 5\\n\\nx == y\",\n",
       "  u'x is y',\n",
       "  u\"x = 'a' * 1000\\ny = 'a' * 1000\\nx == y\",\n",
       "  u'x is y',\n",
       "  u'# intern() is run automatically for all short strings',\n",
       "  u\"# sequence -- str, list, tuple\\n\\ns = 'abc'\\nfor item in s:\\n    print item\",\n",
       "  u'item',\n",
       "  u\"# sequence -- str, list, tuple\\n\\ns = 'abc'\\nfor item in s:\\n    print item,\",\n",
       "  u'index = 0\\nfor item in s:\\n    print \"{0}: {1}\".format(index, item)\\n    index += 1',\n",
       "  u'for index, item in enumerate(s):\\n    print \"{0}: {1}\".format(index, item)',\n",
       "  u'for index, item in enumerate(s, 10):\\n    print \"{0}: {1}\".format(index, item)',\n",
       "  u'for i in range(5):\\n    print \"Hello!\"',\n",
       "  u'range(5)',\n",
       "  u'# for i in xrange(1000000000000000000):\\n#     print \"Hello!\"',\n",
       "  u'x = 5\\nwhile x > 0:\\n    print x\\n    x -= 1',\n",
       "  u'for i in range(10):\\n    if i == 7:\\n        break\\n    print i',\n",
       "  u'for i in range(10):\\n    if i == 7:\\n        continue\\n    print i',\n",
       "  u'while True:\\n    x = raw_input(\"Enter a number:\")\\n    if int(x) == 5:\\n        print \"You guessed right!\"\\n        break',\n",
       "  u'while True:\\n    x = raw_input(\"Enter a number:\")\\n    if int(x) == 5:\\n        print \"You guessed right!\"\\n        break',\n",
       "  u\"s = 'abcde'\\nlook_for = 'd'\\n\\nlook_for in s\",\n",
       "  u's = \\'abcde\\'\\nlook_for = \\'d\\'\\n\\nfor letter in s:\\n    if look_for == letter:\\n        print \"Found it!\"\\n        ',\n",
       "  u's = \\'abcde\\'\\nlook_for = \\'f\\'\\n\\nfor letter in s:\\n    if look_for == letter:\\n        print \"Found it!\"\\n        ',\n",
       "  u's = \\'abcde\\'\\nlook_for = \\'f\\'\\nfound_it = False\\n\\nfor letter in s:\\n    if look_for == letter:\\n        print \"Found it!\"\\n        found_it = True\\n        \\nif not found_it:\\n    print \"Did not find it\"\\n        ',\n",
       "  u's = \\'abcde\\'\\nlook_for = \\'f\\'\\nfound_it = False\\n\\nfor letter in s:\\n    if look_for == letter:\\n        print \"Found it!\"\\n        found_it = True\\n        break\\n        \\nif not found_it:\\n    print \"Did not find it\"\\n        ',\n",
       "  u's = \\'abcde\\'\\nlook_for = \\'f\\'\\n\\nfor letter in s:\\n    if look_for == letter:\\n        print \"Found it!\"\\n        break\\nelse:\\n    print \"Did not find it\"\\n        ',\n",
       "  u's = \\'abcde\\'\\nlook_for = \\'d\\'\\n\\nfor letter in s:\\n    if look_for == letter:\\n        print \"Found it!\"\\n        break\\nelse:\\n    print \"Did not find it\"\\n        ',\n",
       "  u'mylist = [10, 20, 30]\\ntype(mylist)',\n",
       "  u\"mylist = ['a', 'b', 'c']\\ntype(mylist)\",\n",
       "  u\"mylist = [10, 20, 'a', 'b']\\ntype(mylist)\",\n",
       "  u'len(list)',\n",
       "  u'len(mylist)',\n",
       "  u'mylist = [10, 20, 30]\\nbiglist = [mylist, mylist, mylist]\\n\\nprint biglist',\n",
       "  u'len(biglist)',\n",
       "  u'mylist[0]',\n",
       "  u\"mylist[0] = '!'\",\n",
       "  u'# lists are mutable!  They can be changed!',\n",
       "  u'mylist',\n",
       "  u'biglist',\n",
       "  u'x = 10\\ny = x\\n\\nx = 20\\nprint y',\n",
       "  u'x = [10, 20, 30]\\ny = x\\n\\nx = [40, 50, 60]\\nprint y',\n",
       "  u\"x = [10, 20, 30]\\ny = x\\n\\nx[2] = 'hello'\\nprint y\",\n",
       "  u'mylist = [10, 20, 30]\\nmylist.append(40)\\nmylist',\n",
       "  u'mylist.append([1,2,3])\\nmylist',\n",
       "  u'mylist.append(mylist)\\nmylist',\n",
       "  u'mylist[-1]',\n",
       "  u'del(mylist)',\n",
       "  u'mylist = [10, 20, 30]\\nmylist += [40, 50, 60]\\nmylist',\n",
       "  u\"mylist += 'abc'\\nmylist\",\n",
       "  u\"mylist.append('abc')\\nmylist\",\n",
       "  u\"s = 'a,b,c'\\ns.split(',')\",\n",
       "  u\"s = 'this is a bunch of words'\\ns.split()\",\n",
       "  u\"s = 'this is a bunch of words'\\ns.split(' ')\",\n",
       "  u\"s = 'this     is a     bunch of words'\\ns.split(' ')\",\n",
       "  u\"s = 'this     is a     bunch of words'\\ns.split()\",\n",
       "  u\"mylist = ['a', 'b', 'c']\\n','.join(mylist)\",\n",
       "  u\"','.join([10, 20, 30])\",\n",
       "  u\"','.join('abc')\",\n",
       "  u'# 2 -- couple\\n# 3 -- triple\\n# 4 -- quadruple\\n\\n# n-uple   tuple\\n\\nt = (10, 20, 30)\\ntype(t)',\n",
       "  u't = (10, 20)\\ntype(t)',\n",
       "  u't = (10)\\ntype(t)',\n",
       "  u't = ()\\ntype(t)',\n",
       "  u'8 + 3 * 2',\n",
       "  u'(8 + 3) * 2',\n",
       "  u't = (10,)\\ntype(t)',\n",
       "  u'(10,) * 3',\n",
       "  u't = 10,20,30\\ntype(t)',\n",
       "  u't',\n",
       "  u't[0]',\n",
       "  u't[1]',\n",
       "  u't[-1]',\n",
       "  u'10 i t',\n",
       "  u'10 i t',\n",
       "  u'10 in t',\n",
       "  u'100 in t',\n",
       "  u't = ((10, 20, 30), (40, 50, 60))\\nt',\n",
       "  u'10 in t',\n",
       "  u'10 in t[0]',\n",
       "  u\"t[0] = '!'\",\n",
       "  u't = ([10, 20, 30], [40, 50, 60])\\nt',\n",
       "  u\"t[0] = 'hello'\",\n",
       "  u't[0].append(555)\\nt',\n",
       "  u't[0] += [100, 200, 300]',\n",
       "  u't',\n",
       "  u\"int('5')\",\n",
       "  u'str(5)',\n",
       "  u'str([1,2,3])',\n",
       "  u'x = [10, 20, 30]\\nprint \"The value of x is {}\".format(x)',\n",
       "  u\"s = 'abc'\\nlist(s)\",\n",
       "  u'tuple(s)',\n",
       "  u'mylist = [10, 20, 30]\\ntuple(mylist)',\n",
       "  u'mylist(t)',\n",
       "  u'list(t)',\n",
       "  u'mylist = [10, 30, 20, 5, 15]\\nmylist.sort()',\n",
       "  u'mylist',\n",
       "  u'mylist = mylist.sort()',\n",
       "  u'type(mylist)',\n",
       "  u\"mylist = [10, 'a', 5, -3, 'A', 'b', 'Z', 2.5]\\nmylist.sort()\\nmylist\",\n",
       "  u\"mylist = [10, 'a', 5, -3, 'A', 'b', 'Z', 2.5, len, str, int, float]\\nmylist.sort()\\nmylist\",\n",
       "  u'd = {}\\ntype(d)',\n",
       "  u'len(d)',\n",
       "  u\"d['a'] = 1\\nd['b'] = 2\\nd['c'] = 3\\nlen(d)\",\n",
       "  u'print d',\n",
       "  u\"hash('a')\",\n",
       "  u\"hash('a') % 8\",\n",
       "  u\"hash('b') % 8\",\n",
       "  u\"hash('c') % 8\",\n",
       "  u'print d',\n",
       "  u\"hash('i') % 8\",\n",
       "  u\"d['i'] = 4\\nprint d\",\n",
       "  u\"d = {}\\nd['i'] = 4\\nd['a'] = 1\\nd['b'] = 2\\nd['c'] = 3\\nprint d\",\n",
       "  u\"class = {'city':'Shanghai', 'country':'China',\\n        'topic':'Python'}\\n\\nclass['topic']\",\n",
       "  u\"course = {'city':'Shanghai', 'country':'China',\\n        'topic':'Python'}\\n\\ncourse['topic']\",\n",
       "  u\"x = 100\\ny = [10, 20, 30]\\nz = {'a':1, 'b':2}\\nglobals()\"],\n",
       " '_ii': u\"class = {'city':'Shanghai', 'country':'China',\\n        'topic':'Python'}\\n\\nclass['topic']\",\n",
       " '_iii': u\"d = {}\\nd['i'] = 4\\nd['a'] = 1\\nd['b'] = 2\\nd['c'] = 3\\nprint d\",\n",
       " '_oh': {6: 'Reuven',\n",
       "  7: str,\n",
       "  9: int,\n",
       "  10: 2,\n",
       "  11: '11',\n",
       "  15: 'someone else',\n",
       "  20: NoneType,\n",
       "  23: bool,\n",
       "  24: bool,\n",
       "  25: True,\n",
       "  26: False,\n",
       "  30: int,\n",
       "  31: 9223372036854775807,\n",
       "  33: 922337203685477580700000L,\n",
       "  34: long,\n",
       "  35: 81,\n",
       "  36: '123123',\n",
       "  37: 123,\n",
       "  38: 246,\n",
       "  39: '123',\n",
       "  40: 83,\n",
       "  41: 291,\n",
       "  42: 1371,\n",
       "  43: '0x7b',\n",
       "  44: 123,\n",
       "  45: '0b1111011',\n",
       "  46: '0173',\n",
       "  47: 123,\n",
       "  48: 291,\n",
       "  49: 13,\n",
       "  50: 83,\n",
       "  51: 83,\n",
       "  52: 15,\n",
       "  53: 5,\n",
       "  54: 50,\n",
       "  55: 2,\n",
       "  56: 3,\n",
       "  57: int,\n",
       "  58: float,\n",
       "  59: 3.3333333333333335,\n",
       "  60: 3.3333333333333335,\n",
       "  61: 3,\n",
       "  62: 3.3333333333333335,\n",
       "  63: 3.0,\n",
       "  64: 0.30000000000000004,\n",
       "  66: 124,\n",
       "  67: 124,\n",
       "  69: 125,\n",
       "  72: 'abc',\n",
       "  73: 'a',\n",
       "  75: 'ABC',\n",
       "  76: 'abc',\n",
       "  78: 'Reuven',\n",
       "  79: '                Reuven             ',\n",
       "  80: 'Reuven',\n",
       "  81: 6,\n",
       "  82: 26,\n",
       "  83: 'a',\n",
       "  84: str,\n",
       "  85: 'b',\n",
       "  86: 'c',\n",
       "  87: 'abcdefghijklmnopqrstuvwxyz',\n",
       "  88: 'z',\n",
       "  89: 'y',\n",
       "  90: 'klmnopqrst',\n",
       "  91: 'fghijklmno',\n",
       "  92: 'pqrstuvwxyz',\n",
       "  93: 'abcdefghij',\n",
       "  96: 'abcdefghijklmnopqrstuvwxyz',\n",
       "  97: 'fhjlnprt',\n",
       "  98: 'filor',\n",
       "  99: 'acegikmoqsuwy',\n",
       "  100: 'afkpuz',\n",
       "  101: 'zyxwvutsrqponmlkjihgfedcba',\n",
       "  103: 'abc',\n",
       "  104: 'abc',\n",
       "  105: 'abc\\ndef\\nghi',\n",
       "  109: 'abc\\ndef\\nghi',\n",
       "  115: 3,\n",
       "  116: 6,\n",
       "  120: 2,\n",
       "  122: unicode,\n",
       "  123: u'\\u4e0a\\u6d77',\n",
       "  124: 26,\n",
       "  125: 9,\n",
       "  126: 'j',\n",
       "  127: 9,\n",
       "  129: 1,\n",
       "  130: -1,\n",
       "  131: True,\n",
       "  132: False,\n",
       "  139: 123,\n",
       "  140: '10',\n",
       "  148: True,\n",
       "  149: True,\n",
       "  150: True,\n",
       "  151: False,\n",
       "  152: 15,\n",
       "  153: 'aaa',\n",
       "  154: True,\n",
       "  155: True,\n",
       "  156: True,\n",
       "  157: False,\n",
       "  160: 'c',\n",
       "  166: [0, 1, 2, 3, 4],\n",
       "  173: True,\n",
       "  180: list,\n",
       "  181: list,\n",
       "  182: list,\n",
       "  184: 4,\n",
       "  186: 3,\n",
       "  187: 10,\n",
       "  190: ['!', 20, 30],\n",
       "  191: [['!', 20, 30], ['!', 20, 30], ['!', 20, 30]],\n",
       "  195: [10, 20, 30, 40, [1, 2, 3], [...]],\n",
       "  196: [10, 20, 30, 40, [1, 2, 3], [...]],\n",
       "  197: [10, 20, 30, 40, [1, 2, 3], [...]],\n",
       "  198: [10, 20, 30, 40, [1, 2, 3], [...]],\n",
       "  200: [10, 20, 30, 40, 50, 60, 'a', 'b', 'c', 'abc'],\n",
       "  201: [10, 20, 30, 40, 50, 60, 'a', 'b', 'c', 'abc'],\n",
       "  202: [10, 20, 30, 40, 50, 60, 'a', 'b', 'c', 'abc'],\n",
       "  203: ['a', 'b', 'c'],\n",
       "  204: ['this', 'is', 'a', 'bunch', 'of', 'words'],\n",
       "  205: ['this', 'is', 'a', 'bunch', 'of', 'words'],\n",
       "  206: ['this',\n",
       "   '',\n",
       "   '',\n",
       "   '',\n",
       "   '',\n",
       "   'is',\n",
       "   'a',\n",
       "   '',\n",
       "   '',\n",
       "   '',\n",
       "   '',\n",
       "   'bunch',\n",
       "   'of',\n",
       "   'words'],\n",
       "  207: ['this', 'is', 'a', 'bunch', 'of', 'words'],\n",
       "  208: 'a,b,c',\n",
       "  210: 'a,b,c',\n",
       "  211: tuple,\n",
       "  212: tuple,\n",
       "  213: int,\n",
       "  214: tuple,\n",
       "  215: 14,\n",
       "  216: 22,\n",
       "  217: tuple,\n",
       "  218: (10, 10, 10),\n",
       "  219: tuple,\n",
       "  220: (10, 20, 30),\n",
       "  221: 10,\n",
       "  222: 20,\n",
       "  223: 30,\n",
       "  226: True,\n",
       "  227: False,\n",
       "  228: ((10, 20, 30), (40, 50, 60)),\n",
       "  229: False,\n",
       "  230: True,\n",
       "  232: ([10, 20, 30, 555, 100, 200, 300], [40, 50, 60]),\n",
       "  234: ([10, 20, 30, 555, 100, 200, 300], [40, 50, 60]),\n",
       "  236: ([10, 20, 30, 555, 100, 200, 300], [40, 50, 60]),\n",
       "  237: 5,\n",
       "  238: '5',\n",
       "  239: '[1, 2, 3]',\n",
       "  241: ['a', 'b', 'c'],\n",
       "  242: ('a', 'b', 'c'),\n",
       "  243: (10, 20, 30),\n",
       "  245: [[10, 20, 30, 555, 100, 200, 300], [40, 50, 60]],\n",
       "  247: [5, 10, 15, 20, 30],\n",
       "  249: NoneType,\n",
       "  250: [-3, 2.5, 5, 10, 'A', 'Z', 'a', 'b'],\n",
       "  251: [-3, 2.5, 5, 10, <function len>, 'A', 'Z', 'a', 'b', float, int, str],\n",
       "  252: dict,\n",
       "  253: 0,\n",
       "  254: 3,\n",
       "  256: 12416037344,\n",
       "  257: 0,\n",
       "  258: 3,\n",
       "  259: 2,\n",
       "  261: 0,\n",
       "  265: 'Python'},\n",
       " '_sh': <module 'IPython.core.shadowns' from '/usr/local/lib/python2.7/site-packages/IPython/core/shadowns.pyc'>,\n",
       " 'biglist': [['!', 20, 30], ['!', 20, 30], ['!', 20, 30]],\n",
       " 'course': {'city': 'Shanghai', 'country': 'China', 'topic': 'Python'},\n",
       " 'd': {'a': 1, 'b': 2, 'c': 3, 'i': 4},\n",
       " 'exit': <IPython.core.autocall.ZMQExitAutocall at 0x10dd10a90>,\n",
       " 'found_it': False,\n",
       " 'get_ipython': <bound method ZMQInteractiveShell.get_ipython of <ipykernel.zmqshell.ZMQInteractiveShell object at 0x10dc8dfd0>>,\n",
       " 'i': 9,\n",
       " 'index': 12,\n",
       " 'item': 'c',\n",
       " 'letter': 'd',\n",
       " 'look_for': 'd',\n",
       " 'mylist': [-3,\n",
       "  2.5,\n",
       "  5,\n",
       "  10,\n",
       "  <function len>,\n",
       "  'A',\n",
       "  'Z',\n",
       "  'a',\n",
       "  'b',\n",
       "  float,\n",
       "  int,\n",
       "  str],\n",
       " 'name': 'Reuven',\n",
       " 'path': 'c:\\\\abc\\\\def\\\\ghi',\n",
       " 'quit': <IPython.core.autocall.ZMQExitAutocall at 0x10dd10a90>,\n",
       " 's': 'abc',\n",
       " 'sys': <module 'sys' (built-in)>,\n",
       " 't': ([10, 20, 30, 555, 100, 200, 300], [40, 50, 60]),\n",
       " 'x': 100,\n",
       " 'y': [10, 20, 30],\n",
       " 'z': {'a': 1, 'b': 2}}"
      ]
     },
     "execution_count": 266,
     "metadata": {},
     "output_type": "execute_result"
    }
   ],
   "source": [
    "x = 100\n",
    "y = [10, 20, 30]\n",
    "z = {'a':1, 'b':2}\n",
    "globals()"
   ]
  },
  {
   "cell_type": "code",
   "execution_count": 267,
   "metadata": {
    "collapsed": false
   },
   "outputs": [
    {
     "data": {
      "text/plain": [
       "5"
      ]
     },
     "execution_count": 267,
     "metadata": {},
     "output_type": "execute_result"
    }
   ],
   "source": [
    "globals()['x'] = 5\n",
    "x"
   ]
  },
  {
   "cell_type": "code",
   "execution_count": 269,
   "metadata": {
    "collapsed": false
   },
   "outputs": [
    {
     "data": {
      "text/plain": [
       "{'a': 1, 'b': 2, 'c': 3}"
      ]
     },
     "execution_count": 269,
     "metadata": {},
     "output_type": "execute_result"
    }
   ],
   "source": [
    "d = {'a':1, 'b':2, 'c':3}\n",
    "d"
   ]
  },
  {
   "cell_type": "code",
   "execution_count": 270,
   "metadata": {
    "collapsed": false
   },
   "outputs": [
    {
     "name": "stdout",
     "output_type": "stream",
     "text": [
      "{'a': 1, 'c': 3, 'b': 2}\n"
     ]
    }
   ],
   "source": [
    "print d"
   ]
  },
  {
   "cell_type": "code",
   "execution_count": 271,
   "metadata": {
    "collapsed": false
   },
   "outputs": [
    {
     "data": {
      "text/plain": [
       "{'a': 1, 'b': 2, 'c': 3, 'd': 4}"
      ]
     },
     "execution_count": 271,
     "metadata": {},
     "output_type": "execute_result"
    }
   ],
   "source": [
    "# add to the dict\n",
    "d['d'] = 4\n",
    "d"
   ]
  },
  {
   "cell_type": "code",
   "execution_count": 272,
   "metadata": {
    "collapsed": false
   },
   "outputs": [
    {
     "data": {
      "text/plain": [
       "{'a': 1, 'b': 2, 'c': 3, 'd': 1000}"
      ]
     },
     "execution_count": 272,
     "metadata": {},
     "output_type": "execute_result"
    }
   ],
   "source": [
    "# replace a value\n",
    "d['d'] = 1000\n",
    "d"
   ]
  },
  {
   "cell_type": "code",
   "execution_count": 273,
   "metadata": {
    "collapsed": false
   },
   "outputs": [
    {
     "data": {
      "text/plain": [
       "True"
      ]
     },
     "execution_count": 273,
     "metadata": {},
     "output_type": "execute_result"
    }
   ],
   "source": [
    "'d' in d"
   ]
  },
  {
   "cell_type": "code",
   "execution_count": 274,
   "metadata": {
    "collapsed": false
   },
   "outputs": [
    {
     "data": {
      "text/plain": [
       "False"
      ]
     },
     "execution_count": 274,
     "metadata": {},
     "output_type": "execute_result"
    }
   ],
   "source": [
    "'z' in d"
   ]
  },
  {
   "cell_type": "code",
   "execution_count": 277,
   "metadata": {
    "collapsed": false
   },
   "outputs": [
    {
     "name": "stdout",
     "output_type": "stream",
     "text": [
      "Enter key you want: q\n",
      "No such key q in d\n"
     ]
    }
   ],
   "source": [
    "key_to_find = raw_input(\"Enter key you want: \")\n",
    "if key_to_find in d:\n",
    "    print d[key_to_find]\n",
    "else:\n",
    "    print \"No such key {} in d\".format(key_to_find)"
   ]
  },
  {
   "cell_type": "code",
   "execution_count": 278,
   "metadata": {
    "collapsed": false
   },
   "outputs": [
    {
     "data": {
      "text/plain": [
       "1"
      ]
     },
     "execution_count": 278,
     "metadata": {},
     "output_type": "execute_result"
    }
   ],
   "source": [
    "d.get('a')   # d['a'] -- if a is a key, we get the value"
   ]
  },
  {
   "cell_type": "code",
   "execution_count": 279,
   "metadata": {
    "collapsed": true
   },
   "outputs": [],
   "source": [
    "d.get('z') # because 'z' isn't a key, we get None"
   ]
  },
  {
   "cell_type": "code",
   "execution_count": 280,
   "metadata": {
    "collapsed": false
   },
   "outputs": [
    {
     "data": {
      "text/plain": [
       "'no such key'"
      ]
     },
     "execution_count": 280,
     "metadata": {},
     "output_type": "execute_result"
    }
   ],
   "source": [
    "d.get('z', 'no such key')  # None is replaced"
   ]
  },
  {
   "cell_type": "code",
   "execution_count": 281,
   "metadata": {
    "collapsed": false
   },
   "outputs": [
    {
     "ename": "KeyError",
     "evalue": "'q'",
     "traceback": [
      "\u001b[0;31m---------------------------------------------------------------------------\u001b[0m",
      "\u001b[0;31mKeyError\u001b[0m                                  Traceback (most recent call last)",
      "\u001b[0;32m<ipython-input-281-b47955b37c8c>\u001b[0m in \u001b[0;36m<module>\u001b[0;34m()\u001b[0m\n\u001b[0;32m----> 1\u001b[0;31m \u001b[0md\u001b[0m\u001b[0;34m[\u001b[0m\u001b[0;34m'q'\u001b[0m\u001b[0;34m]\u001b[0m\u001b[0;34m\u001b[0m\u001b[0m\n\u001b[0m",
      "\u001b[0;31mKeyError\u001b[0m: 'q'"
     ],
     "output_type": "error"
    }
   ],
   "source": [
    "d['q']"
   ]
  },
  {
   "cell_type": "code",
   "execution_count": 282,
   "metadata": {
    "collapsed": false
   },
   "outputs": [
    {
     "data": {
      "text/plain": [
       "{'a': 1, 'b': 2, 'c': 3, 'd': 1000}"
      ]
     },
     "execution_count": 282,
     "metadata": {},
     "output_type": "execute_result"
    }
   ],
   "source": [
    "d"
   ]
  },
  {
   "cell_type": "code",
   "execution_count": 283,
   "metadata": {
    "collapsed": false
   },
   "outputs": [
    {
     "name": "stdout",
     "output_type": "stream",
     "text": [
      "a: 1\n",
      "c: 3\n",
      "b: 2\n",
      "d: 1000\n"
     ]
    }
   ],
   "source": [
    "for key in d:\n",
    "    print \"{}: {}\".format(key, d[key])"
   ]
  },
  {
   "cell_type": "code",
   "execution_count": 284,
   "metadata": {
    "collapsed": false
   },
   "outputs": [
    {
     "name": "stdout",
     "output_type": "stream",
     "text": [
      "a: 1\n",
      "c: 3\n",
      "b: 2\n",
      "d: 1000\n"
     ]
    }
   ],
   "source": [
    "for key, value in d.items():\n",
    "    print \"{}: {}\".format(key, value)"
   ]
  },
  {
   "cell_type": "code",
   "execution_count": 285,
   "metadata": {
    "collapsed": false
   },
   "outputs": [
    {
     "data": {
      "text/plain": [
       "{'a': 1, 'b': 2, 'c': 3, 'd': 1000}"
      ]
     },
     "execution_count": 285,
     "metadata": {},
     "output_type": "execute_result"
    }
   ],
   "source": [
    "d"
   ]
  },
  {
   "cell_type": "code",
   "execution_count": 286,
   "metadata": {
    "collapsed": false
   },
   "outputs": [
    {
     "name": "stdout",
     "output_type": "stream",
     "text": [
      "{'a': 1, 'c': 3, 'b': 2, 'd': 1000}\n"
     ]
    }
   ],
   "source": [
    "print d"
   ]
  },
  {
   "cell_type": "code",
   "execution_count": 287,
   "metadata": {
    "collapsed": false
   },
   "outputs": [
    {
     "data": {
      "text/plain": [
       "\"{'a': 1, 'c': 3, 'b': 2, 'd': 1000}\""
      ]
     },
     "execution_count": 287,
     "metadata": {},
     "output_type": "execute_result"
    }
   ],
   "source": [
    "str(d)"
   ]
  },
  {
   "cell_type": "code",
   "execution_count": 288,
   "metadata": {
    "collapsed": true
   },
   "outputs": [],
   "source": [
    "user_options = {'auto_login': True,\n",
    "               'is_root': True,\n",
    "               'wants_lunch': True}"
   ]
  },
  {
   "cell_type": "code",
   "execution_count": 289,
   "metadata": {
    "collapsed": false
   },
   "outputs": [
    {
     "data": {
      "text/plain": [
       "True"
      ]
     },
     "execution_count": 289,
     "metadata": {},
     "output_type": "execute_result"
    }
   ],
   "source": [
    "'wants_lunch' in user_options"
   ]
  },
  {
   "cell_type": "code",
   "execution_count": 290,
   "metadata": {
    "collapsed": false
   },
   "outputs": [
    {
     "data": {
      "text/plain": [
       "False"
      ]
     },
     "execution_count": 290,
     "metadata": {},
     "output_type": "execute_result"
    }
   ],
   "source": [
    "'very_tired' in user_options"
   ]
  },
  {
   "cell_type": "code",
   "execution_count": 291,
   "metadata": {
    "collapsed": false
   },
   "outputs": [
    {
     "data": {
      "text/plain": [
       "3"
      ]
     },
     "execution_count": 291,
     "metadata": {},
     "output_type": "execute_result"
    }
   ],
   "source": [
    "# sets -- dictionary without values (unethical!)\n",
    "\n",
    "s = set()\n",
    "s.add(1)\n",
    "s.add(2)\n",
    "s.add(3)\n",
    "len(s)"
   ]
  },
  {
   "cell_type": "code",
   "execution_count": 292,
   "metadata": {
    "collapsed": false
   },
   "outputs": [
    {
     "data": {
      "text/plain": [
       "4"
      ]
     },
     "execution_count": 292,
     "metadata": {},
     "output_type": "execute_result"
    }
   ],
   "source": [
    "s.add(4)\n",
    "s.add(4)\n",
    "s.add(4)\n",
    "len(s)"
   ]
  },
  {
   "cell_type": "code",
   "execution_count": 293,
   "metadata": {
    "collapsed": false
   },
   "outputs": [
    {
     "name": "stdout",
     "output_type": "stream",
     "text": [
      "set([1, 2, 3, 4])\n"
     ]
    }
   ],
   "source": [
    "print s"
   ]
  },
  {
   "cell_type": "code",
   "execution_count": 294,
   "metadata": {
    "collapsed": false
   },
   "outputs": [
    {
     "data": {
      "text/plain": [
       "set"
      ]
     },
     "execution_count": 294,
     "metadata": {},
     "output_type": "execute_result"
    }
   ],
   "source": [
    "s = {1,2,3,4}\n",
    "type(s)"
   ]
  },
  {
   "cell_type": "code",
   "execution_count": 295,
   "metadata": {
    "collapsed": false
   },
   "outputs": [
    {
     "data": {
      "text/plain": [
       "set"
      ]
     },
     "execution_count": 295,
     "metadata": {},
     "output_type": "execute_result"
    }
   ],
   "source": [
    "x = {1,2,3}\n",
    "type(x)"
   ]
  },
  {
   "cell_type": "code",
   "execution_count": 296,
   "metadata": {
    "collapsed": false
   },
   "outputs": [
    {
     "data": {
      "text/plain": [
       "dict"
      ]
     },
     "execution_count": 296,
     "metadata": {},
     "output_type": "execute_result"
    }
   ],
   "source": [
    "x = {1:1, 2:2, 3:3}\n",
    "type(x)"
   ]
  },
  {
   "cell_type": "code",
   "execution_count": 297,
   "metadata": {
    "collapsed": false
   },
   "outputs": [
    {
     "data": {
      "text/plain": [
       "dict"
      ]
     },
     "execution_count": 297,
     "metadata": {},
     "output_type": "execute_result"
    }
   ],
   "source": [
    "x = {}\n",
    "type(x)"
   ]
  },
  {
   "cell_type": "code",
   "execution_count": 298,
   "metadata": {
    "collapsed": false
   },
   "outputs": [
    {
     "data": {
      "text/plain": [
       "set"
      ]
     },
     "execution_count": 298,
     "metadata": {},
     "output_type": "execute_result"
    }
   ],
   "source": [
    "x = set()\n",
    "type(x)"
   ]
  },
  {
   "cell_type": "code",
   "execution_count": 299,
   "metadata": {
    "collapsed": false
   },
   "outputs": [
    {
     "name": "stdout",
     "output_type": "stream",
     "text": [
      "set([1, 2, 3, 4])\n"
     ]
    }
   ],
   "source": [
    "print s"
   ]
  },
  {
   "cell_type": "code",
   "execution_count": 300,
   "metadata": {
    "collapsed": false
   },
   "outputs": [
    {
     "data": {
      "text/plain": [
       "{1, 2, 3, 4}"
      ]
     },
     "execution_count": 300,
     "metadata": {},
     "output_type": "execute_result"
    }
   ],
   "source": [
    "s"
   ]
  },
  {
   "cell_type": "code",
   "execution_count": 301,
   "metadata": {
    "collapsed": false
   },
   "outputs": [
    {
     "data": {
      "text/plain": [
       "{1, 2, 3, 4, 5}"
      ]
     },
     "execution_count": 301,
     "metadata": {},
     "output_type": "execute_result"
    }
   ],
   "source": [
    "s.add(5)\n",
    "s"
   ]
  },
  {
   "cell_type": "code",
   "execution_count": 302,
   "metadata": {
    "collapsed": false
   },
   "outputs": [
    {
     "ename": "TypeError",
     "evalue": "unhashable type: 'list'",
     "traceback": [
      "\u001b[0;31m---------------------------------------------------------------------------\u001b[0m",
      "\u001b[0;31mTypeError\u001b[0m                                 Traceback (most recent call last)",
      "\u001b[0;32m<ipython-input-302-cf96b5b61e43>\u001b[0m in \u001b[0;36m<module>\u001b[0;34m()\u001b[0m\n\u001b[0;32m----> 1\u001b[0;31m \u001b[0ms\u001b[0m\u001b[0;34m.\u001b[0m\u001b[0madd\u001b[0m\u001b[0;34m(\u001b[0m\u001b[0;34m[\u001b[0m\u001b[0;36m10\u001b[0m\u001b[0;34m,\u001b[0m\u001b[0;36m20\u001b[0m\u001b[0;34m,\u001b[0m\u001b[0;36m30\u001b[0m\u001b[0;34m]\u001b[0m\u001b[0;34m)\u001b[0m\u001b[0;34m\u001b[0m\u001b[0m\n\u001b[0m",
      "\u001b[0;31mTypeError\u001b[0m: unhashable type: 'list'"
     ],
     "output_type": "error"
    }
   ],
   "source": [
    "s.add([10,20,30])"
   ]
  },
  {
   "cell_type": "code",
   "execution_count": 303,
   "metadata": {
    "collapsed": false
   },
   "outputs": [
    {
     "data": {
      "text/plain": [
       "{1, 2, 3, 4, 5, 10, 20, 30}"
      ]
     },
     "execution_count": 303,
     "metadata": {},
     "output_type": "execute_result"
    }
   ],
   "source": [
    "s.update([10, 20, 30])\n",
    "s"
   ]
  },
  {
   "cell_type": "code",
   "execution_count": 304,
   "metadata": {
    "collapsed": false
   },
   "outputs": [
    {
     "data": {
      "text/plain": [
       "{1, 2, 3, 4, 5, 10, 20, 30, 'xyz'}"
      ]
     },
     "execution_count": 304,
     "metadata": {},
     "output_type": "execute_result"
    }
   ],
   "source": [
    "s.add('xyz')\n",
    "s"
   ]
  },
  {
   "cell_type": "code",
   "execution_count": 305,
   "metadata": {
    "collapsed": false
   },
   "outputs": [
    {
     "data": {
      "text/plain": [
       "{1, 2, 3, 4, 5, 10, 20, 30, 'x', 'xyz', 'y', 'z'}"
      ]
     },
     "execution_count": 305,
     "metadata": {},
     "output_type": "execute_result"
    }
   ],
   "source": [
    "s.update('xyz')\n",
    "s"
   ]
  },
  {
   "cell_type": "code",
   "execution_count": 306,
   "metadata": {
    "collapsed": false
   },
   "outputs": [
    {
     "data": {
      "text/plain": [
       "{1, 2}"
      ]
     },
     "execution_count": 306,
     "metadata": {},
     "output_type": "execute_result"
    }
   ],
   "source": [
    "s1 = {1, 2,3,4}\n",
    "s2 = {3,4,5,6}\n",
    "\n",
    "s1 - s2"
   ]
  },
  {
   "cell_type": "code",
   "execution_count": 307,
   "metadata": {
    "collapsed": false
   },
   "outputs": [
    {
     "data": {
      "text/plain": [
       "{5, 6}"
      ]
     },
     "execution_count": 307,
     "metadata": {},
     "output_type": "execute_result"
    }
   ],
   "source": [
    "s2 - s1"
   ]
  },
  {
   "cell_type": "code",
   "execution_count": 309,
   "metadata": {
    "collapsed": false
   },
   "outputs": [
    {
     "data": {
      "text/plain": [
       "{1, 2, 5, 6}"
      ]
     },
     "execution_count": 309,
     "metadata": {},
     "output_type": "execute_result"
    }
   ],
   "source": [
    "s1 ^ s2  # xor"
   ]
  },
  {
   "cell_type": "code",
   "execution_count": 310,
   "metadata": {
    "collapsed": false
   },
   "outputs": [
    {
     "data": {
      "text/plain": [
       "{1, 2, 5, 6}"
      ]
     },
     "execution_count": 310,
     "metadata": {},
     "output_type": "execute_result"
    }
   ],
   "source": [
    "s1.symmetric_difference(s2)"
   ]
  },
  {
   "cell_type": "code",
   "execution_count": 311,
   "metadata": {
    "collapsed": false
   },
   "outputs": [
    {
     "data": {
      "text/plain": [
       "{1, 2, 3, 4, 5, 6}"
      ]
     },
     "execution_count": 311,
     "metadata": {},
     "output_type": "execute_result"
    }
   ],
   "source": [
    "s1 | s2 # union"
   ]
  },
  {
   "cell_type": "code",
   "execution_count": 312,
   "metadata": {
    "collapsed": false
   },
   "outputs": [
    {
     "data": {
      "text/plain": [
       "{3, 4}"
      ]
     },
     "execution_count": 312,
     "metadata": {},
     "output_type": "execute_result"
    }
   ],
   "source": [
    "s1 & s2 # intersection"
   ]
  },
  {
   "cell_type": "code",
   "execution_count": 313,
   "metadata": {
    "collapsed": false
   },
   "outputs": [
    {
     "data": {
      "text/plain": [
       "{'a', 'b', 'c'}"
      ]
     },
     "execution_count": 313,
     "metadata": {},
     "output_type": "execute_result"
    }
   ],
   "source": [
    "s1 = {'a', 'b', 'c'}\n",
    "s1"
   ]
  },
  {
   "cell_type": "code",
   "execution_count": 314,
   "metadata": {
    "collapsed": false
   },
   "outputs": [
    {
     "name": "stdout",
     "output_type": "stream",
     "text": [
      "set(['a', 'c', 'b'])\n"
     ]
    }
   ],
   "source": [
    "print s1"
   ]
  },
  {
   "cell_type": "code",
   "execution_count": 315,
   "metadata": {
    "collapsed": true
   },
   "outputs": [],
   "source": [
    "f = open('/etc/passwd')"
   ]
  },
  {
   "cell_type": "code",
   "execution_count": 316,
   "metadata": {
    "collapsed": false
   },
   "outputs": [
    {
     "data": {
      "text/plain": [
       "<open file '/etc/passwd', mode 'r' at 0x10de6e5d0>"
      ]
     },
     "execution_count": 316,
     "metadata": {},
     "output_type": "execute_result"
    }
   ],
   "source": [
    "f"
   ]
  },
  {
   "cell_type": "code",
   "execution_count": 317,
   "metadata": {
    "collapsed": false
   },
   "outputs": [
    {
     "data": {
      "text/plain": [
       "'##\\n# User Database\\n# \\n# Note that this file is consulted directly only when the system is running\\n# in single-user mode.  At other times this information is provided by\\n# Open Directory.\\n#\\n# See the opendirectoryd(8) man page for additional information about\\n# Open Directory.\\n##\\nnobody:*:-2:-2::0:0:Unprivileged User:/var/empty:/usr/bin/false\\nroot:*:0:0::0:0:System Administrator:/var/root:/bin/sh\\ndaemon:*:1:1::0:0:System Services:/var/root:/usr/bin/false\\n_uucp:*:4:4::0:0:Unix to Unix Copy Protocol:/var/spool/uucp:/usr/sbin/uucico\\n_taskgated:*:13:13::0:0:Task Gate Daemon:/var/empty:/usr/bin/false\\n_networkd:*:24:24::0:0:Network Services:/var/networkd:/usr/bin/false\\n_installassistant:*:25:25::0:0:Install Assistant:/var/empty:/usr/bin/false\\n_lp:*:26:26::0:0:Printing Services:/var/spool/cups:/usr/bin/false\\n_postfix:*:27:27::0:0:Postfix Mail Server:/var/spool/postfix:/usr/bin/false\\n_scsd:*:31:31::0:0:Service Configuration Service:/var/empty:/usr/bin/false\\n_ces:*:32:32::0:0:Certificate Enrollment Service:/var/empty:/usr/bin/false\\n_mcxalr:*:54:54::0:0:MCX AppLaunch:/var/empty:/usr/bin/false\\n_appleevents:*:55:55::0:0:AppleEvents Daemon:/var/empty:/usr/bin/false\\n_geod:*:56:56::0:0:Geo Services Daemon:/var/db/geod:/usr/bin/false\\n_serialnumberd:*:58:58::0:0:Serial Number Daemon:/var/empty:/usr/bin/false\\n_devdocs:*:59:59::0:0:Developer Documentation:/var/empty:/usr/bin/false\\n_sandbox:*:60:60::0:0:Seatbelt:/var/empty:/usr/bin/false\\n_mdnsresponder:*:65:65::0:0:mDNSResponder:/var/empty:/usr/bin/false\\n_ard:*:67:67::0:0:Apple Remote Desktop:/var/empty:/usr/bin/false\\n_www:*:70:70::0:0:World Wide Web Server:/Library/WebServer:/usr/bin/false\\n_eppc:*:71:71::0:0:Apple Events User:/var/empty:/usr/bin/false\\n_cvs:*:72:72::0:0:CVS Server:/var/empty:/usr/bin/false\\n_svn:*:73:73::0:0:SVN Server:/var/empty:/usr/bin/false\\n_mysql:*:74:74::0:0:MySQL Server:/var/empty:/usr/bin/false\\n_sshd:*:75:75::0:0:sshd Privilege separation:/var/empty:/usr/bin/false\\n_qtss:*:76:76::0:0:QuickTime Streaming Server:/var/empty:/usr/bin/false\\n_cyrus:*:77:6::0:0:Cyrus Administrator:/var/imap:/usr/bin/false\\n_mailman:*:78:78::0:0:Mailman List Server:/var/empty:/usr/bin/false\\n_appserver:*:79:79::0:0:Application Server:/var/empty:/usr/bin/false\\n_clamav:*:82:82::0:0:ClamAV Daemon:/var/virusmails:/usr/bin/false\\n_amavisd:*:83:83::0:0:AMaViS Daemon:/var/virusmails:/usr/bin/false\\n_jabber:*:84:84::0:0:Jabber XMPP Server:/var/empty:/usr/bin/false\\n_appowner:*:87:87::0:0:Application Owner:/var/empty:/usr/bin/false\\n_windowserver:*:88:88::0:0:WindowServer:/var/empty:/usr/bin/false\\n_spotlight:*:89:89::0:0:Spotlight:/var/empty:/usr/bin/false\\n_tokend:*:91:91::0:0:Token Daemon:/var/empty:/usr/bin/false\\n_securityagent:*:92:92::0:0:SecurityAgent:/var/empty:/usr/bin/false\\n_calendar:*:93:93::0:0:Calendar:/var/empty:/usr/bin/false\\n_teamsserver:*:94:94::0:0:TeamsServer:/var/teamsserver:/usr/bin/false\\n_update_sharing:*:95:-2::0:0:Update Sharing:/var/empty:/usr/bin/false\\n_installer:*:96:-2::0:0:Installer:/var/empty:/usr/bin/false\\n_atsserver:*:97:97::0:0:ATS Server:/var/empty:/usr/bin/false\\n_ftp:*:98:-2::0:0:FTP Daemon:/var/empty:/usr/bin/false\\n_unknown:*:99:99::0:0:Unknown User:/var/empty:/usr/bin/false\\n_softwareupdate:*:200:200::0:0:Software Update Service:/var/empty:/usr/bin/false\\n_coreaudiod:*:202:202::0:0:Core Audio Daemon:/var/empty:/usr/bin/false\\n_screensaver:*:203:203::0:0:Screensaver:/var/empty:/usr/bin/false\\n_locationd:*:205:205::0:0:Location Daemon:/var/db/locationd:/usr/bin/false\\n_trustevaluationagent:*:208:208::0:0:Trust Evaluation Agent:/var/empty:/usr/bin/false\\n_timezone:*:210:210::0:0:AutoTimeZoneDaemon:/var/empty:/usr/bin/false\\n_lda:*:211:211::0:0:Local Delivery Agent:/var/empty:/usr/bin/false\\n_cvmsroot:*:212:212::0:0:CVMS Root:/var/empty:/usr/bin/false\\n_usbmuxd:*:213:213::0:0:iPhone OS Device Helper:/var/db/lockdown:/usr/bin/false\\n_dovecot:*:214:6::0:0:Dovecot Administrator:/var/empty:/usr/bin/false\\n_dpaudio:*:215:215::0:0:DP Audio:/var/empty:/usr/bin/false\\n_postgres:*:216:216::0:0:PostgreSQL Server:/var/empty:/usr/bin/false\\n_krbtgt:*:217:-2::0:0:Kerberos Ticket Granting Ticket:/var/empty:/usr/bin/false\\n_kadmin_admin:*:218:-2::0:0:Kerberos Admin Service:/var/empty:/usr/bin/false\\n_kadmin_changepw:*:219:-2::0:0:Kerberos Change Password Service:/var/empty:/usr/bin/false\\n_devicemgr:*:220:220::0:0:Device Management Server:/var/empty:/usr/bin/false\\n_webauthserver:*:221:221::0:0:Web Auth Server:/var/empty:/usr/bin/false\\n_netbios:*:222:222::0:0:NetBIOS:/var/empty:/usr/bin/false\\n_warmd:*:224:224::0:0:Warm Daemon:/var/empty:/usr/bin/false\\n_dovenull:*:227:227::0:0:Dovecot Authentication:/var/empty:/usr/bin/false\\n_netstatistics:*:228:228::0:0:Network Statistics Daemon:/var/empty:/usr/bin/false\\n_avbdeviced:*:229:-2::0:0:Ethernet AVB Device Daemon:/var/empty:/usr/bin/false\\n_krb_krbtgt:*:230:-2::0:0:Open Directory Kerberos Ticket Granting Ticket:/var/empty:/usr/bin/false\\n_krb_kadmin:*:231:-2::0:0:Open Directory Kerberos Admin Service:/var/empty:/usr/bin/false\\n_krb_changepw:*:232:-2::0:0:Open Directory Kerberos Change Password Service:/var/empty:/usr/bin/false\\n_krb_kerberos:*:233:-2::0:0:Open Directory Kerberos:/var/empty:/usr/bin/false\\n_krb_anonymous:*:234:-2::0:0:Open Directory Kerberos Anonymous:/var/empty:/usr/bin/false\\n_assetcache:*:235:235::0:0:Asset Cache Service:/var/empty:/usr/bin/false\\n_coremediaiod:*:236:236::0:0:Core Media IO Daemon:/var/empty:/usr/bin/false\\n_xcsbuildagent:*:237:237::0:0:Xcode Server Build Agent:/var/empty:/usr/bin/false\\n_xcscredserver:*:238:238::0:0:Xcode Server Credential Server:/var/empty:/usr/bin/false\\n_launchservicesd:*:239:239::0:0:_launchservicesd:/var/empty:/usr/bin/false\\n'"
      ]
     },
     "execution_count": 317,
     "metadata": {},
     "output_type": "execute_result"
    }
   ],
   "source": [
    "f.read()"
   ]
  },
  {
   "cell_type": "code",
   "execution_count": 318,
   "metadata": {
    "collapsed": false
   },
   "outputs": [
    {
     "data": {
      "text/plain": [
       "''"
      ]
     },
     "execution_count": 318,
     "metadata": {},
     "output_type": "execute_result"
    }
   ],
   "source": [
    "f.read()"
   ]
  },
  {
   "cell_type": "code",
   "execution_count": 319,
   "metadata": {
    "collapsed": true
   },
   "outputs": [],
   "source": [
    "f.seek(0)"
   ]
  },
  {
   "cell_type": "code",
   "execution_count": 320,
   "metadata": {
    "collapsed": true
   },
   "outputs": [],
   "source": [
    "text = f.read()"
   ]
  },
  {
   "cell_type": "code",
   "execution_count": 321,
   "metadata": {
    "collapsed": false
   },
   "outputs": [
    {
     "data": {
      "text/plain": [
       "5633"
      ]
     },
     "execution_count": 321,
     "metadata": {},
     "output_type": "execute_result"
    }
   ],
   "source": [
    "len(text)"
   ]
  },
  {
   "cell_type": "code",
   "execution_count": 322,
   "metadata": {
    "collapsed": true
   },
   "outputs": [],
   "source": [
    "f.seek(0)\n",
    "text = f.read(1000) # max 1000 bytes"
   ]
  },
  {
   "cell_type": "code",
   "execution_count": 323,
   "metadata": {
    "collapsed": false
   },
   "outputs": [
    {
     "data": {
      "text/plain": [
       "1000"
      ]
     },
     "execution_count": 323,
     "metadata": {},
     "output_type": "execute_result"
    }
   ],
   "source": [
    "len(text)"
   ]
  },
  {
   "cell_type": "code",
   "execution_count": 324,
   "metadata": {
    "collapsed": true
   },
   "outputs": [],
   "source": [
    "f.seek(0)"
   ]
  },
  {
   "cell_type": "code",
   "execution_count": 325,
   "metadata": {
    "collapsed": false
   },
   "outputs": [
    {
     "data": {
      "text/plain": [
       "'##\\n'"
      ]
     },
     "execution_count": 325,
     "metadata": {},
     "output_type": "execute_result"
    }
   ],
   "source": [
    "f.readline()"
   ]
  },
  {
   "cell_type": "code",
   "execution_count": 326,
   "metadata": {
    "collapsed": false
   },
   "outputs": [
    {
     "data": {
      "text/plain": [
       "'# User Database\\n'"
      ]
     },
     "execution_count": 326,
     "metadata": {},
     "output_type": "execute_result"
    }
   ],
   "source": [
    "f.readline()"
   ]
  },
  {
   "cell_type": "code",
   "execution_count": 327,
   "metadata": {
    "collapsed": false
   },
   "outputs": [
    {
     "data": {
      "text/plain": [
       "'# \\n'"
      ]
     },
     "execution_count": 327,
     "metadata": {},
     "output_type": "execute_result"
    }
   ],
   "source": [
    "f.readline()"
   ]
  },
  {
   "cell_type": "code",
   "execution_count": 328,
   "metadata": {
    "collapsed": false
   },
   "outputs": [
    {
     "data": {
      "text/plain": [
       "['# Note that this file is consulted directly only when the system is running\\n',\n",
       " '# in single-user mode.  At other times this information is provided by\\n',\n",
       " '# Open Directory.\\n',\n",
       " '#\\n',\n",
       " '# See the opendirectoryd(8) man page for additional information about\\n',\n",
       " '# Open Directory.\\n',\n",
       " '##\\n',\n",
       " 'nobody:*:-2:-2::0:0:Unprivileged User:/var/empty:/usr/bin/false\\n',\n",
       " 'root:*:0:0::0:0:System Administrator:/var/root:/bin/sh\\n',\n",
       " 'daemon:*:1:1::0:0:System Services:/var/root:/usr/bin/false\\n',\n",
       " '_uucp:*:4:4::0:0:Unix to Unix Copy Protocol:/var/spool/uucp:/usr/sbin/uucico\\n',\n",
       " '_taskgated:*:13:13::0:0:Task Gate Daemon:/var/empty:/usr/bin/false\\n',\n",
       " '_networkd:*:24:24::0:0:Network Services:/var/networkd:/usr/bin/false\\n',\n",
       " '_installassistant:*:25:25::0:0:Install Assistant:/var/empty:/usr/bin/false\\n',\n",
       " '_lp:*:26:26::0:0:Printing Services:/var/spool/cups:/usr/bin/false\\n',\n",
       " '_postfix:*:27:27::0:0:Postfix Mail Server:/var/spool/postfix:/usr/bin/false\\n',\n",
       " '_scsd:*:31:31::0:0:Service Configuration Service:/var/empty:/usr/bin/false\\n',\n",
       " '_ces:*:32:32::0:0:Certificate Enrollment Service:/var/empty:/usr/bin/false\\n',\n",
       " '_mcxalr:*:54:54::0:0:MCX AppLaunch:/var/empty:/usr/bin/false\\n',\n",
       " '_appleevents:*:55:55::0:0:AppleEvents Daemon:/var/empty:/usr/bin/false\\n',\n",
       " '_geod:*:56:56::0:0:Geo Services Daemon:/var/db/geod:/usr/bin/false\\n',\n",
       " '_serialnumberd:*:58:58::0:0:Serial Number Daemon:/var/empty:/usr/bin/false\\n',\n",
       " '_devdocs:*:59:59::0:0:Developer Documentation:/var/empty:/usr/bin/false\\n',\n",
       " '_sandbox:*:60:60::0:0:Seatbelt:/var/empty:/usr/bin/false\\n',\n",
       " '_mdnsresponder:*:65:65::0:0:mDNSResponder:/var/empty:/usr/bin/false\\n',\n",
       " '_ard:*:67:67::0:0:Apple Remote Desktop:/var/empty:/usr/bin/false\\n',\n",
       " '_www:*:70:70::0:0:World Wide Web Server:/Library/WebServer:/usr/bin/false\\n',\n",
       " '_eppc:*:71:71::0:0:Apple Events User:/var/empty:/usr/bin/false\\n',\n",
       " '_cvs:*:72:72::0:0:CVS Server:/var/empty:/usr/bin/false\\n',\n",
       " '_svn:*:73:73::0:0:SVN Server:/var/empty:/usr/bin/false\\n',\n",
       " '_mysql:*:74:74::0:0:MySQL Server:/var/empty:/usr/bin/false\\n',\n",
       " '_sshd:*:75:75::0:0:sshd Privilege separation:/var/empty:/usr/bin/false\\n',\n",
       " '_qtss:*:76:76::0:0:QuickTime Streaming Server:/var/empty:/usr/bin/false\\n',\n",
       " '_cyrus:*:77:6::0:0:Cyrus Administrator:/var/imap:/usr/bin/false\\n',\n",
       " '_mailman:*:78:78::0:0:Mailman List Server:/var/empty:/usr/bin/false\\n',\n",
       " '_appserver:*:79:79::0:0:Application Server:/var/empty:/usr/bin/false\\n',\n",
       " '_clamav:*:82:82::0:0:ClamAV Daemon:/var/virusmails:/usr/bin/false\\n',\n",
       " '_amavisd:*:83:83::0:0:AMaViS Daemon:/var/virusmails:/usr/bin/false\\n',\n",
       " '_jabber:*:84:84::0:0:Jabber XMPP Server:/var/empty:/usr/bin/false\\n',\n",
       " '_appowner:*:87:87::0:0:Application Owner:/var/empty:/usr/bin/false\\n',\n",
       " '_windowserver:*:88:88::0:0:WindowServer:/var/empty:/usr/bin/false\\n',\n",
       " '_spotlight:*:89:89::0:0:Spotlight:/var/empty:/usr/bin/false\\n',\n",
       " '_tokend:*:91:91::0:0:Token Daemon:/var/empty:/usr/bin/false\\n',\n",
       " '_securityagent:*:92:92::0:0:SecurityAgent:/var/empty:/usr/bin/false\\n',\n",
       " '_calendar:*:93:93::0:0:Calendar:/var/empty:/usr/bin/false\\n',\n",
       " '_teamsserver:*:94:94::0:0:TeamsServer:/var/teamsserver:/usr/bin/false\\n',\n",
       " '_update_sharing:*:95:-2::0:0:Update Sharing:/var/empty:/usr/bin/false\\n',\n",
       " '_installer:*:96:-2::0:0:Installer:/var/empty:/usr/bin/false\\n',\n",
       " '_atsserver:*:97:97::0:0:ATS Server:/var/empty:/usr/bin/false\\n',\n",
       " '_ftp:*:98:-2::0:0:FTP Daemon:/var/empty:/usr/bin/false\\n',\n",
       " '_unknown:*:99:99::0:0:Unknown User:/var/empty:/usr/bin/false\\n',\n",
       " '_softwareupdate:*:200:200::0:0:Software Update Service:/var/empty:/usr/bin/false\\n',\n",
       " '_coreaudiod:*:202:202::0:0:Core Audio Daemon:/var/empty:/usr/bin/false\\n',\n",
       " '_screensaver:*:203:203::0:0:Screensaver:/var/empty:/usr/bin/false\\n',\n",
       " '_locationd:*:205:205::0:0:Location Daemon:/var/db/locationd:/usr/bin/false\\n',\n",
       " '_trustevaluationagent:*:208:208::0:0:Trust Evaluation Agent:/var/empty:/usr/bin/false\\n',\n",
       " '_timezone:*:210:210::0:0:AutoTimeZoneDaemon:/var/empty:/usr/bin/false\\n',\n",
       " '_lda:*:211:211::0:0:Local Delivery Agent:/var/empty:/usr/bin/false\\n',\n",
       " '_cvmsroot:*:212:212::0:0:CVMS Root:/var/empty:/usr/bin/false\\n',\n",
       " '_usbmuxd:*:213:213::0:0:iPhone OS Device Helper:/var/db/lockdown:/usr/bin/false\\n',\n",
       " '_dovecot:*:214:6::0:0:Dovecot Administrator:/var/empty:/usr/bin/false\\n',\n",
       " '_dpaudio:*:215:215::0:0:DP Audio:/var/empty:/usr/bin/false\\n',\n",
       " '_postgres:*:216:216::0:0:PostgreSQL Server:/var/empty:/usr/bin/false\\n',\n",
       " '_krbtgt:*:217:-2::0:0:Kerberos Ticket Granting Ticket:/var/empty:/usr/bin/false\\n',\n",
       " '_kadmin_admin:*:218:-2::0:0:Kerberos Admin Service:/var/empty:/usr/bin/false\\n',\n",
       " '_kadmin_changepw:*:219:-2::0:0:Kerberos Change Password Service:/var/empty:/usr/bin/false\\n',\n",
       " '_devicemgr:*:220:220::0:0:Device Management Server:/var/empty:/usr/bin/false\\n',\n",
       " '_webauthserver:*:221:221::0:0:Web Auth Server:/var/empty:/usr/bin/false\\n',\n",
       " '_netbios:*:222:222::0:0:NetBIOS:/var/empty:/usr/bin/false\\n',\n",
       " '_warmd:*:224:224::0:0:Warm Daemon:/var/empty:/usr/bin/false\\n',\n",
       " '_dovenull:*:227:227::0:0:Dovecot Authentication:/var/empty:/usr/bin/false\\n',\n",
       " '_netstatistics:*:228:228::0:0:Network Statistics Daemon:/var/empty:/usr/bin/false\\n',\n",
       " '_avbdeviced:*:229:-2::0:0:Ethernet AVB Device Daemon:/var/empty:/usr/bin/false\\n',\n",
       " '_krb_krbtgt:*:230:-2::0:0:Open Directory Kerberos Ticket Granting Ticket:/var/empty:/usr/bin/false\\n',\n",
       " '_krb_kadmin:*:231:-2::0:0:Open Directory Kerberos Admin Service:/var/empty:/usr/bin/false\\n',\n",
       " '_krb_changepw:*:232:-2::0:0:Open Directory Kerberos Change Password Service:/var/empty:/usr/bin/false\\n',\n",
       " '_krb_kerberos:*:233:-2::0:0:Open Directory Kerberos:/var/empty:/usr/bin/false\\n',\n",
       " '_krb_anonymous:*:234:-2::0:0:Open Directory Kerberos Anonymous:/var/empty:/usr/bin/false\\n',\n",
       " '_assetcache:*:235:235::0:0:Asset Cache Service:/var/empty:/usr/bin/false\\n',\n",
       " '_coremediaiod:*:236:236::0:0:Core Media IO Daemon:/var/empty:/usr/bin/false\\n',\n",
       " '_xcsbuildagent:*:237:237::0:0:Xcode Server Build Agent:/var/empty:/usr/bin/false\\n',\n",
       " '_xcscredserver:*:238:238::0:0:Xcode Server Credential Server:/var/empty:/usr/bin/false\\n',\n",
       " '_launchservicesd:*:239:239::0:0:_launchservicesd:/var/empty:/usr/bin/false\\n']"
      ]
     },
     "execution_count": 328,
     "metadata": {},
     "output_type": "execute_result"
    }
   ],
   "source": [
    "f.readlines()  # note plural!"
   ]
  },
  {
   "cell_type": "code",
   "execution_count": 329,
   "metadata": {
    "collapsed": false
   },
   "outputs": [
    {
     "name": "stdout",
     "output_type": "stream",
     "text": [
      "##\n",
      "# User Database\n",
      "# \n",
      "# Note that this file is consulted directly only when the system is running\n",
      "# in single-user mode.  At other times this information is provided by\n",
      "# Open Directory.\n",
      "#\n",
      "# See the opendirectoryd(8) man page for additional information about\n",
      "# Open Directory.\n",
      "##\n",
      "nobody:*:-2:-2::0:0:Unprivileged User:/var/empty:/usr/bin/false\n",
      "root:*:0:0::0:0:System Administrator:/var/root:/bin/sh\n",
      "daemon:*:1:1::0:0:System Services:/var/root:/usr/bin/false\n",
      "_uucp:*:4:4::0:0:Unix to Unix Copy Protocol:/var/spool/uucp:/usr/sbin/uucico\n",
      "_taskgated:*:13:13::0:0:Task Gate Daemon:/var/empty:/usr/bin/false\n",
      "_networkd:*:24:24::0:0:Network Services:/var/networkd:/usr/bin/false\n",
      "_installassistant:*:25:25::0:0:Install Assistant:/var/empty:/usr/bin/false\n",
      "_lp:*:26:26::0:0:Printing Services:/var/spool/cups:/usr/bin/false\n",
      "_postfix:*:27:27::0:0:Postfix Mail Server:/var/spool/postfix:/usr/bin/false\n",
      "_scsd:*:31:31::0:0:Service Configuration Service:/var/empty:/usr/bin/false\n",
      "_ces:*:32:32::0:0:Certificate Enrollment Service:/var/empty:/usr/bin/false\n",
      "_mcxalr:*:54:54::0:0:MCX AppLaunch:/var/empty:/usr/bin/false\n",
      "_appleevents:*:55:55::0:0:AppleEvents Daemon:/var/empty:/usr/bin/false\n",
      "_geod:*:56:56::0:0:Geo Services Daemon:/var/db/geod:/usr/bin/false\n",
      "_serialnumberd:*:58:58::0:0:Serial Number Daemon:/var/empty:/usr/bin/false\n",
      "_devdocs:*:59:59::0:0:Developer Documentation:/var/empty:/usr/bin/false\n",
      "_sandbox:*:60:60::0:0:Seatbelt:/var/empty:/usr/bin/false\n",
      "_mdnsresponder:*:65:65::0:0:mDNSResponder:/var/empty:/usr/bin/false\n",
      "_ard:*:67:67::0:0:Apple Remote Desktop:/var/empty:/usr/bin/false\n",
      "_www:*:70:70::0:0:World Wide Web Server:/Library/WebServer:/usr/bin/false\n",
      "_eppc:*:71:71::0:0:Apple Events User:/var/empty:/usr/bin/false\n",
      "_cvs:*:72:72::0:0:CVS Server:/var/empty:/usr/bin/false\n",
      "_svn:*:73:73::0:0:SVN Server:/var/empty:/usr/bin/false\n",
      "_mysql:*:74:74::0:0:MySQL Server:/var/empty:/usr/bin/false\n",
      "_sshd:*:75:75::0:0:sshd Privilege separation:/var/empty:/usr/bin/false\n",
      "_qtss:*:76:76::0:0:QuickTime Streaming Server:/var/empty:/usr/bin/false\n",
      "_cyrus:*:77:6::0:0:Cyrus Administrator:/var/imap:/usr/bin/false\n",
      "_mailman:*:78:78::0:0:Mailman List Server:/var/empty:/usr/bin/false\n",
      "_appserver:*:79:79::0:0:Application Server:/var/empty:/usr/bin/false\n",
      "_clamav:*:82:82::0:0:ClamAV Daemon:/var/virusmails:/usr/bin/false\n",
      "_amavisd:*:83:83::0:0:AMaViS Daemon:/var/virusmails:/usr/bin/false\n",
      "_jabber:*:84:84::0:0:Jabber XMPP Server:/var/empty:/usr/bin/false\n",
      "_appowner:*:87:87::0:0:Application Owner:/var/empty:/usr/bin/false\n",
      "_windowserver:*:88:88::0:0:WindowServer:/var/empty:/usr/bin/false\n",
      "_spotlight:*:89:89::0:0:Spotlight:/var/empty:/usr/bin/false\n",
      "_tokend:*:91:91::0:0:Token Daemon:/var/empty:/usr/bin/false\n",
      "_securityagent:*:92:92::0:0:SecurityAgent:/var/empty:/usr/bin/false\n",
      "_calendar:*:93:93::0:0:Calendar:/var/empty:/usr/bin/false\n",
      "_teamsserver:*:94:94::0:0:TeamsServer:/var/teamsserver:/usr/bin/false\n",
      "_update_sharing:*:95:-2::0:0:Update Sharing:/var/empty:/usr/bin/false\n",
      "_installer:*:96:-2::0:0:Installer:/var/empty:/usr/bin/false\n",
      "_atsserver:*:97:97::0:0:ATS Server:/var/empty:/usr/bin/false\n",
      "_ftp:*:98:-2::0:0:FTP Daemon:/var/empty:/usr/bin/false\n",
      "_unknown:*:99:99::0:0:Unknown User:/var/empty:/usr/bin/false\n",
      "_softwareupdate:*:200:200::0:0:Software Update Service:/var/empty:/usr/bin/false\n",
      "_coreaudiod:*:202:202::0:0:Core Audio Daemon:/var/empty:/usr/bin/false\n",
      "_screensaver:*:203:203::0:0:Screensaver:/var/empty:/usr/bin/false\n",
      "_locationd:*:205:205::0:0:Location Daemon:/var/db/locationd:/usr/bin/false\n",
      "_trustevaluationagent:*:208:208::0:0:Trust Evaluation Agent:/var/empty:/usr/bin/false\n",
      "_timezone:*:210:210::0:0:AutoTimeZoneDaemon:/var/empty:/usr/bin/false\n",
      "_lda:*:211:211::0:0:Local Delivery Agent:/var/empty:/usr/bin/false\n",
      "_cvmsroot:*:212:212::0:0:CVMS Root:/var/empty:/usr/bin/false\n",
      "_usbmuxd:*:213:213::0:0:iPhone OS Device Helper:/var/db/lockdown:/usr/bin/false\n",
      "_dovecot:*:214:6::0:0:Dovecot Administrator:/var/empty:/usr/bin/false\n",
      "_dpaudio:*:215:215::0:0:DP Audio:/var/empty:/usr/bin/false\n",
      "_postgres:*:216:216::0:0:PostgreSQL Server:/var/empty:/usr/bin/false\n",
      "_krbtgt:*:217:-2::0:0:Kerberos Ticket Granting Ticket:/var/empty:/usr/bin/false\n",
      "_kadmin_admin:*:218:-2::0:0:Kerberos Admin Service:/var/empty:/usr/bin/false\n",
      "_kadmin_changepw:*:219:-2::0:0:Kerberos Change Password Service:/var/empty:/usr/bin/false\n",
      "_devicemgr:*:220:220::0:0:Device Management Server:/var/empty:/usr/bin/false\n",
      "_webauthserver:*:221:221::0:0:Web Auth Server:/var/empty:/usr/bin/false\n",
      "_netbios:*:222:222::0:0:NetBIOS:/var/empty:/usr/bin/false\n",
      "_warmd:*:224:224::0:0:Warm Daemon:/var/empty:/usr/bin/false\n",
      "_dovenull:*:227:227::0:0:Dovecot Authentication:/var/empty:/usr/bin/false\n",
      "_netstatistics:*:228:228::0:0:Network Statistics Daemon:/var/empty:/usr/bin/false\n",
      "_avbdeviced:*:229:-2::0:0:Ethernet AVB Device Daemon:/var/empty:/usr/bin/false\n",
      "_krb_krbtgt:*:230:-2::0:0:Open Directory Kerberos Ticket Granting Ticket:/var/empty:/usr/bin/false\n",
      "_krb_kadmin:*:231:-2::0:0:Open Directory Kerberos Admin Service:/var/empty:/usr/bin/false\n",
      "_krb_changepw:*:232:-2::0:0:Open Directory Kerberos Change Password Service:/var/empty:/usr/bin/false\n",
      "_krb_kerberos:*:233:-2::0:0:Open Directory Kerberos:/var/empty:/usr/bin/false\n",
      "_krb_anonymous:*:234:-2::0:0:Open Directory Kerberos Anonymous:/var/empty:/usr/bin/false\n",
      "_assetcache:*:235:235::0:0:Asset Cache Service:/var/empty:/usr/bin/false\n",
      "_coremediaiod:*:236:236::0:0:Core Media IO Daemon:/var/empty:/usr/bin/false\n",
      "_xcsbuildagent:*:237:237::0:0:Xcode Server Build Agent:/var/empty:/usr/bin/false\n",
      "_xcscredserver:*:238:238::0:0:Xcode Server Credential Server:/var/empty:/usr/bin/false\n",
      "_launchservicesd:*:239:239::0:0:_launchservicesd:/var/empty:/usr/bin/false\n"
     ]
    }
   ],
   "source": [
    "f.seek(0)\n",
    "for line in f:\n",
    "    print line,"
   ]
  },
  {
   "cell_type": "code",
   "execution_count": 334,
   "metadata": {
    "collapsed": false
   },
   "outputs": [
    {
     "name": "stdout",
     "output_type": "stream",
     "text": [
      "nobody\n",
      "root\n",
      "daemon\n",
      "_uucp\n",
      "_taskgated\n",
      "_networkd\n",
      "_installassistant\n",
      "_lp\n",
      "_postfix\n",
      "_scsd\n",
      "_ces\n",
      "_mcxalr\n",
      "_appleevents\n",
      "_geod\n",
      "_serialnumberd\n",
      "_devdocs\n",
      "_sandbox\n",
      "_mdnsresponder\n",
      "_ard\n",
      "_www\n",
      "_eppc\n",
      "_cvs\n",
      "_svn\n",
      "_mysql\n",
      "_sshd\n",
      "_qtss\n",
      "_cyrus\n",
      "_mailman\n",
      "_appserver\n",
      "_clamav\n",
      "_amavisd\n",
      "_jabber\n",
      "_appowner\n",
      "_windowserver\n",
      "_spotlight\n",
      "_tokend\n",
      "_securityagent\n",
      "_calendar\n",
      "_teamsserver\n",
      "_update_sharing\n",
      "_installer\n",
      "_atsserver\n",
      "_ftp\n",
      "_unknown\n",
      "_softwareupdate\n",
      "_coreaudiod\n",
      "_screensaver\n",
      "_locationd\n",
      "_trustevaluationagent\n",
      "_timezone\n",
      "_lda\n",
      "_cvmsroot\n",
      "_usbmuxd\n",
      "_dovecot\n",
      "_dpaudio\n",
      "_postgres\n",
      "_krbtgt\n",
      "_kadmin_admin\n",
      "_kadmin_changepw\n",
      "_devicemgr\n",
      "_webauthserver\n",
      "_netbios\n",
      "_warmd\n",
      "_dovenull\n",
      "_netstatistics\n",
      "_avbdeviced\n",
      "_krb_krbtgt\n",
      "_krb_kadmin\n",
      "_krb_changepw\n",
      "_krb_kerberos\n",
      "_krb_anonymous\n",
      "_assetcache\n",
      "_coremediaiod\n",
      "_xcsbuildagent\n",
      "_xcscredserver\n",
      "_launchservicesd\n"
     ]
    }
   ],
   "source": [
    "for line in open('/etc/passwd'):\n",
    "#     if line[0] != '#':\n",
    "    if not line.startswith(\"#\"):\n",
    "        print line.split(\":\")[0]"
   ]
  },
  {
   "cell_type": "code",
   "execution_count": 335,
   "metadata": {
    "collapsed": false
   },
   "outputs": [
    {
     "data": {
      "text/plain": [
       "<open file '/etc/passwd', mode 'r' at 0x10de6e5d0>"
      ]
     },
     "execution_count": 335,
     "metadata": {},
     "output_type": "execute_result"
    }
   ],
   "source": [
    "f"
   ]
  },
  {
   "cell_type": "code",
   "execution_count": 336,
   "metadata": {
    "collapsed": false
   },
   "outputs": [
    {
     "ename": "IOError",
     "evalue": "File not open for writing",
     "traceback": [
      "\u001b[0;31m---------------------------------------------------------------------------\u001b[0m",
      "\u001b[0;31mIOError\u001b[0m                                   Traceback (most recent call last)",
      "\u001b[0;32m<ipython-input-336-cd7fff53b2a7>\u001b[0m in \u001b[0;36m<module>\u001b[0;34m()\u001b[0m\n\u001b[0;32m----> 1\u001b[0;31m \u001b[0mf\u001b[0m\u001b[0;34m.\u001b[0m\u001b[0mwrite\u001b[0m\u001b[0;34m(\u001b[0m\u001b[0;34m'abc'\u001b[0m\u001b[0;34m)\u001b[0m\u001b[0;34m\u001b[0m\u001b[0m\n\u001b[0m",
      "\u001b[0;31mIOError\u001b[0m: File not open for writing"
     ],
     "output_type": "error"
    }
   ],
   "source": [
    "f.write('abc')"
   ]
  },
  {
   "cell_type": "code",
   "execution_count": 337,
   "metadata": {
    "collapsed": false
   },
   "outputs": [
    {
     "data": {
      "text/plain": [
       "<open file '/tmp/testfile', mode 'w' at 0x10de6e660>"
      ]
     },
     "execution_count": 337,
     "metadata": {},
     "output_type": "execute_result"
    }
   ],
   "source": [
    "f = open('/tmp/testfile', 'w')\n",
    "f"
   ]
  },
  {
   "cell_type": "code",
   "execution_count": 338,
   "metadata": {
    "collapsed": false
   },
   "outputs": [
    {
     "ename": "IOError",
     "evalue": "File not open for reading",
     "traceback": [
      "\u001b[0;31m---------------------------------------------------------------------------\u001b[0m",
      "\u001b[0;31mIOError\u001b[0m                                   Traceback (most recent call last)",
      "\u001b[0;32m<ipython-input-338-bacd0e0f09a3>\u001b[0m in \u001b[0;36m<module>\u001b[0;34m()\u001b[0m\n\u001b[0;32m----> 1\u001b[0;31m \u001b[0mf\u001b[0m\u001b[0;34m.\u001b[0m\u001b[0mread\u001b[0m\u001b[0;34m(\u001b[0m\u001b[0;34m)\u001b[0m\u001b[0;34m\u001b[0m\u001b[0m\n\u001b[0m",
      "\u001b[0;31mIOError\u001b[0m: File not open for reading"
     ],
     "output_type": "error"
    }
   ],
   "source": [
    "f.read()"
   ]
  },
  {
   "cell_type": "code",
   "execution_count": 339,
   "metadata": {
    "collapsed": true
   },
   "outputs": [],
   "source": [
    "f.write('abc\\n')"
   ]
  },
  {
   "cell_type": "code",
   "execution_count": 340,
   "metadata": {
    "collapsed": true
   },
   "outputs": [],
   "source": [
    "f.write('def\\n')"
   ]
  },
  {
   "cell_type": "code",
   "execution_count": 341,
   "metadata": {
    "collapsed": true
   },
   "outputs": [],
   "source": [
    "%cat /tmp/testfile"
   ]
  },
  {
   "cell_type": "code",
   "execution_count": 342,
   "metadata": {
    "collapsed": true
   },
   "outputs": [],
   "source": [
    "f.flush()   # flush buffers to disk"
   ]
  },
  {
   "cell_type": "code",
   "execution_count": 343,
   "metadata": {
    "collapsed": false
   },
   "outputs": [
    {
     "name": "stdout",
     "output_type": "stream",
     "text": [
      "abc\r\n",
      "def\r\n"
     ]
    }
   ],
   "source": [
    "%cat /tmp/testfile"
   ]
  },
  {
   "cell_type": "code",
   "execution_count": 344,
   "metadata": {
    "collapsed": true
   },
   "outputs": [],
   "source": [
    "f.close()  # closes + flushes"
   ]
  },
  {
   "cell_type": "code",
   "execution_count": 345,
   "metadata": {
    "collapsed": true
   },
   "outputs": [],
   "source": [
    "with open('/tmp/testfile', 'w') as f:\n",
    "    f.write('abcdef 16:13\\n')\n",
    "    f.write('ghijkl 16:13\\n')"
   ]
  },
  {
   "cell_type": "code",
   "execution_count": 346,
   "metadata": {
    "collapsed": false
   },
   "outputs": [
    {
     "data": {
      "text/plain": [
       "<closed file '/tmp/testfile', mode 'w' at 0x10de6e780>"
      ]
     },
     "execution_count": 346,
     "metadata": {},
     "output_type": "execute_result"
    }
   ],
   "source": [
    "f"
   ]
  },
  {
   "cell_type": "code",
   "execution_count": 347,
   "metadata": {
    "collapsed": false
   },
   "outputs": [
    {
     "name": "stdout",
     "output_type": "stream",
     "text": [
      "4\n",
      "4\n",
      "4\n",
      "8\n",
      "9\n",
      "21\n",
      "18\n",
      "19\n"
     ]
    }
   ],
   "source": [
    "for line in open('Files/unixtext.txt'):\n",
    "    print len(line)"
   ]
  },
  {
   "cell_type": "code",
   "execution_count": 348,
   "metadata": {
    "collapsed": false
   },
   "outputs": [
    {
     "name": "stdout",
     "output_type": "stream",
     "text": [
      "5\n",
      "5\n",
      "5\n",
      "9\n",
      "10\n",
      "22\n",
      "19\n",
      "20\n"
     ]
    }
   ],
   "source": [
    "for line in open('Files/dostext.txt'):\n",
    "    print len(line)"
   ]
  },
  {
   "cell_type": "code",
   "execution_count": 349,
   "metadata": {
    "collapsed": false
   },
   "outputs": [
    {
     "name": "stdout",
     "output_type": "stream",
     "text": [
      "4\n",
      "4\n",
      "4\n",
      "8\n",
      "9\n",
      "21\n",
      "18\n",
      "19\n"
     ]
    }
   ],
   "source": [
    "for line in open('Files/unixtext.txt', 'U'):\n",
    "    print len(line)"
   ]
  },
  {
   "cell_type": "code",
   "execution_count": 350,
   "metadata": {
    "collapsed": false
   },
   "outputs": [
    {
     "data": {
      "text/plain": [
       "['a', 'c', 'b']"
      ]
     },
     "execution_count": 350,
     "metadata": {},
     "output_type": "execute_result"
    }
   ],
   "source": [
    "d = {'a':1, 'b':2, 'c':3}\n",
    "d.keys()"
   ]
  },
  {
   "cell_type": "code",
   "execution_count": 351,
   "metadata": {
    "collapsed": false
   },
   "outputs": [
    {
     "data": {
      "text/plain": [
       "{'a', 'b', 'c'}"
      ]
     },
     "execution_count": 351,
     "metadata": {},
     "output_type": "execute_result"
    }
   ],
   "source": [
    "set(d.keys())"
   ]
  },
  {
   "cell_type": "code",
   "execution_count": 352,
   "metadata": {
    "collapsed": false
   },
   "outputs": [
    {
     "data": {
      "text/plain": [
       "{1, 2, 3}"
      ]
     },
     "execution_count": 352,
     "metadata": {},
     "output_type": "execute_result"
    }
   ],
   "source": [
    "set(d.values())"
   ]
  },
  {
   "cell_type": "code",
   "execution_count": 353,
   "metadata": {
    "collapsed": false
   },
   "outputs": [
    {
     "data": {
      "text/plain": [
       "{1, 2, 3, 4}"
      ]
     },
     "execution_count": 353,
     "metadata": {},
     "output_type": "execute_result"
    }
   ],
   "source": [
    "d = {'a':1, 'b':2, 'c':3, 'd':1, 'e':2, 'f':4}\n",
    "set(d.values())"
   ]
  },
  {
   "cell_type": "code",
   "execution_count": 360,
   "metadata": {
    "collapsed": false
   },
   "outputs": [
    {
     "name": "stdout",
     "output_type": "stream",
     "text": [
      "46 10\n",
      "46 10\n",
      "46 10\n",
      "107 10\n"
     ]
    }
   ],
   "source": [
    "for line in open('myfile.txt', 'U'):\n",
    "    print ord(line[-2]), ord(line[-1])"
   ]
  },
  {
   "cell_type": "code",
   "execution_count": 366,
   "metadata": {
    "collapsed": false
   },
   "outputs": [
    {
     "name": "stdout",
     "output_type": "stream",
     "text": [
      "0\n",
      "\t0 T\n",
      "\t1 h\n",
      "\t2 i\n",
      "\t3 s\n",
      "\t4  \n",
      "\t5 i\n",
      "\t6 s\n",
      "\t7  \n",
      "\t8 i\n",
      "\t9 n\n",
      "\t10  \n",
      "\t11 E\n",
      "\t12 n\n",
      "\t13 g\n",
      "\t14 l\n",
      "\t15 i\n",
      "\t16 s\n",
      "\t17 h\n",
      "\t18 \n",
      "\n",
      "1\n",
      "\t0 ז\n",
      "\t1 ה\n",
      "\t2  \n",
      "\t3 כ\n",
      "\t4 ת\n",
      "\t5 ו\n",
      "\t6 ב\n",
      "\t7  \n",
      "\t8 ב\n",
      "\t9 ע\n",
      "\t10 ב\n",
      "\t11 ר\n",
      "\t12 י\n",
      "\t13 ת\n",
      "\t14 \n",
      "\n",
      "2\n",
      "\t0 这\n",
      "\t1 个\n",
      "\t2 是\n",
      "\t3 中\n",
      "\t4 文\n",
      "\t5 \n",
      "\n"
     ]
    }
   ],
   "source": [
    "import codecs\n",
    "f = codecs.open('Files/unicode.txt', encoding='utf-8')\n",
    "for index, line in enumerate(f):\n",
    "    print index\n",
    "    for char_index, char in enumerate(line):\n",
    "        print u\"\\t{} {}\".format(char_index, char)"
   ]
  },
  {
   "cell_type": "code",
   "execution_count": null,
   "metadata": {
    "collapsed": true
   },
   "outputs": [],
   "source": [
    ""
   ]
  }
 ],
 "metadata": {
  "kernelspec": {
   "display_name": "Python 2",
   "language": "python",
   "name": "python2"
  },
  "language_info": {
   "codemirror_mode": {
    "name": "ipython",
    "version": 2.0
   },
   "file_extension": ".py",
   "mimetype": "text/x-python",
   "name": "python",
   "nbconvert_exporter": "python",
   "pygments_lexer": "ipython2",
   "version": "2.7.12"
  }
 },
 "nbformat": 4,
 "nbformat_minor": 0
}