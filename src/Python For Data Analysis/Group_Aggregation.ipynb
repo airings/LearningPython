{
 "cells": [
  {
   "cell_type": "code",
   "execution_count": 2,
   "metadata": {
    "collapsed": true
   },
   "outputs": [
    {
     "data": {
      "text/plain": [
       "array([[  1.83,  47.3 ],\n       [  1.69,  79.96],\n       [  1.9 ,  51.85],\n       ..., \n       [  1.65,  98.08],\n       [  1.75,  55.92],\n       [  1.82,  35.98]])"
      ]
     },
     "execution_count": 2,
     "metadata": {},
     "output_type": "execute_result"
    }
   ],
   "source": [
    "import numpy as np\n",
    "height = np.round(np.random.normal(1.75, 0.20, 5000), 2)\n",
    "weight = np.round(np.random.normal(60.32, 15, 5000), 2)\n",
    "np_city = np.column_stack((height, weight))\n",
    "np_city"
   ]
  },
  {
   "cell_type": "code",
   "execution_count": 13,
   "metadata": {},
   "outputs": [
    {
     "data": {
      "text/plain": [
       "array([[7, 8],\n       [7, 0],\n       [5, 6],\n       [4, 1],\n       [5, 6],\n       [5, 3],\n       [5, 4],\n       [7, 2]])"
      ]
     },
     "execution_count": 13,
     "metadata": {},
     "output_type": "execute_result"
    }
   ],
   "source": [
    "x = np.array([7, 7, 5, 4, 5, 5, 5, 7])\n",
    "y = np.array([8, 0, 6, 1, 6, 3, 4, 2])\n",
    "cols = np.column_stack((x,y))\n",
    "cols"
   ]
  },
  {
   "cell_type": "code",
   "execution_count": 46,
   "metadata": {},
   "outputs": [
    {
     "name": "stdout",
     "output_type": "stream",
     "text": [
      "[[ 3  9  5]\n [ 6 20  8]\n [11 17 20]]\n[ 6 20]\n[[ 6 20]]\n"
     ]
    }
   ],
   "source": [
    "import numpy as np\n",
    "x = [3, 6, 11]\n",
    "y = [9, 20, 17]\n",
    "z = [5,8,20]\n",
    "np_2d = np.array([x, y])\n",
    "# print(np_2d)\n",
    "np_cols = np.column_stack((x,y,z))\n",
    "print(np_cols)\n",
    "print np_cols[1,:2]\n",
    "print np_cols[1:2,:2]"
   ]
  },
  {
   "cell_type": "code",
   "execution_count": 16,
   "metadata": {},
   "outputs": [
    {
     "name": "stdout",
     "output_type": "stream",
     "text": [
      "[[ 1 94]\n [ 2 87]\n [ 3 81]\n [ 4 96]\n [ 5 97]\n [ 6 92]]\n[[ 1  2  3  4  5  6]\n [94 87 81 96 97 92]]\n"
     ]
    }
   ],
   "source": [
    "import numpy as np\n",
    "store = [1, 2, 3, 4, 5, 6]\n",
    "cost = [94, 87, 81, 96, 97, 92]\n",
    "np_cols = np.column_stack((store, cost))\n",
    "np_rows = np.array([store,cost])\n",
    "print(np_cols)\n",
    "print(np_rows)"
   ]
  },
  {
   "cell_type": "code",
   "execution_count": 22,
   "metadata": {},
   "outputs": [
    {
     "data": {
      "text/plain": [
       "[[3, 6, 11], [9, 20, 17]]"
      ]
     },
     "execution_count": 22,
     "metadata": {},
     "output_type": "execute_result"
    }
   ],
   "source": [
    "z = [x,y]\n",
    "z"
   ]
  },
  {
   "cell_type": "code",
   "execution_count": 43,
   "metadata": {},
   "outputs": [
    {
     "data": {
      "text/plain": [
       "11"
      ]
     },
     "execution_count": 43,
     "metadata": {},
     "output_type": "execute_result"
    }
   ],
   "source": [
    "z[:1][0][2]"
   ]
  },
  {
   "cell_type": "code",
   "execution_count": 50,
   "metadata": {},
   "outputs": [
    {
     "name": "stdout",
     "output_type": "stream",
     "text": [
      "[[-5 -4 -3 -2 -1  0  1  2  3  4]\n [-5 -4 -3 -2 -1  0  1  2  3  4]\n [-5 -4 -3 -2 -1  0  1  2  3  4]\n [-5 -4 -3 -2 -1  0  1  2  3  4]\n [-5 -4 -3 -2 -1  0  1  2  3  4]\n [-5 -4 -3 -2 -1  0  1  2  3  4]\n [-5 -4 -3 -2 -1  0  1  2  3  4]\n [-5 -4 -3 -2 -1  0  1  2  3  4]\n [-5 -4 -3 -2 -1  0  1  2  3  4]\n [-5 -4 -3 -2 -1  0  1  2  3  4]]\n[[-5 -5 -5 -5 -5 -5 -5 -5 -5 -5]\n [-4 -4 -4 -4 -4 -4 -4 -4 -4 -4]\n [-3 -3 -3 -3 -3 -3 -3 -3 -3 -3]\n [-2 -2 -2 -2 -2 -2 -2 -2 -2 -2]\n [-1 -1 -1 -1 -1 -1 -1 -1 -1 -1]\n [ 0  0  0  0  0  0  0  0  0  0]\n [ 1  1  1  1  1  1  1  1  1  1]\n [ 2  2  2  2  2  2  2  2  2  2]\n [ 3  3  3  3  3  3  3  3  3  3]\n [ 4  4  4  4  4  4  4  4  4  4]]\n"
     ]
    }
   ],
   "source": [
    "points = np.arange(-5,5,1)\n",
    "xs,ys = np.meshgrid(points,points)\n",
    "print xs\n",
    "print ys"
   ]
  },
  {
   "cell_type": "code",
   "execution_count": 55,
   "metadata": {},
   "outputs": [
    {
     "name": "stdout",
     "output_type": "stream",
     "text": [
      "[[ 1.20953485 -2.16533631 -1.52436574 -1.61915239]\n [-0.66445606  0.03924831  0.09892668  0.21937996]\n [ 0.27515232 -2.17822032 -0.11632626 -1.40534934]\n [-0.93871459  0.86213491 -1.14426009  0.39380504]\n [ 0.12713805  1.35296188 -1.19484839 -0.22641163]]\n"
     ]
    },
    {
     "data": {
      "text/plain": [
       "array([-4.09931959, -0.30690112, -3.4247436 , -0.82703473,  0.05883991])"
      ]
     },
     "execution_count": 55,
     "metadata": {},
     "output_type": "execute_result"
    }
   ],
   "source": [
    "arr = np.random.randn(5,4)\n",
    "print arr\n",
    "arr.sum(1)"
   ]
  },
  {
   "cell_type": "code",
   "execution_count": 59,
   "metadata": {},
   "outputs": [
    {
     "data": {
      "text/plain": [
       "array([0, 0, 0, 1, 1, 0, 0, 0, 1, 0])"
      ]
     },
     "execution_count": 59,
     "metadata": {},
     "output_type": "execute_result"
    }
   ],
   "source": [
    "np.random.randint(0,2,size=10)"
   ]
  },
  {
   "cell_type": "code",
   "execution_count": 74,
   "metadata": {},
   "outputs": [
    {
     "data": {
      "text/html": [
       "<div>\n",
       "<table border=\"1\" class=\"dataframe\">\n",
       "  <thead>\n",
       "    <tr style=\"text-align: right;\">\n",
       "      <th></th>\n",
       "      <th>a</th>\n",
       "      <th>b</th>\n",
       "      <th>c</th>\n",
       "    </tr>\n",
       "  </thead>\n",
       "  <tbody>\n",
       "    <tr>\n",
       "      <th>Jan</th>\n",
       "      <td>1.209535</td>\n",
       "      <td>-2.165336</td>\n",
       "      <td>-1.524366</td>\n",
       "    </tr>\n",
       "    <tr>\n",
       "      <th>Feb</th>\n",
       "      <td>-0.664456</td>\n",
       "      <td>0.039248</td>\n",
       "      <td>0.098927</td>\n",
       "    </tr>\n",
       "    <tr>\n",
       "      <th>Mar</th>\n",
       "      <td>0.275152</td>\n",
       "      <td>-2.178220</td>\n",
       "      <td>-0.116326</td>\n",
       "    </tr>\n",
       "    <tr>\n",
       "      <th>Apr</th>\n",
       "      <td>-0.938715</td>\n",
       "      <td>0.862135</td>\n",
       "      <td>-1.144260</td>\n",
       "    </tr>\n",
       "    <tr>\n",
       "      <th>May</th>\n",
       "      <td>0.127138</td>\n",
       "      <td>1.352962</td>\n",
       "      <td>-1.194848</td>\n",
       "    </tr>\n",
       "  </tbody>\n",
       "</table>\n",
       "</div>"
      ],
      "text/plain": [
       "<div>\n",
       "<table border=\"1\" class=\"dataframe\">\n",
       "  <thead>\n",
       "    <tr style=\"text-align: right;\">\n",
       "      <th></th>\n",
       "      <th>a</th>\n",
       "      <th>b</th>\n",
       "      <th>c</th>\n",
       "    </tr>\n",
       "  </thead>\n",
       "  <tbody>\n",
       "    <tr>\n",
       "      <th>Jan</th>\n",
       "      <td>1.209535</td>\n",
       "      <td>-2.165336</td>\n",
       "      <td>-1.524366</td>\n",
       "    </tr>\n",
       "    <tr>\n",
       "      <th>Feb</th>\n",
       "      <td>-0.664456</td>\n",
       "      <td>0.039248</td>\n",
       "      <td>0.098927</td>\n",
       "    </tr>\n",
       "    <tr>\n",
       "      <th>Mar</th>\n",
       "      <td>0.275152</td>\n",
       "      <td>-2.178220</td>\n",
       "      <td>-0.116326</td>\n",
       "    </tr>\n",
       "    <tr>\n",
       "      <th>Apr</th>\n",
       "      <td>-0.938715</td>\n",
       "      <td>0.862135</td>\n",
       "      <td>-1.144260</td>\n",
       "    </tr>\n",
       "    <tr>\n",
       "      <th>May</th>\n",
       "      <td>0.127138</td>\n",
       "      <td>1.352962</td>\n",
       "      <td>-1.194848</td>\n",
       "    </tr>\n",
       "  </tbody>\n",
       "</table>\n",
       "</div>"
      ]
     },
     "execution_count": 74,
     "metadata": {},
     "output_type": "execute_result"
    }
   ],
   "source": [
    "import pandas as pd\n",
    "df = pd.DataFrame(arr)\n",
    "df.columns = ['a', 'b', 'c', 'd']\n",
    "df.index = ['Jan', 'Feb', 'Mar', 'Apr', 'May']\n",
    "df['Jan': 'Apr']\n",
    "df.loc[:,'a':'c']"
   ]
  },
  {
   "cell_type": "code",
   "execution_count": 101,
   "metadata": {},
   "outputs": [
    {
     "data": {
      "text/html": [
       "<div>\n",
       "<table border=\"1\" class=\"dataframe\">\n",
       "  <thead>\n",
       "    <tr style=\"text-align: right;\">\n",
       "      <th></th>\n",
       "      <th>A</th>\n",
       "      <th>B</th>\n",
       "      <th>C</th>\n",
       "      <th>D</th>\n",
       "    </tr>\n",
       "  </thead>\n",
       "  <tbody>\n",
       "    <tr>\n",
       "      <th>a</th>\n",
       "      <td>0.824961</td>\n",
       "      <td>-0.863939</td>\n",
       "      <td>0.563155</td>\n",
       "      <td>-0.036780</td>\n",
       "    </tr>\n",
       "    <tr>\n",
       "      <th>b</th>\n",
       "      <td>0.700796</td>\n",
       "      <td>0.384699</td>\n",
       "      <td>-1.307045</td>\n",
       "      <td>-0.145695</td>\n",
       "    </tr>\n",
       "    <tr>\n",
       "      <th>d</th>\n",
       "      <td>-0.075030</td>\n",
       "      <td>1.482830</td>\n",
       "      <td>-0.719811</td>\n",
       "      <td>0.271505</td>\n",
       "    </tr>\n",
       "  </tbody>\n",
       "</table>\n",
       "</div>"
      ],
      "text/plain": [
       "<div>\n",
       "<table border=\"1\" class=\"dataframe\">\n",
       "  <thead>\n",
       "    <tr style=\"text-align: right;\">\n",
       "      <th></th>\n",
       "      <th>A</th>\n",
       "      <th>B</th>\n",
       "      <th>C</th>\n",
       "      <th>D</th>\n",
       "    </tr>\n",
       "  </thead>\n",
       "  <tbody>\n",
       "    <tr>\n",
       "      <th>a</th>\n",
       "      <td>0.824961</td>\n",
       "      <td>-0.863939</td>\n",
       "      <td>0.563155</td>\n",
       "      <td>-0.036780</td>\n",
       "    </tr>\n",
       "    <tr>\n",
       "      <th>b</th>\n",
       "      <td>0.700796</td>\n",
       "      <td>0.384699</td>\n",
       "      <td>-1.307045</td>\n",
       "      <td>-0.145695</td>\n",
       "    </tr>\n",
       "    <tr>\n",
       "      <th>d</th>\n",
       "      <td>-0.075030</td>\n",
       "      <td>1.482830</td>\n",
       "      <td>-0.719811</td>\n",
       "      <td>0.271505</td>\n",
       "    </tr>\n",
       "  </tbody>\n",
       "</table>\n",
       "</div>"
      ]
     },
     "execution_count": 101,
     "metadata": {},
     "output_type": "execute_result"
    }
   ],
   "source": [
    "df1 = pd.DataFrame(np.random.randn(6,4),index=list('abcdef'), columns=list('ABCD'))\n",
    "df1.loc[['a', 'b', 'd']]\n",
    "# df1.loc['a':'b']"
   ]
  },
  {
   "cell_type": "code",
   "execution_count": 85,
   "metadata": {},
   "outputs": [
    {
     "data": {
      "text/html": [
       "<div>\n",
       "<table border=\"1\" class=\"dataframe\">\n",
       "  <thead>\n",
       "    <tr style=\"text-align: right;\">\n",
       "      <th></th>\n",
       "      <th></th>\n",
       "      <th>0</th>\n",
       "      <th>1</th>\n",
       "      <th>2</th>\n",
       "      <th>3</th>\n",
       "    </tr>\n",
       "  </thead>\n",
       "  <tbody>\n",
       "    <tr>\n",
       "      <th rowspan=\"2\" valign=\"top\">bar</th>\n",
       "      <th>one</th>\n",
       "      <td>-0.807797</td>\n",
       "      <td>-0.957671</td>\n",
       "      <td>2.324870</td>\n",
       "      <td>-0.990436</td>\n",
       "    </tr>\n",
       "    <tr>\n",
       "      <th>two</th>\n",
       "      <td>-0.873134</td>\n",
       "      <td>-0.036077</td>\n",
       "      <td>0.183158</td>\n",
       "      <td>2.297430</td>\n",
       "    </tr>\n",
       "    <tr>\n",
       "      <th rowspan=\"2\" valign=\"top\">baz</th>\n",
       "      <th>one</th>\n",
       "      <td>0.271280</td>\n",
       "      <td>0.185403</td>\n",
       "      <td>-1.052771</td>\n",
       "      <td>0.908068</td>\n",
       "    </tr>\n",
       "    <tr>\n",
       "      <th>two</th>\n",
       "      <td>-0.153225</td>\n",
       "      <td>0.690233</td>\n",
       "      <td>-0.879029</td>\n",
       "      <td>-0.412407</td>\n",
       "    </tr>\n",
       "    <tr>\n",
       "      <th rowspan=\"2\" valign=\"top\">foo</th>\n",
       "      <th>one</th>\n",
       "      <td>0.561014</td>\n",
       "      <td>1.791097</td>\n",
       "      <td>-0.101980</td>\n",
       "      <td>0.205601</td>\n",
       "    </tr>\n",
       "    <tr>\n",
       "      <th>two</th>\n",
       "      <td>-0.202219</td>\n",
       "      <td>1.263018</td>\n",
       "      <td>-0.698919</td>\n",
       "      <td>0.633629</td>\n",
       "    </tr>\n",
       "    <tr>\n",
       "      <th rowspan=\"2\" valign=\"top\">qux</th>\n",
       "      <th>one</th>\n",
       "      <td>0.606539</td>\n",
       "      <td>-1.110295</td>\n",
       "      <td>-0.027826</td>\n",
       "      <td>0.243018</td>\n",
       "    </tr>\n",
       "    <tr>\n",
       "      <th>two</th>\n",
       "      <td>1.233994</td>\n",
       "      <td>-0.835786</td>\n",
       "      <td>2.245231</td>\n",
       "      <td>-1.068872</td>\n",
       "    </tr>\n",
       "  </tbody>\n",
       "</table>\n",
       "</div>"
      ],
      "text/plain": [
       "<div>\n",
       "<table border=\"1\" class=\"dataframe\">\n",
       "  <thead>\n",
       "    <tr style=\"text-align: right;\">\n",
       "      <th></th>\n",
       "      <th></th>\n",
       "      <th>0</th>\n",
       "      <th>1</th>\n",
       "      <th>2</th>\n",
       "      <th>3</th>\n",
       "    </tr>\n",
       "  </thead>\n",
       "  <tbody>\n",
       "    <tr>\n",
       "      <th rowspan=\"2\" valign=\"top\">bar</th>\n",
       "      <th>one</th>\n",
       "      <td>-0.807797</td>\n",
       "      <td>-0.957671</td>\n",
       "      <td>2.324870</td>\n",
       "      <td>-0.990436</td>\n",
       "    </tr>\n",
       "    <tr>\n",
       "      <th>two</th>\n",
       "      <td>-0.873134</td>\n",
       "      <td>-0.036077</td>\n",
       "      <td>0.183158</td>\n",
       "      <td>2.297430</td>\n",
       "    </tr>\n",
       "    <tr>\n",
       "      <th rowspan=\"2\" valign=\"top\">baz</th>\n",
       "      <th>one</th>\n",
       "      <td>0.271280</td>\n",
       "      <td>0.185403</td>\n",
       "      <td>-1.052771</td>\n",
       "      <td>0.908068</td>\n",
       "    </tr>\n",
       "    <tr>\n",
       "      <th>two</th>\n",
       "      <td>-0.153225</td>\n",
       "      <td>0.690233</td>\n",
       "      <td>-0.879029</td>\n",
       "      <td>-0.412407</td>\n",
       "    </tr>\n",
       "    <tr>\n",
       "      <th rowspan=\"2\" valign=\"top\">foo</th>\n",
       "      <th>one</th>\n",
       "      <td>0.561014</td>\n",
       "      <td>1.791097</td>\n",
       "      <td>-0.101980</td>\n",
       "      <td>0.205601</td>\n",
       "    </tr>\n",
       "    <tr>\n",
       "      <th>two</th>\n",
       "      <td>-0.202219</td>\n",
       "      <td>1.263018</td>\n",
       "      <td>-0.698919</td>\n",
       "      <td>0.633629</td>\n",
       "    </tr>\n",
       "    <tr>\n",
       "      <th rowspan=\"2\" valign=\"top\">qux</th>\n",
       "      <th>one</th>\n",
       "      <td>0.606539</td>\n",
       "      <td>-1.110295</td>\n",
       "      <td>-0.027826</td>\n",
       "      <td>0.243018</td>\n",
       "    </tr>\n",
       "    <tr>\n",
       "      <th>two</th>\n",
       "      <td>1.233994</td>\n",
       "      <td>-0.835786</td>\n",
       "      <td>2.245231</td>\n",
       "      <td>-1.068872</td>\n",
       "    </tr>\n",
       "  </tbody>\n",
       "</table>\n",
       "</div>"
      ]
     },
     "execution_count": 85,
     "metadata": {},
     "output_type": "execute_result"
    }
   ],
   "source": [
    "arrays = [np.array(['bar', 'bar', 'baz', 'baz', 'foo', 'foo', 'qux', 'qux']),\n",
    "          np.array(['one', 'two', 'one', 'two', 'one', 'two', 'one', 'two'])]\n",
    "df = pd.DataFrame(np.random.randn(8, 4), index=arrays)\n",
    "df.loc[(['bar','qux'], 'one'),:]\n",
    "# df.loc[(['bar','qux'], 'one')]"
   ]
  },
  {
   "cell_type": "code",
   "execution_count": 99,
   "metadata": {},
   "outputs": [
    {
     "data": {
      "text/html": [
       "<div>\n",
       "<table border=\"1\" class=\"dataframe\">\n",
       "  <thead>\n",
       "    <tr style=\"text-align: right;\">\n",
       "      <th></th>\n",
       "      <th></th>\n",
       "      <th>0</th>\n",
       "      <th>1</th>\n",
       "      <th>2</th>\n",
       "      <th>3</th>\n",
       "    </tr>\n",
       "  </thead>\n",
       "  <tbody>\n",
       "    <tr>\n",
       "      <th>bar</th>\n",
       "      <th>one</th>\n",
       "      <td>-0.807797</td>\n",
       "      <td>-0.957671</td>\n",
       "      <td>2.324870</td>\n",
       "      <td>-0.990436</td>\n",
       "    </tr>\n",
       "    <tr>\n",
       "      <th>qux</th>\n",
       "      <th>one</th>\n",
       "      <td>0.606539</td>\n",
       "      <td>-1.110295</td>\n",
       "      <td>-0.027826</td>\n",
       "      <td>0.243018</td>\n",
       "    </tr>\n",
       "  </tbody>\n",
       "</table>\n",
       "</div>"
      ],
      "text/plain": [
       "<div>\n",
       "<table border=\"1\" class=\"dataframe\">\n",
       "  <thead>\n",
       "    <tr style=\"text-align: right;\">\n",
       "      <th></th>\n",
       "      <th></th>\n",
       "      <th>0</th>\n",
       "      <th>1</th>\n",
       "      <th>2</th>\n",
       "      <th>3</th>\n",
       "    </tr>\n",
       "  </thead>\n",
       "  <tbody>\n",
       "    <tr>\n",
       "      <th>bar</th>\n",
       "      <th>one</th>\n",
       "      <td>-0.807797</td>\n",
       "      <td>-0.957671</td>\n",
       "      <td>2.324870</td>\n",
       "      <td>-0.990436</td>\n",
       "    </tr>\n",
       "    <tr>\n",
       "      <th>qux</th>\n",
       "      <th>one</th>\n",
       "      <td>0.606539</td>\n",
       "      <td>-1.110295</td>\n",
       "      <td>-0.027826</td>\n",
       "      <td>0.243018</td>\n",
       "    </tr>\n",
       "  </tbody>\n",
       "</table>\n",
       "</div>"
      ]
     },
     "execution_count": 99,
     "metadata": {},
     "output_type": "execute_result"
    }
   ],
   "source": [
    "df.loc[(['bar','qux'], 'one'),:]"
   ]
  },
  {
   "cell_type": "code",
   "execution_count": 112,
   "metadata": {},
   "outputs": [
    {
     "data": {
      "text/plain": [
       "(array([0, 1, 2, 3, 4, 5]), array([5]))"
      ]
     },
     "execution_count": 112,
     "metadata": {},
     "output_type": "execute_result"
    }
   ],
   "source": [
    "x = np.arange(6)\n",
    "x, x[::-13]"
   ]
  },
  {
   "cell_type": "code",
   "execution_count": null,
   "metadata": {},
   "outputs": [],
   "source": [
    ""
   ]
  }
 ],
 "metadata": {
  "kernelspec": {
   "display_name": "Python 2",
   "language": "python",
   "name": "python2"
  },
  "language_info": {
   "codemirror_mode": {
    "name": "ipython",
    "version": 2.0
   },
   "file_extension": ".py",
   "mimetype": "text/x-python",
   "name": "python",
   "nbconvert_exporter": "python",
   "pygments_lexer": "ipython2",
   "version": "2.7.6"
  }
 },
 "nbformat": 4,
 "nbformat_minor": 0
}